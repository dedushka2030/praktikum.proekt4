{
 "cells": [
  {
   "cell_type": "markdown",
   "metadata": {},
   "source": [
    "<div style=\"border:solid Chocolate 2px; padding: 40px\">\n",
    "\n",
    "Евгений привет, меня зовут Станислав, и я буду проверять твой проект. Предлагаю общаться на «ты», но если это неудобно - дай знать, и мы перейдем на «вы».\n",
    "Это учебный проект и здесь не стоит бояться делать ошибки, я хочу поделиться своим опытом и помочь тебе стать аналитиком данных.\n",
    "Уже выполнена большая работа над проектом, давай сделаем его еще лучше. Ниже ты найдешь мои комментарии - пожалуйста, не перемещай, не изменяй и не удаляй их. Я буду использовать цветовую разметку:\n",
    "\n",
    "<div class=\"alert alert-danger\">\n",
    "❌ <b>Комментарий с замечанием ревьюера:</b> Так выделены самые важные замечания. Как только ты их исправишь проект будет принят. </div>\n",
    "\n",
    "<div class=\"alert alert-warning\">\n",
    "⚠️  <b>Комментарий с небольшим замечанием или советом ревьюера:</b> Так выделены небольшие замечания или советы. \n",
    "</div>\n",
    "\n",
    "<div class=\"alert alert-success\">\n",
    "✔️ <b>Комментарий с комплиментом ревьюера:</b> Так я выделяю все остальные комментарии.</div>\n",
    "\n",
    "Давай работать над проектом в диалоге: если ты что-то меняешь в проекте или отвечаешь на мои комментарии — пиши об этом.\n",
    "Мне будет легче отследить изменения, если ты выделишь свои комментарии:\n",
    "<div class=\"alert alert-info\"> <b>🎓 Комментарий студента:</b> Например, вот так.</div>\n",
    "Всё это поможет выполнить повторную проверку твоего проекта оперативнее.\n",
    "</div>\n"
   ]
  },
  {
   "cell_type": "markdown",
   "metadata": {},
   "source": [
    "# Проект: Статистический анализ данных"
   ]
  },
  {
   "cell_type": "markdown",
   "metadata": {},
   "source": [
    "**Вы аналитик популярного сервиса аренды самокатов GoFast. Вам передали данные о некоторых пользователях из нескольких городов, а также об их поездках. Проанализируйте данные и проверьте некоторые гипотезы, которые могут помочь бизнесу вырасти.**\n",
    "\n",
    "**Чтобы совершать поездки по городу, пользователи сервиса GoFast пользуются мобильным приложением. Сервисом можно пользоваться:**\n",
    "- без подписки:\n",
    "  -абонентская плата отсутствует;\n",
    "  -стоимость одной минуты поездки — 8 рублей;\n",
    "  -стоимость старта (начала поездки) — 50 рублей;\n",
    "- с подпиской Ultra:\n",
    "  -абонентская плата — 199 рублей в месяц;\n",
    "  -стоимость одной минуты поездки — 6 рублей;\n",
    "  -стоимость старта — бесплатно.\n",
    "  \n",
    "**В основных данных есть информация о пользователях, их поездках и подписках.**\n",
    "\n",
    "**Пользователи — users_go.csv**\n",
    " - user_id - уникальный идентификатор пользователя\n",
    " - name - имя пользователя\n",
    " - age - возраст\n",
    " - city - город\n",
    " - subscription_type - тип подписки (free, ultra)\n",
    " \n",
    "**Поездки — rides_go.csv**\n",
    " - user_id - уникальный идентификатор пользователя\n",
    " - distance - расстояние, которое пользователь проехал в текущей сессии (в метрах)\n",
    " - duration - продолжительность сессии (в минутах) — время с того момента, как пользователь нажал кнопку «Начать поездку» до момента, как он нажал кнопку «Завершить поездку»\n",
    " - date - дата совершения поездки\n",
    " \n",
    "**Подписки — subscriptions_go.csv**\n",
    " - subscription_type - тип подписки\n",
    " - minute_price\t- стоимость одной минуты поездки по данной подписке\n",
    " - start_ride_price\t- стоимость начала поездки\n",
    " - subscription_fee - стоимость ежемесячного платежа"
   ]
  },
  {
   "cell_type": "markdown",
   "metadata": {},
   "source": [
    "**План работы:**\n",
    "- **Шаг 1. Загрузка данных**\n",
    "- **Шаг 2. Предобработка данных**\n",
    "-2.1 Приведите столбец date к типу даты pandas.\n",
    "-2.2 Создайте новый столбец с номером месяца на основе столбца date.\n",
    "-2.3 Проверьте наличие пропущенных значений и дубликатов в датафреймах. Обработайте их, если такие значения присутствуют.\n",
    "- **Шаг 3. Исследовательский анализ данных. Опишите и визуализируйте общую информацию о пользователях и поездках:**\n",
    "-3.1 частота встречаемости городов;\n",
    "-3.2 соотношение пользователей с подпиской и без подписки;\n",
    "-3.3 возраст пользователей;\n",
    "-3.4 расстояние, которое пользователь преодолел за одну поездку;\n",
    "-3.5 продолжительность поездок.\n",
    "- **Шаг 4. Объединение данных**\n",
    "-4.1 Объедините данные о пользователях, поездках и подписках в один датафрейм. Для этого воспользуйтесь методом merge().\n",
    "-4.2 Создайте ещё два датафрейма из датафрейма, созданного на этапе 4.1: c данными о пользователях без подписки; с данными о пользователях с подпиской.\n",
    "-4.3 Визуализируйте информацию о расстоянии и времени поездок для пользователей обеих категорий.\n",
    "- **Шаг 5. Подсчёт выручки**\n",
    "-5.1 Создайте датафрейм с агрегированными данными о поездках на основе датафрейма с объединёнными данными из шага 4: найдите суммарное расстояние, количество поездок и суммарное время для каждого пользователя за каждый месяц.\n",
    "-5.2 В этот же датафрейм добавьте столбец с помесячной выручкой, которую принёс каждый пользователь. Для этого обратитесь к информации об условиях оплаты для подписчиков и тех, у кого нет подписки. Продолжительность каждой поездки в каждой строке исходного датафрейма для подсчёта стоимости округляется до следующего целого числа.\n",
    "- **Шаг 6. Проверка гипотез.** Продакт-менеджеры сервиса хотят увеличить количество пользователей с подпиской. Для этого они будут проводить различные акции, но сначала нужно выяснить несколько важных моментов.\n",
    "-6.1 Важно понять, тратят ли пользователи с подпиской больше времени на поездки? Если да, то пользователи с подпиской могут быть «выгоднее» для компании. Проверьте гипотезу. Используйте исходные данные о продолжительности каждой сессии — отдельно для подписчиков и тех, у кого нет подписки.\n",
    "-6.2 Расстояние одной поездки в 3130 метров — оптимальное с точки зрения износа самоката. Можно ли сказать, что среднее расстояние, которое проезжают пользователи с подпиской за одну поездку, не превышает 3130 метров? Проверьте гипотезу и сделайте выводы.\n",
    "-6.3 Проверьте гипотезу о том, будет ли помесячная выручка от пользователей с подпиской по месяцам выше, чем выручка от пользователей без подписки. Сделайте вывод.\n",
    "-6.4 Представьте такую ситуацию: техническая команда сервиса обновила сервера, с которыми взаимодействует мобильное приложение. Она надеется, что из-за этого количество обращений в техподдержку значимо снизилось. Некоторый файл содержит для каждого пользователя данные о количестве обращений до обновления и после него. Какой тест вам понадобился бы для проверки этой гипотезы?\n",
    "- **Шаг 7. Распределения**\n",
    "-7.1 Отделу маркетинга GoFast поставили задачу: нужно провести акцию с раздачей промокодов на один бесплатный месяц подписки, в рамках которой как минимум 100 существующих клиентов должны продлить эту подписку. То есть по завершении периода действия подписки пользователь может либо отказаться от неё, либо продлить, совершив соответствующий платёж. \n",
    "Эта акция уже проводилась ранее и по итогу выяснилось, что после бесплатного пробного периода подписку продлевают 10 % пользователей. Выясните, какое минимальное количество промокодов нужно разослать, чтобы вероятность не выполнить план была примерно 5 %. Подберите параметры распределения, описывающего эту ситуацию, постройте график распределения и сформулируйте ответ на вопрос о количестве промокодов.\n",
    "Подсказка\n",
    "-7.2 Отдел маркетинга рассылает клиентам push-уведомления в мобильном приложении. Клиенты могут открыть его или не открывать. Известно, что уведомления открывают около 40 % получивших клиентов. Отдел планирует разослать 1 млн уведомлений. С помощью аппроксимации постройте примерный график распределения и оцените вероятность того, что уведомление откроют не более 399,5 тыс. пользователей."
   ]
  },
  {
   "cell_type": "code",
   "execution_count": 1,
   "metadata": {},
   "outputs": [],
   "source": [
    "import pandas as pd\n",
    "import matplotlib.pyplot as plt\n",
    "import numpy as np\n",
    "from math import sqrt\n",
    "from scipy import stats as st\n",
    "from scipy.stats import norm"
   ]
  },
  {
   "cell_type": "markdown",
   "metadata": {},
   "source": [
    "### Шаг 1. Загрузка данных"
   ]
  },
  {
   "cell_type": "code",
   "execution_count": 2,
   "metadata": {},
   "outputs": [],
   "source": [
    "users = pd.read_csv('/datasets/users_go.csv')"
   ]
  },
  {
   "cell_type": "code",
   "execution_count": 3,
   "metadata": {},
   "outputs": [],
   "source": [
    "rides = pd.read_csv('/datasets/rides_go.csv', parse_dates=['date'])"
   ]
  },
  {
   "cell_type": "code",
   "execution_count": 4,
   "metadata": {},
   "outputs": [],
   "source": [
    "subscriptions = pd.read_csv('/datasets/subscriptions_go.csv')"
   ]
  },
  {
   "cell_type": "code",
   "execution_count": 5,
   "metadata": {},
   "outputs": [
    {
     "data": {
      "text/html": [
       "<div>\n",
       "<style scoped>\n",
       "    .dataframe tbody tr th:only-of-type {\n",
       "        vertical-align: middle;\n",
       "    }\n",
       "\n",
       "    .dataframe tbody tr th {\n",
       "        vertical-align: top;\n",
       "    }\n",
       "\n",
       "    .dataframe thead th {\n",
       "        text-align: right;\n",
       "    }\n",
       "</style>\n",
       "<table border=\"1\" class=\"dataframe\">\n",
       "  <thead>\n",
       "    <tr style=\"text-align: right;\">\n",
       "      <th></th>\n",
       "      <th>user_id</th>\n",
       "      <th>name</th>\n",
       "      <th>age</th>\n",
       "      <th>city</th>\n",
       "      <th>subscription_type</th>\n",
       "    </tr>\n",
       "  </thead>\n",
       "  <tbody>\n",
       "    <tr>\n",
       "      <th>0</th>\n",
       "      <td>1</td>\n",
       "      <td>Кира</td>\n",
       "      <td>22</td>\n",
       "      <td>Тюмень</td>\n",
       "      <td>ultra</td>\n",
       "    </tr>\n",
       "    <tr>\n",
       "      <th>1</th>\n",
       "      <td>2</td>\n",
       "      <td>Станислав</td>\n",
       "      <td>31</td>\n",
       "      <td>Омск</td>\n",
       "      <td>ultra</td>\n",
       "    </tr>\n",
       "    <tr>\n",
       "      <th>2</th>\n",
       "      <td>3</td>\n",
       "      <td>Алексей</td>\n",
       "      <td>20</td>\n",
       "      <td>Москва</td>\n",
       "      <td>ultra</td>\n",
       "    </tr>\n",
       "    <tr>\n",
       "      <th>3</th>\n",
       "      <td>4</td>\n",
       "      <td>Константин</td>\n",
       "      <td>26</td>\n",
       "      <td>Ростов-на-Дону</td>\n",
       "      <td>ultra</td>\n",
       "    </tr>\n",
       "    <tr>\n",
       "      <th>4</th>\n",
       "      <td>5</td>\n",
       "      <td>Адель</td>\n",
       "      <td>28</td>\n",
       "      <td>Омск</td>\n",
       "      <td>ultra</td>\n",
       "    </tr>\n",
       "  </tbody>\n",
       "</table>\n",
       "</div>"
      ],
      "text/plain": [
       "   user_id        name  age            city subscription_type\n",
       "0        1        Кира   22          Тюмень             ultra\n",
       "1        2   Станислав   31            Омск             ultra\n",
       "2        3     Алексей   20          Москва             ultra\n",
       "3        4  Константин   26  Ростов-на-Дону             ultra\n",
       "4        5       Адель   28            Омск             ultra"
      ]
     },
     "execution_count": 5,
     "metadata": {},
     "output_type": "execute_result"
    }
   ],
   "source": [
    "users.head()"
   ]
  },
  {
   "cell_type": "code",
   "execution_count": 6,
   "metadata": {},
   "outputs": [
    {
     "name": "stdout",
     "output_type": "stream",
     "text": [
      "<class 'pandas.core.frame.DataFrame'>\n",
      "RangeIndex: 1565 entries, 0 to 1564\n",
      "Data columns (total 5 columns):\n",
      " #   Column             Non-Null Count  Dtype \n",
      "---  ------             --------------  ----- \n",
      " 0   user_id            1565 non-null   int64 \n",
      " 1   name               1565 non-null   object\n",
      " 2   age                1565 non-null   int64 \n",
      " 3   city               1565 non-null   object\n",
      " 4   subscription_type  1565 non-null   object\n",
      "dtypes: int64(2), object(3)\n",
      "memory usage: 61.3+ KB\n"
     ]
    }
   ],
   "source": [
    "users.info()"
   ]
  },
  {
   "cell_type": "code",
   "execution_count": 7,
   "metadata": {},
   "outputs": [
    {
     "data": {
      "text/html": [
       "<div>\n",
       "<style scoped>\n",
       "    .dataframe tbody tr th:only-of-type {\n",
       "        vertical-align: middle;\n",
       "    }\n",
       "\n",
       "    .dataframe tbody tr th {\n",
       "        vertical-align: top;\n",
       "    }\n",
       "\n",
       "    .dataframe thead th {\n",
       "        text-align: right;\n",
       "    }\n",
       "</style>\n",
       "<table border=\"1\" class=\"dataframe\">\n",
       "  <thead>\n",
       "    <tr style=\"text-align: right;\">\n",
       "      <th></th>\n",
       "      <th>user_id</th>\n",
       "      <th>distance</th>\n",
       "      <th>duration</th>\n",
       "      <th>date</th>\n",
       "    </tr>\n",
       "  </thead>\n",
       "  <tbody>\n",
       "    <tr>\n",
       "      <th>0</th>\n",
       "      <td>1</td>\n",
       "      <td>4409.919140</td>\n",
       "      <td>25.599769</td>\n",
       "      <td>2021-01-01</td>\n",
       "    </tr>\n",
       "    <tr>\n",
       "      <th>1</th>\n",
       "      <td>1</td>\n",
       "      <td>2617.592153</td>\n",
       "      <td>15.816871</td>\n",
       "      <td>2021-01-18</td>\n",
       "    </tr>\n",
       "    <tr>\n",
       "      <th>2</th>\n",
       "      <td>1</td>\n",
       "      <td>754.159807</td>\n",
       "      <td>6.232113</td>\n",
       "      <td>2021-04-20</td>\n",
       "    </tr>\n",
       "    <tr>\n",
       "      <th>3</th>\n",
       "      <td>1</td>\n",
       "      <td>2694.783254</td>\n",
       "      <td>18.511000</td>\n",
       "      <td>2021-08-11</td>\n",
       "    </tr>\n",
       "    <tr>\n",
       "      <th>4</th>\n",
       "      <td>1</td>\n",
       "      <td>4028.687306</td>\n",
       "      <td>26.265803</td>\n",
       "      <td>2021-08-28</td>\n",
       "    </tr>\n",
       "  </tbody>\n",
       "</table>\n",
       "</div>"
      ],
      "text/plain": [
       "   user_id     distance   duration       date\n",
       "0        1  4409.919140  25.599769 2021-01-01\n",
       "1        1  2617.592153  15.816871 2021-01-18\n",
       "2        1   754.159807   6.232113 2021-04-20\n",
       "3        1  2694.783254  18.511000 2021-08-11\n",
       "4        1  4028.687306  26.265803 2021-08-28"
      ]
     },
     "execution_count": 7,
     "metadata": {},
     "output_type": "execute_result"
    }
   ],
   "source": [
    "rides.head()"
   ]
  },
  {
   "cell_type": "code",
   "execution_count": 8,
   "metadata": {},
   "outputs": [
    {
     "name": "stdout",
     "output_type": "stream",
     "text": [
      "<class 'pandas.core.frame.DataFrame'>\n",
      "RangeIndex: 18068 entries, 0 to 18067\n",
      "Data columns (total 4 columns):\n",
      " #   Column    Non-Null Count  Dtype         \n",
      "---  ------    --------------  -----         \n",
      " 0   user_id   18068 non-null  int64         \n",
      " 1   distance  18068 non-null  float64       \n",
      " 2   duration  18068 non-null  float64       \n",
      " 3   date      18068 non-null  datetime64[ns]\n",
      "dtypes: datetime64[ns](1), float64(2), int64(1)\n",
      "memory usage: 564.8 KB\n"
     ]
    }
   ],
   "source": [
    "rides.info()"
   ]
  },
  {
   "cell_type": "code",
   "execution_count": 9,
   "metadata": {},
   "outputs": [
    {
     "data": {
      "text/html": [
       "<div>\n",
       "<style scoped>\n",
       "    .dataframe tbody tr th:only-of-type {\n",
       "        vertical-align: middle;\n",
       "    }\n",
       "\n",
       "    .dataframe tbody tr th {\n",
       "        vertical-align: top;\n",
       "    }\n",
       "\n",
       "    .dataframe thead th {\n",
       "        text-align: right;\n",
       "    }\n",
       "</style>\n",
       "<table border=\"1\" class=\"dataframe\">\n",
       "  <thead>\n",
       "    <tr style=\"text-align: right;\">\n",
       "      <th></th>\n",
       "      <th>subscription_type</th>\n",
       "      <th>minute_price</th>\n",
       "      <th>start_ride_price</th>\n",
       "      <th>subscription_fee</th>\n",
       "    </tr>\n",
       "  </thead>\n",
       "  <tbody>\n",
       "    <tr>\n",
       "      <th>0</th>\n",
       "      <td>free</td>\n",
       "      <td>8</td>\n",
       "      <td>50</td>\n",
       "      <td>0</td>\n",
       "    </tr>\n",
       "    <tr>\n",
       "      <th>1</th>\n",
       "      <td>ultra</td>\n",
       "      <td>6</td>\n",
       "      <td>0</td>\n",
       "      <td>199</td>\n",
       "    </tr>\n",
       "  </tbody>\n",
       "</table>\n",
       "</div>"
      ],
      "text/plain": [
       "  subscription_type  minute_price  start_ride_price  subscription_fee\n",
       "0              free             8                50                 0\n",
       "1             ultra             6                 0               199"
      ]
     },
     "execution_count": 9,
     "metadata": {},
     "output_type": "execute_result"
    }
   ],
   "source": [
    "subscriptions.head()"
   ]
  },
  {
   "cell_type": "code",
   "execution_count": 10,
   "metadata": {},
   "outputs": [
    {
     "name": "stdout",
     "output_type": "stream",
     "text": [
      "<class 'pandas.core.frame.DataFrame'>\n",
      "RangeIndex: 2 entries, 0 to 1\n",
      "Data columns (total 4 columns):\n",
      " #   Column             Non-Null Count  Dtype \n",
      "---  ------             --------------  ----- \n",
      " 0   subscription_type  2 non-null      object\n",
      " 1   minute_price       2 non-null      int64 \n",
      " 2   start_ride_price   2 non-null      int64 \n",
      " 3   subscription_fee   2 non-null      int64 \n",
      "dtypes: int64(3), object(1)\n",
      "memory usage: 192.0+ bytes\n"
     ]
    }
   ],
   "source": [
    "subscriptions.info()"
   ]
  },
  {
   "cell_type": "markdown",
   "metadata": {},
   "source": [
    "***После просмотра общих данных можно увидеть, что в данных нет пропусков, все колонки правильно подписаны и колонка с датами приведена к нужному типу при загрузке.***"
   ]
  },
  {
   "cell_type": "markdown",
   "metadata": {},
   "source": [
    "\n",
    "<div class=\"alert alert-success\">\n",
    "<b>Комментарий с комплиментом ревьюера:</b> \n",
    "    \n",
    "Молодец, отличный предварительный анализ.</div>\n"
   ]
  },
  {
   "cell_type": "markdown",
   "metadata": {},
   "source": [
    "### Шаг 2. Предобработка данных"
   ]
  },
  {
   "cell_type": "markdown",
   "metadata": {},
   "source": [
    "*Проверим наличие явных дубликатов в датафреймах*"
   ]
  },
  {
   "cell_type": "code",
   "execution_count": 11,
   "metadata": {},
   "outputs": [
    {
     "data": {
      "text/plain": [
       "31"
      ]
     },
     "execution_count": 11,
     "metadata": {},
     "output_type": "execute_result"
    }
   ],
   "source": [
    "users.duplicated().sum()"
   ]
  },
  {
   "cell_type": "code",
   "execution_count": 12,
   "metadata": {},
   "outputs": [
    {
     "data": {
      "text/plain": [
       "0"
      ]
     },
     "execution_count": 12,
     "metadata": {},
     "output_type": "execute_result"
    }
   ],
   "source": [
    "rides.duplicated().sum()"
   ]
  },
  {
   "cell_type": "code",
   "execution_count": 13,
   "metadata": {},
   "outputs": [
    {
     "data": {
      "text/plain": [
       "0"
      ]
     },
     "execution_count": 13,
     "metadata": {},
     "output_type": "execute_result"
    }
   ],
   "source": [
    "subscriptions.duplicated().sum()"
   ]
  },
  {
   "cell_type": "markdown",
   "metadata": {},
   "source": [
    "*Удалим явные дубликаты из датафрейма*"
   ]
  },
  {
   "cell_type": "code",
   "execution_count": 14,
   "metadata": {},
   "outputs": [],
   "source": [
    "users = users.drop_duplicates().reset_index(drop=True)"
   ]
  },
  {
   "cell_type": "code",
   "execution_count": 15,
   "metadata": {},
   "outputs": [
    {
     "data": {
      "text/plain": [
       "0"
      ]
     },
     "execution_count": 15,
     "metadata": {},
     "output_type": "execute_result"
    }
   ],
   "source": [
    "users.duplicated().sum()"
   ]
  },
  {
   "cell_type": "markdown",
   "metadata": {},
   "source": [
    "***Явных дубликатов в датафреймах нет***"
   ]
  },
  {
   "cell_type": "markdown",
   "metadata": {},
   "source": [
    "**Добавим в датафрейм `rides` новый столбец с номером месяца `month`**"
   ]
  },
  {
   "cell_type": "code",
   "execution_count": 16,
   "metadata": {},
   "outputs": [],
   "source": [
    "rides['month'] = rides['date'].dt.month"
   ]
  },
  {
   "cell_type": "code",
   "execution_count": 17,
   "metadata": {},
   "outputs": [
    {
     "data": {
      "text/html": [
       "<div>\n",
       "<style scoped>\n",
       "    .dataframe tbody tr th:only-of-type {\n",
       "        vertical-align: middle;\n",
       "    }\n",
       "\n",
       "    .dataframe tbody tr th {\n",
       "        vertical-align: top;\n",
       "    }\n",
       "\n",
       "    .dataframe thead th {\n",
       "        text-align: right;\n",
       "    }\n",
       "</style>\n",
       "<table border=\"1\" class=\"dataframe\">\n",
       "  <thead>\n",
       "    <tr style=\"text-align: right;\">\n",
       "      <th></th>\n",
       "      <th>user_id</th>\n",
       "      <th>distance</th>\n",
       "      <th>duration</th>\n",
       "      <th>date</th>\n",
       "      <th>month</th>\n",
       "    </tr>\n",
       "  </thead>\n",
       "  <tbody>\n",
       "    <tr>\n",
       "      <th>0</th>\n",
       "      <td>1</td>\n",
       "      <td>4409.919140</td>\n",
       "      <td>25.599769</td>\n",
       "      <td>2021-01-01</td>\n",
       "      <td>1</td>\n",
       "    </tr>\n",
       "    <tr>\n",
       "      <th>1</th>\n",
       "      <td>1</td>\n",
       "      <td>2617.592153</td>\n",
       "      <td>15.816871</td>\n",
       "      <td>2021-01-18</td>\n",
       "      <td>1</td>\n",
       "    </tr>\n",
       "    <tr>\n",
       "      <th>2</th>\n",
       "      <td>1</td>\n",
       "      <td>754.159807</td>\n",
       "      <td>6.232113</td>\n",
       "      <td>2021-04-20</td>\n",
       "      <td>4</td>\n",
       "    </tr>\n",
       "    <tr>\n",
       "      <th>3</th>\n",
       "      <td>1</td>\n",
       "      <td>2694.783254</td>\n",
       "      <td>18.511000</td>\n",
       "      <td>2021-08-11</td>\n",
       "      <td>8</td>\n",
       "    </tr>\n",
       "    <tr>\n",
       "      <th>4</th>\n",
       "      <td>1</td>\n",
       "      <td>4028.687306</td>\n",
       "      <td>26.265803</td>\n",
       "      <td>2021-08-28</td>\n",
       "      <td>8</td>\n",
       "    </tr>\n",
       "  </tbody>\n",
       "</table>\n",
       "</div>"
      ],
      "text/plain": [
       "   user_id     distance   duration       date  month\n",
       "0        1  4409.919140  25.599769 2021-01-01      1\n",
       "1        1  2617.592153  15.816871 2021-01-18      1\n",
       "2        1   754.159807   6.232113 2021-04-20      4\n",
       "3        1  2694.783254  18.511000 2021-08-11      8\n",
       "4        1  4028.687306  26.265803 2021-08-28      8"
      ]
     },
     "execution_count": 17,
     "metadata": {},
     "output_type": "execute_result"
    }
   ],
   "source": [
    "rides.head()"
   ]
  },
  {
   "cell_type": "markdown",
   "metadata": {},
   "source": [
    "*Новый столбец в датафрейм `rides` добавлен*"
   ]
  },
  {
   "cell_type": "markdown",
   "metadata": {},
   "source": [
    "***Предобработка данных завершена, в данных нет пропусков и они приведены к нужному типу.***"
   ]
  },
  {
   "cell_type": "markdown",
   "metadata": {},
   "source": [
    "\n",
    "<div class=\"alert alert-success\">\n",
    "<b>Комментарий с комплиментом ревьюера:</b> \n",
    "    \n",
    "Молодец, что использовал метод info() для получения общей информации о датасете. И правильно определил столбцы, которые необходимо привести к соответствующему типу.</div>\n"
   ]
  },
  {
   "cell_type": "markdown",
   "metadata": {},
   "source": [
    "<div class=\"alert alert-warning\">\n",
    "⚠️  <b>Комментарий с советом ревьюера:</b>\n",
    "\n",
    "\n",
    "При агрегации данных по месяцам в том случае, если мы имеем данные за несколько лет, то они склеятся, поэтому на этом этапе важно проанализировать за какой период у нас данные.\n",
    "</div>\n",
    "\n",
    "\n",
    "<div class=\"alert alert-warning\">\n",
    "⚠️  <b>Комментарий с советом ревьюера:</b>\n",
    "\n",
    "\n",
    "Для того, чтобы твой проект стал еще лучше, можно сделать округление данных в столбце 'distance'\n",
    "\n",
    "</div>\n"
   ]
  },
  {
   "cell_type": "markdown",
   "metadata": {},
   "source": [
    "### Шаг 3. Исследовательский анализ данных"
   ]
  },
  {
   "cell_type": "markdown",
   "metadata": {},
   "source": [
    "#### Опишите и визуализируйте общую информацию о пользователях и поездках:"
   ]
  },
  {
   "cell_type": "markdown",
   "metadata": {},
   "source": [
    "**Частота встречаемости городов**"
   ]
  },
  {
   "cell_type": "markdown",
   "metadata": {},
   "source": [
    "<div class=\"alert alert-info\"> <b>🎓 Комментарий студента:</b> Принял совет и все сделал в начале </div>"
   ]
  },
  {
   "cell_type": "markdown",
   "metadata": {},
   "source": [
    "<div class=\"alert alert-warning\">\n",
    "⚠️  <b>Комментарий с советом ревьюера:</b>\n",
    "\n",
    "Импорт всех библиотек проекта лучше делать в одной ячейке в начале проекта\n"
   ]
  },
  {
   "cell_type": "code",
   "execution_count": 18,
   "metadata": {},
   "outputs": [
    {
     "data": {
      "image/png": "[encoded data removed]",
      "text/plain": [
       "<Figure size 720x720 with 1 Axes>"
      ]
     },
     "metadata": {
      "needs_background": "light"
     },
     "output_type": "display_data"
    }
   ],
   "source": [
    "users['city'].hist(bins= 30, figsize=(10, 10))\n",
    "plt.xlabel('Города')\n",
    "plt.ylabel('Частота')\n",
    "plt.title('Распределение по городам')\n",
    "plt.show()"
   ]
  },
  {
   "cell_type": "code",
   "execution_count": 19,
   "metadata": {},
   "outputs": [
    {
     "data": {
      "text/plain": [
       "city\n",
       "Пятигорск         219\n",
       "Екатеринбург      204\n",
       "Ростов-на-Дону    198\n",
       "Краснодар         193\n",
       "Сочи              189\n",
       "Омск              183\n",
       "Тюмень            180\n",
       "Москва            168\n",
       "Name: user_id, dtype: int64"
      ]
     },
     "execution_count": 19,
     "metadata": {},
     "output_type": "execute_result"
    }
   ],
   "source": [
    "users.groupby('city')['user_id'].count().sort_values(ascending=False)"
   ]
  },
  {
   "cell_type": "markdown",
   "metadata": {},
   "source": [
    "***После постоения гистограммы и таблицы видно, что самый популярный город Пятигорск за ним идет Екатеринбург, а дальше Растов-на-Дону. Ниже показатели у Краснодара, Сочи, Омска и Тюмени, а вот самый маленький показатель у Москвы.***"
   ]
  },
  {
   "cell_type": "markdown",
   "metadata": {},
   "source": [
    "<div class=\"alert alert-success\">\n",
    "✔️ <b>Комментарий с комплиментом ревьюера:</b>\n",
    "\n",
    "Отлично, построен информативный график, молодец!\n",
    "</div>\t\n",
    "\n"
   ]
  },
  {
   "cell_type": "markdown",
   "metadata": {},
   "source": [
    "#### Соотношение пользователей с подпиской и без подписки"
   ]
  },
  {
   "cell_type": "code",
   "execution_count": 20,
   "metadata": {},
   "outputs": [
    {
     "data": {
      "image/png": "[encoded data removed]",
      "text/plain": [
       "<Figure size 360x720 with 1 Axes>"
      ]
     },
     "metadata": {
      "needs_background": "light"
     },
     "output_type": "display_data"
    }
   ],
   "source": [
    "users['subscription_type'].hist(bins= 30, figsize=(5, 10))\n",
    "plt.xlabel('Тип подписки')\n",
    "plt.ylabel('Количество')\n",
    "plt.title('Распределение подписок')\n",
    "plt.show()"
   ]
  },
  {
   "cell_type": "markdown",
   "metadata": {},
   "source": [
    "***После постоения гистограммы наглядно видно, что большая часть пользователей не имеет подписки Ultra, а пользуются тарфиным планом без абонентской платы.***"
   ]
  },
  {
   "cell_type": "markdown",
   "metadata": {},
   "source": [
    "<div class=\"alert alert-success\">\n",
    "✔️ <b>Комментарий с комплиментом ревьюера:</b>\n",
    "\n",
    "Отлично, но при анализе долей лучше строить график pie chart\n",
    "</div>\t\n"
   ]
  },
  {
   "cell_type": "markdown",
   "metadata": {},
   "source": [
    "#### Возраст пользователей"
   ]
  },
  {
   "cell_type": "code",
   "execution_count": 21,
   "metadata": {},
   "outputs": [
    {
     "data": {
      "image/png": "[encoded data removed]",
      "text/plain": [
       "<Figure size 360x720 with 1 Axes>"
      ]
     },
     "metadata": {
      "needs_background": "light"
     },
     "output_type": "display_data"
    }
   ],
   "source": [
    "users['age'].hist(bins= 30, figsize=(5, 10))\n",
    "plt.xlabel('Тип подписки')\n",
    "plt.ylabel('Количество')\n",
    "plt.title('Распределение по возрасту')\n",
    "plt.show()"
   ]
  },
  {
   "cell_type": "code",
   "execution_count": 22,
   "metadata": {},
   "outputs": [
    {
     "data": {
      "text/plain": [
       "12"
      ]
     },
     "execution_count": 22,
     "metadata": {},
     "output_type": "execute_result"
    }
   ],
   "source": [
    "users['age'].min()"
   ]
  },
  {
   "cell_type": "code",
   "execution_count": 23,
   "metadata": {},
   "outputs": [
    {
     "data": {
      "text/plain": [
       "43"
      ]
     },
     "execution_count": 23,
     "metadata": {},
     "output_type": "execute_result"
    }
   ],
   "source": [
    "users['age'].max()"
   ]
  },
  {
   "cell_type": "markdown",
   "metadata": {},
   "source": [
    "***После построения гистораммы и дополнительных таблиц с данными видно, что минимальный возраст пользователя 12 лет, а максимальный 43 года, самое большое количество пользователей в возрасте 25 лет.***"
   ]
  },
  {
   "cell_type": "markdown",
   "metadata": {},
   "source": [
    "#### Расстояние, которое пользователь преодолел за одну поездку"
   ]
  },
  {
   "cell_type": "code",
   "execution_count": 24,
   "metadata": {},
   "outputs": [
    {
     "data": {
      "image/png": "[encoded data removed]",
      "text/plain": [
       "<Figure size 360x720 with 1 Axes>"
      ]
     },
     "metadata": {
      "needs_background": "light"
     },
     "output_type": "display_data"
    }
   ],
   "source": [
    "rides['distance'].hist(bins= 40, figsize=(5, 10))\n",
    "plt.xlabel('Расстояние в метрах')\n",
    "plt.ylabel('Частота')\n",
    "plt.title('Распределение по расстоянию')\n",
    "plt.show()"
   ]
  },
  {
   "cell_type": "markdown",
   "metadata": {},
   "source": [
    "***После построения гистораммы видно, что пользователи чаще всего проезжают расстояние в районе 3000 метров, крайне редко проезжают больше 6000 метров и есть интересный всплеск на расстоянии около 500 метров.***"
   ]
  },
  {
   "cell_type": "markdown",
   "metadata": {},
   "source": [
    "#### Продолжительность поездок"
   ]
  },
  {
   "cell_type": "code",
   "execution_count": 25,
   "metadata": {},
   "outputs": [
    {
     "data": {
      "image/png": "[encoded data removed]",
      "text/plain": [
       "<Figure size 360x720 with 1 Axes>"
      ]
     },
     "metadata": {
      "needs_background": "light"
     },
     "output_type": "display_data"
    }
   ],
   "source": [
    "rides['duration'].hist(bins= 50, figsize=(5, 10))\n",
    "plt.xlabel('Продолжительность поездок')\n",
    "plt.ylabel('Частота')\n",
    "plt.title('Распределение по продолжительности сессии')\n",
    "plt.show()"
   ]
  },
  {
   "cell_type": "code",
   "execution_count": 26,
   "metadata": {},
   "outputs": [
    {
     "data": {
      "text/html": [
       "<div>\n",
       "<style scoped>\n",
       "    .dataframe tbody tr th:only-of-type {\n",
       "        vertical-align: middle;\n",
       "    }\n",
       "\n",
       "    .dataframe tbody tr th {\n",
       "        vertical-align: top;\n",
       "    }\n",
       "\n",
       "    .dataframe thead th {\n",
       "        text-align: right;\n",
       "    }\n",
       "</style>\n",
       "<table border=\"1\" class=\"dataframe\">\n",
       "  <thead>\n",
       "    <tr style=\"text-align: right;\">\n",
       "      <th></th>\n",
       "      <th>user_id</th>\n",
       "      <th>distance</th>\n",
       "      <th>duration</th>\n",
       "      <th>date</th>\n",
       "      <th>month</th>\n",
       "    </tr>\n",
       "  </thead>\n",
       "  <tbody>\n",
       "    <tr>\n",
       "      <th>6531</th>\n",
       "      <td>701</td>\n",
       "      <td>4196.445201</td>\n",
       "      <td>0.5</td>\n",
       "      <td>2021-08-31</td>\n",
       "      <td>8</td>\n",
       "    </tr>\n",
       "    <tr>\n",
       "      <th>6570</th>\n",
       "      <td>704</td>\n",
       "      <td>4830.824371</td>\n",
       "      <td>0.5</td>\n",
       "      <td>2021-10-14</td>\n",
       "      <td>10</td>\n",
       "    </tr>\n",
       "    <tr>\n",
       "      <th>6680</th>\n",
       "      <td>712</td>\n",
       "      <td>4684.004397</td>\n",
       "      <td>0.5</td>\n",
       "      <td>2021-03-04</td>\n",
       "      <td>3</td>\n",
       "    </tr>\n",
       "    <tr>\n",
       "      <th>6695</th>\n",
       "      <td>713</td>\n",
       "      <td>5215.642710</td>\n",
       "      <td>0.5</td>\n",
       "      <td>2021-02-25</td>\n",
       "      <td>2</td>\n",
       "    </tr>\n",
       "    <tr>\n",
       "      <th>6768</th>\n",
       "      <td>718</td>\n",
       "      <td>5197.436649</td>\n",
       "      <td>0.5</td>\n",
       "      <td>2021-02-11</td>\n",
       "      <td>2</td>\n",
       "    </tr>\n",
       "    <tr>\n",
       "      <th>...</th>\n",
       "      <td>...</td>\n",
       "      <td>...</td>\n",
       "      <td>...</td>\n",
       "      <td>...</td>\n",
       "      <td>...</td>\n",
       "    </tr>\n",
       "    <tr>\n",
       "      <th>17004</th>\n",
       "      <td>1460</td>\n",
       "      <td>5531.335845</td>\n",
       "      <td>0.5</td>\n",
       "      <td>2021-01-19</td>\n",
       "      <td>1</td>\n",
       "    </tr>\n",
       "    <tr>\n",
       "      <th>17242</th>\n",
       "      <td>1477</td>\n",
       "      <td>6724.932981</td>\n",
       "      <td>0.5</td>\n",
       "      <td>2021-01-12</td>\n",
       "      <td>1</td>\n",
       "    </tr>\n",
       "    <tr>\n",
       "      <th>17314</th>\n",
       "      <td>1483</td>\n",
       "      <td>4445.481070</td>\n",
       "      <td>0.5</td>\n",
       "      <td>2021-03-06</td>\n",
       "      <td>3</td>\n",
       "    </tr>\n",
       "    <tr>\n",
       "      <th>17505</th>\n",
       "      <td>1496</td>\n",
       "      <td>5722.551787</td>\n",
       "      <td>0.5</td>\n",
       "      <td>2021-02-14</td>\n",
       "      <td>2</td>\n",
       "    </tr>\n",
       "    <tr>\n",
       "      <th>17909</th>\n",
       "      <td>1524</td>\n",
       "      <td>4103.998874</td>\n",
       "      <td>0.5</td>\n",
       "      <td>2021-06-18</td>\n",
       "      <td>6</td>\n",
       "    </tr>\n",
       "  </tbody>\n",
       "</table>\n",
       "<p>95 rows × 5 columns</p>\n",
       "</div>"
      ],
      "text/plain": [
       "       user_id     distance  duration       date  month\n",
       "6531       701  4196.445201       0.5 2021-08-31      8\n",
       "6570       704  4830.824371       0.5 2021-10-14     10\n",
       "6680       712  4684.004397       0.5 2021-03-04      3\n",
       "6695       713  5215.642710       0.5 2021-02-25      2\n",
       "6768       718  5197.436649       0.5 2021-02-11      2\n",
       "...        ...          ...       ...        ...    ...\n",
       "17004     1460  5531.335845       0.5 2021-01-19      1\n",
       "17242     1477  6724.932981       0.5 2021-01-12      1\n",
       "17314     1483  4445.481070       0.5 2021-03-06      3\n",
       "17505     1496  5722.551787       0.5 2021-02-14      2\n",
       "17909     1524  4103.998874       0.5 2021-06-18      6\n",
       "\n",
       "[95 rows x 5 columns]"
      ]
     },
     "execution_count": 26,
     "metadata": {},
     "output_type": "execute_result"
    }
   ],
   "source": [
    "rides.loc[rides['duration'] < 1]"
   ]
  },
  {
   "cell_type": "markdown",
   "metadata": {},
   "source": [
    "***После построения гистораммы видно, что чаще всего продолжительность поездок от 15 до 20 минут, но есть поездки с продолжительностью в районе 1 минуты. После построения таблицы видно, что есть поздки 0,5 минут с расстоянием больше 4000 метров и даже больше 6700 метров. Понятно, что такое физически не возможно, но 95 таких поездок мы наблюдаем, следует обратить на это внимание и уточнить причины.***"
   ]
  },
  {
   "cell_type": "markdown",
   "metadata": {},
   "source": [
    "<div class=\"alert alert-success\">\n",
    "✔️ <b>Комментарий с комплиментом ревьюера:</b>\n",
    "\n",
    "Корректный анализ распределения\n"
   ]
  },
  {
   "cell_type": "markdown",
   "metadata": {},
   "source": [
    "### Шаг 4. Объединение данных"
   ]
  },
  {
   "cell_type": "markdown",
   "metadata": {},
   "source": [
    "#### Объедините данные о пользователях, поездках и подписках в один датафрейм:"
   ]
  },
  {
   "cell_type": "markdown",
   "metadata": {},
   "source": [
    "*Объеденим данные в новый датафрейм `total` с помощью метода `merge`*"
   ]
  },
  {
   "cell_type": "code",
   "execution_count": 27,
   "metadata": {},
   "outputs": [],
   "source": [
    "total = users.merge(rides, on='user_id', how='outer').merge(subscriptions, on='subscription_type', how='outer')"
   ]
  },
  {
   "cell_type": "code",
   "execution_count": 28,
   "metadata": {},
   "outputs": [
    {
     "data": {
      "text/html": [
       "<div>\n",
       "<style scoped>\n",
       "    .dataframe tbody tr th:only-of-type {\n",
       "        vertical-align: middle;\n",
       "    }\n",
       "\n",
       "    .dataframe tbody tr th {\n",
       "        vertical-align: top;\n",
       "    }\n",
       "\n",
       "    .dataframe thead th {\n",
       "        text-align: right;\n",
       "    }\n",
       "</style>\n",
       "<table border=\"1\" class=\"dataframe\">\n",
       "  <thead>\n",
       "    <tr style=\"text-align: right;\">\n",
       "      <th></th>\n",
       "      <th>user_id</th>\n",
       "      <th>name</th>\n",
       "      <th>age</th>\n",
       "      <th>city</th>\n",
       "      <th>subscription_type</th>\n",
       "      <th>distance</th>\n",
       "      <th>duration</th>\n",
       "      <th>date</th>\n",
       "      <th>month</th>\n",
       "      <th>minute_price</th>\n",
       "      <th>start_ride_price</th>\n",
       "      <th>subscription_fee</th>\n",
       "    </tr>\n",
       "  </thead>\n",
       "  <tbody>\n",
       "    <tr>\n",
       "      <th>0</th>\n",
       "      <td>1</td>\n",
       "      <td>Кира</td>\n",
       "      <td>22</td>\n",
       "      <td>Тюмень</td>\n",
       "      <td>ultra</td>\n",
       "      <td>4409.919140</td>\n",
       "      <td>25.599769</td>\n",
       "      <td>2021-01-01</td>\n",
       "      <td>1</td>\n",
       "      <td>6</td>\n",
       "      <td>0</td>\n",
       "      <td>199</td>\n",
       "    </tr>\n",
       "    <tr>\n",
       "      <th>1</th>\n",
       "      <td>1</td>\n",
       "      <td>Кира</td>\n",
       "      <td>22</td>\n",
       "      <td>Тюмень</td>\n",
       "      <td>ultra</td>\n",
       "      <td>2617.592153</td>\n",
       "      <td>15.816871</td>\n",
       "      <td>2021-01-18</td>\n",
       "      <td>1</td>\n",
       "      <td>6</td>\n",
       "      <td>0</td>\n",
       "      <td>199</td>\n",
       "    </tr>\n",
       "    <tr>\n",
       "      <th>2</th>\n",
       "      <td>1</td>\n",
       "      <td>Кира</td>\n",
       "      <td>22</td>\n",
       "      <td>Тюмень</td>\n",
       "      <td>ultra</td>\n",
       "      <td>754.159807</td>\n",
       "      <td>6.232113</td>\n",
       "      <td>2021-04-20</td>\n",
       "      <td>4</td>\n",
       "      <td>6</td>\n",
       "      <td>0</td>\n",
       "      <td>199</td>\n",
       "    </tr>\n",
       "    <tr>\n",
       "      <th>3</th>\n",
       "      <td>1</td>\n",
       "      <td>Кира</td>\n",
       "      <td>22</td>\n",
       "      <td>Тюмень</td>\n",
       "      <td>ultra</td>\n",
       "      <td>2694.783254</td>\n",
       "      <td>18.511000</td>\n",
       "      <td>2021-08-11</td>\n",
       "      <td>8</td>\n",
       "      <td>6</td>\n",
       "      <td>0</td>\n",
       "      <td>199</td>\n",
       "    </tr>\n",
       "    <tr>\n",
       "      <th>4</th>\n",
       "      <td>1</td>\n",
       "      <td>Кира</td>\n",
       "      <td>22</td>\n",
       "      <td>Тюмень</td>\n",
       "      <td>ultra</td>\n",
       "      <td>4028.687306</td>\n",
       "      <td>26.265803</td>\n",
       "      <td>2021-08-28</td>\n",
       "      <td>8</td>\n",
       "      <td>6</td>\n",
       "      <td>0</td>\n",
       "      <td>199</td>\n",
       "    </tr>\n",
       "  </tbody>\n",
       "</table>\n",
       "</div>"
      ],
      "text/plain": [
       "   user_id  name  age    city subscription_type     distance   duration  \\\n",
       "0        1  Кира   22  Тюмень             ultra  4409.919140  25.599769   \n",
       "1        1  Кира   22  Тюмень             ultra  2617.592153  15.816871   \n",
       "2        1  Кира   22  Тюмень             ultra   754.159807   6.232113   \n",
       "3        1  Кира   22  Тюмень             ultra  2694.783254  18.511000   \n",
       "4        1  Кира   22  Тюмень             ultra  4028.687306  26.265803   \n",
       "\n",
       "        date  month  minute_price  start_ride_price  subscription_fee  \n",
       "0 2021-01-01      1             6                 0               199  \n",
       "1 2021-01-18      1             6                 0               199  \n",
       "2 2021-04-20      4             6                 0               199  \n",
       "3 2021-08-11      8             6                 0               199  \n",
       "4 2021-08-28      8             6                 0               199  "
      ]
     },
     "execution_count": 28,
     "metadata": {},
     "output_type": "execute_result"
    }
   ],
   "source": [
    "total.head()"
   ]
  },
  {
   "cell_type": "markdown",
   "metadata": {},
   "source": [
    "*Проверим, что в новом датафрейме `total` не были потеряны данные*"
   ]
  },
  {
   "cell_type": "code",
   "execution_count": 29,
   "metadata": {},
   "outputs": [
    {
     "data": {
      "text/plain": [
       "(18068, 12)"
      ]
     },
     "execution_count": 29,
     "metadata": {},
     "output_type": "execute_result"
    }
   ],
   "source": [
    "total.shape"
   ]
  },
  {
   "cell_type": "markdown",
   "metadata": {},
   "source": [
    "*18068 строк, такое же количество, что и в датафрейме `rides`, данные не были потеряны*"
   ]
  },
  {
   "cell_type": "markdown",
   "metadata": {},
   "source": [
    "<div class=\"alert alert-danger\">\n",
    "❌<b>Комментарий с замечанием ревьюера:</b> \n",
    "\n",
    "После объединения таблиц необходимо проверить размерность полученного датафрейма, чтобы убедиться, что данные не были потеряны.\n",
    "</div>\n"
   ]
  },
  {
   "cell_type": "markdown",
   "metadata": {},
   "source": [
    "<div class=\"alert alert-info\"> <b>🎓 Комментарий студента:</b> Добавил выше </div>"
   ]
  },
  {
   "cell_type": "markdown",
   "metadata": {},
   "source": [
    "<div class=\"alert alert-success\">\n",
    "<b>Комментарий с комплиментом ревьюера в2:</b> \n",
    "    \n",
    "Отлично"
   ]
  },
  {
   "cell_type": "markdown",
   "metadata": {},
   "source": [
    "*Создадим ещё два датафрейма из датафрейма `total`, в которые войдут данные о пользователях с подпиской, назовем его `total_ultra` и без нее, назовем его `total_free`. Получим нужные датафреймы с помощью срезов данных через query().*"
   ]
  },
  {
   "cell_type": "code",
   "execution_count": 30,
   "metadata": {},
   "outputs": [],
   "source": [
    "total_free = total.query('subscription_type == \"free\"')"
   ]
  },
  {
   "cell_type": "code",
   "execution_count": 31,
   "metadata": {},
   "outputs": [
    {
     "data": {
      "text/html": [
       "<div>\n",
       "<style scoped>\n",
       "    .dataframe tbody tr th:only-of-type {\n",
       "        vertical-align: middle;\n",
       "    }\n",
       "\n",
       "    .dataframe tbody tr th {\n",
       "        vertical-align: top;\n",
       "    }\n",
       "\n",
       "    .dataframe thead th {\n",
       "        text-align: right;\n",
       "    }\n",
       "</style>\n",
       "<table border=\"1\" class=\"dataframe\">\n",
       "  <thead>\n",
       "    <tr style=\"text-align: right;\">\n",
       "      <th></th>\n",
       "      <th>user_id</th>\n",
       "      <th>name</th>\n",
       "      <th>age</th>\n",
       "      <th>city</th>\n",
       "      <th>subscription_type</th>\n",
       "      <th>distance</th>\n",
       "      <th>duration</th>\n",
       "      <th>date</th>\n",
       "      <th>month</th>\n",
       "      <th>minute_price</th>\n",
       "      <th>start_ride_price</th>\n",
       "      <th>subscription_fee</th>\n",
       "    </tr>\n",
       "  </thead>\n",
       "  <tbody>\n",
       "    <tr>\n",
       "      <th>6500</th>\n",
       "      <td>700</td>\n",
       "      <td>Айдар</td>\n",
       "      <td>22</td>\n",
       "      <td>Омск</td>\n",
       "      <td>free</td>\n",
       "      <td>2515.690719</td>\n",
       "      <td>14.944286</td>\n",
       "      <td>2021-01-02</td>\n",
       "      <td>1</td>\n",
       "      <td>8</td>\n",
       "      <td>50</td>\n",
       "      <td>0</td>\n",
       "    </tr>\n",
       "    <tr>\n",
       "      <th>6501</th>\n",
       "      <td>700</td>\n",
       "      <td>Айдар</td>\n",
       "      <td>22</td>\n",
       "      <td>Омск</td>\n",
       "      <td>free</td>\n",
       "      <td>846.932642</td>\n",
       "      <td>16.234663</td>\n",
       "      <td>2021-02-01</td>\n",
       "      <td>2</td>\n",
       "      <td>8</td>\n",
       "      <td>50</td>\n",
       "      <td>0</td>\n",
       "    </tr>\n",
       "    <tr>\n",
       "      <th>6502</th>\n",
       "      <td>700</td>\n",
       "      <td>Айдар</td>\n",
       "      <td>22</td>\n",
       "      <td>Омск</td>\n",
       "      <td>free</td>\n",
       "      <td>4004.434142</td>\n",
       "      <td>20.016628</td>\n",
       "      <td>2021-02-04</td>\n",
       "      <td>2</td>\n",
       "      <td>8</td>\n",
       "      <td>50</td>\n",
       "      <td>0</td>\n",
       "    </tr>\n",
       "    <tr>\n",
       "      <th>6503</th>\n",
       "      <td>700</td>\n",
       "      <td>Айдар</td>\n",
       "      <td>22</td>\n",
       "      <td>Омск</td>\n",
       "      <td>free</td>\n",
       "      <td>1205.911290</td>\n",
       "      <td>9.782872</td>\n",
       "      <td>2021-02-10</td>\n",
       "      <td>2</td>\n",
       "      <td>8</td>\n",
       "      <td>50</td>\n",
       "      <td>0</td>\n",
       "    </tr>\n",
       "    <tr>\n",
       "      <th>6504</th>\n",
       "      <td>700</td>\n",
       "      <td>Айдар</td>\n",
       "      <td>22</td>\n",
       "      <td>Омск</td>\n",
       "      <td>free</td>\n",
       "      <td>3047.379435</td>\n",
       "      <td>17.427673</td>\n",
       "      <td>2021-02-14</td>\n",
       "      <td>2</td>\n",
       "      <td>8</td>\n",
       "      <td>50</td>\n",
       "      <td>0</td>\n",
       "    </tr>\n",
       "  </tbody>\n",
       "</table>\n",
       "</div>"
      ],
      "text/plain": [
       "      user_id   name  age  city subscription_type     distance   duration  \\\n",
       "6500      700  Айдар   22  Омск              free  2515.690719  14.944286   \n",
       "6501      700  Айдар   22  Омск              free   846.932642  16.234663   \n",
       "6502      700  Айдар   22  Омск              free  4004.434142  20.016628   \n",
       "6503      700  Айдар   22  Омск              free  1205.911290   9.782872   \n",
       "6504      700  Айдар   22  Омск              free  3047.379435  17.427673   \n",
       "\n",
       "           date  month  minute_price  start_ride_price  subscription_fee  \n",
       "6500 2021-01-02      1             8                50                 0  \n",
       "6501 2021-02-01      2             8                50                 0  \n",
       "6502 2021-02-04      2             8                50                 0  \n",
       "6503 2021-02-10      2             8                50                 0  \n",
       "6504 2021-02-14      2             8                50                 0  "
      ]
     },
     "execution_count": 31,
     "metadata": {},
     "output_type": "execute_result"
    }
   ],
   "source": [
    "total_free.head()"
   ]
  },
  {
   "cell_type": "code",
   "execution_count": 32,
   "metadata": {},
   "outputs": [],
   "source": [
    "total_ultra = total.query('subscription_type == \"ultra\"')"
   ]
  },
  {
   "cell_type": "code",
   "execution_count": 33,
   "metadata": {},
   "outputs": [
    {
     "data": {
      "text/html": [
       "<div>\n",
       "<style scoped>\n",
       "    .dataframe tbody tr th:only-of-type {\n",
       "        vertical-align: middle;\n",
       "    }\n",
       "\n",
       "    .dataframe tbody tr th {\n",
       "        vertical-align: top;\n",
       "    }\n",
       "\n",
       "    .dataframe thead th {\n",
       "        text-align: right;\n",
       "    }\n",
       "</style>\n",
       "<table border=\"1\" class=\"dataframe\">\n",
       "  <thead>\n",
       "    <tr style=\"text-align: right;\">\n",
       "      <th></th>\n",
       "      <th>user_id</th>\n",
       "      <th>name</th>\n",
       "      <th>age</th>\n",
       "      <th>city</th>\n",
       "      <th>subscription_type</th>\n",
       "      <th>distance</th>\n",
       "      <th>duration</th>\n",
       "      <th>date</th>\n",
       "      <th>month</th>\n",
       "      <th>minute_price</th>\n",
       "      <th>start_ride_price</th>\n",
       "      <th>subscription_fee</th>\n",
       "    </tr>\n",
       "  </thead>\n",
       "  <tbody>\n",
       "    <tr>\n",
       "      <th>0</th>\n",
       "      <td>1</td>\n",
       "      <td>Кира</td>\n",
       "      <td>22</td>\n",
       "      <td>Тюмень</td>\n",
       "      <td>ultra</td>\n",
       "      <td>4409.919140</td>\n",
       "      <td>25.599769</td>\n",
       "      <td>2021-01-01</td>\n",
       "      <td>1</td>\n",
       "      <td>6</td>\n",
       "      <td>0</td>\n",
       "      <td>199</td>\n",
       "    </tr>\n",
       "    <tr>\n",
       "      <th>1</th>\n",
       "      <td>1</td>\n",
       "      <td>Кира</td>\n",
       "      <td>22</td>\n",
       "      <td>Тюмень</td>\n",
       "      <td>ultra</td>\n",
       "      <td>2617.592153</td>\n",
       "      <td>15.816871</td>\n",
       "      <td>2021-01-18</td>\n",
       "      <td>1</td>\n",
       "      <td>6</td>\n",
       "      <td>0</td>\n",
       "      <td>199</td>\n",
       "    </tr>\n",
       "    <tr>\n",
       "      <th>2</th>\n",
       "      <td>1</td>\n",
       "      <td>Кира</td>\n",
       "      <td>22</td>\n",
       "      <td>Тюмень</td>\n",
       "      <td>ultra</td>\n",
       "      <td>754.159807</td>\n",
       "      <td>6.232113</td>\n",
       "      <td>2021-04-20</td>\n",
       "      <td>4</td>\n",
       "      <td>6</td>\n",
       "      <td>0</td>\n",
       "      <td>199</td>\n",
       "    </tr>\n",
       "    <tr>\n",
       "      <th>3</th>\n",
       "      <td>1</td>\n",
       "      <td>Кира</td>\n",
       "      <td>22</td>\n",
       "      <td>Тюмень</td>\n",
       "      <td>ultra</td>\n",
       "      <td>2694.783254</td>\n",
       "      <td>18.511000</td>\n",
       "      <td>2021-08-11</td>\n",
       "      <td>8</td>\n",
       "      <td>6</td>\n",
       "      <td>0</td>\n",
       "      <td>199</td>\n",
       "    </tr>\n",
       "    <tr>\n",
       "      <th>4</th>\n",
       "      <td>1</td>\n",
       "      <td>Кира</td>\n",
       "      <td>22</td>\n",
       "      <td>Тюмень</td>\n",
       "      <td>ultra</td>\n",
       "      <td>4028.687306</td>\n",
       "      <td>26.265803</td>\n",
       "      <td>2021-08-28</td>\n",
       "      <td>8</td>\n",
       "      <td>6</td>\n",
       "      <td>0</td>\n",
       "      <td>199</td>\n",
       "    </tr>\n",
       "  </tbody>\n",
       "</table>\n",
       "</div>"
      ],
      "text/plain": [
       "   user_id  name  age    city subscription_type     distance   duration  \\\n",
       "0        1  Кира   22  Тюмень             ultra  4409.919140  25.599769   \n",
       "1        1  Кира   22  Тюмень             ultra  2617.592153  15.816871   \n",
       "2        1  Кира   22  Тюмень             ultra   754.159807   6.232113   \n",
       "3        1  Кира   22  Тюмень             ultra  2694.783254  18.511000   \n",
       "4        1  Кира   22  Тюмень             ultra  4028.687306  26.265803   \n",
       "\n",
       "        date  month  minute_price  start_ride_price  subscription_fee  \n",
       "0 2021-01-01      1             6                 0               199  \n",
       "1 2021-01-18      1             6                 0               199  \n",
       "2 2021-04-20      4             6                 0               199  \n",
       "3 2021-08-11      8             6                 0               199  \n",
       "4 2021-08-28      8             6                 0               199  "
      ]
     },
     "execution_count": 33,
     "metadata": {},
     "output_type": "execute_result"
    }
   ],
   "source": [
    "total_ultra.head()"
   ]
  },
  {
   "cell_type": "markdown",
   "metadata": {},
   "source": [
    "<div class=\"alert alert-success\">\n",
    "✔️ <b>Комментарий с комплиментом ревьюера:</b>\n",
    "\n",
    "Созданы корректные датафреймы.    \n",
    "    \n"
   ]
  },
  {
   "cell_type": "markdown",
   "metadata": {},
   "source": [
    "#### Визуализируйте информацию о расстоянии и времени поездок для пользователей обеих категорий"
   ]
  },
  {
   "cell_type": "code",
   "execution_count": 34,
   "metadata": {},
   "outputs": [
    {
     "data": {
      "image/png": "[encoded data removed]",
      "text/plain": [
       "<Figure size 360x504 with 1 Axes>"
      ]
     },
     "metadata": {
      "needs_background": "light"
     },
     "output_type": "display_data"
    }
   ],
   "source": [
    "total_free.plot(x='distance', y='duration', style='o',alpha=0.2, figsize=(5, 7), grid=True)\n",
    "plt.xlabel('Расстояние поездки')\n",
    "plt.ylabel('Продолжительность поездки')\n",
    "plt.title('Соотношение расстояния к продолжитольности поездки (без подписки)')\n",
    "plt.show()"
   ]
  },
  {
   "cell_type": "markdown",
   "metadata": {},
   "source": [
    "*После построения графика видим, что есть прямая зависимость между расстоянием и временем.  Часто пользователи совершают поездки на расстояния до 1000 метров, но больше всего это расстояние от 2000 до 5000 метров. Так же мы видим ту самую анамалию в 0,5 минуты и расстоянием от 4000 метров.*"
   ]
  },
  {
   "cell_type": "code",
   "execution_count": 35,
   "metadata": {},
   "outputs": [
    {
     "data": {
      "image/png": "[encoded data removed]",
      "text/plain": [
       "<Figure size 360x504 with 1 Axes>"
      ]
     },
     "metadata": {
      "needs_background": "light"
     },
     "output_type": "display_data"
    }
   ],
   "source": [
    "total_ultra.plot(x='distance', y='duration', style='o',alpha=0.3, figsize=(5, 7), grid=True)\n",
    "plt.xlabel('Расстояние поездки')\n",
    "plt.ylabel('Продолжительность поездки')\n",
    "plt.title('Соотношение расстояния к продолжитольности поездки (платная подписка)')\n",
    "plt.show()"
   ]
  },
  {
   "cell_type": "markdown",
   "metadata": {},
   "source": [
    "*После построения графика видим, что так же есть прямая зависимость между расстоянием и временем. Пользователи совершают поездки в районе 1000 метров, основная часть это поздки от 2000 до 5000 метров.*"
   ]
  },
  {
   "cell_type": "markdown",
   "metadata": {},
   "source": [
    "***Построенные графики нам показали, что поездки разных групп пользователей отличаются друг от друга. Пользователей без подписки больше и это видно на графике, так же видим, что расстояние, которое они проезжают разное и по разному распределено. Анамальные поздки в 0,5 минут есть только у пользователей без подписки.***"
   ]
  },
  {
   "cell_type": "markdown",
   "metadata": {},
   "source": [
    "<div class=\"alert alert-success\">\n",
    "✔️ <b>Комментарий с комплиментом ревьюера:</b>\n",
    "\n",
    "Отличный анализ\n",
    "    \n"
   ]
  },
  {
   "cell_type": "markdown",
   "metadata": {},
   "source": [
    "### Шаг 5. Подсчёт выручки"
   ]
  },
  {
   "cell_type": "markdown",
   "metadata": {},
   "source": [
    "#### Создайте датафрейм с агрегированными данными о поездках на основе датафрейма с объединёнными данными из шага 4. Найдите суммарное расстояние, количество поездок и суммарное время для каждого пользователя за каждый месяц. Добавьте столбец с помесячной выручкой, которую принёс каждый пользователь."
   ]
  },
  {
   "cell_type": "code",
   "execution_count": 36,
   "metadata": {},
   "outputs": [],
   "source": [
    "total['duration'] = np.ceil(total['duration'])"
   ]
  },
  {
   "cell_type": "markdown",
   "metadata": {},
   "source": [
    "*Продолжительность каждой поездки должна быть округлена с помощью метода «потолок» библиотеки numpy — np.ceil()*"
   ]
  },
  {
   "cell_type": "code",
   "execution_count": 37,
   "metadata": {},
   "outputs": [],
   "source": [
    "income_data = total.pivot_table(\n",
    "    index=['user_id', 'month'], \n",
    "    values=['distance', 'duration', 'minute_price', 'start_ride_price', 'subscription_fee', 'subscription_type'],\n",
    "    aggfunc={'distance': 'sum', 'duration': ['sum', 'count'],\n",
    "             'minute_price': 'first', 'start_ride_price': 'first', 'subscription_fee': 'first', 'subscription_type': 'first'})"
   ]
  },
  {
   "cell_type": "code",
   "execution_count": 38,
   "metadata": {},
   "outputs": [],
   "source": [
    "income_data.columns = ['distance', 'count', 'duration', 'minute_price', 'start_ride_price', 'subscription_fee', 'subscription_type']"
   ]
  },
  {
   "cell_type": "code",
   "execution_count": 39,
   "metadata": {},
   "outputs": [],
   "source": [
    "income_data['revenue'] = income_data['start_ride_price']*income_data['count']+income_data['minute_price']*income_data['duration']+income_data['subscription_fee']"
   ]
  },
  {
   "cell_type": "code",
   "execution_count": 40,
   "metadata": {},
   "outputs": [],
   "source": [
    "revenue_table = income_data[['distance', 'count', 'duration', 'revenue']]"
   ]
  },
  {
   "cell_type": "code",
   "execution_count": 41,
   "metadata": {},
   "outputs": [
    {
     "data": {
      "text/html": [
       "<div>\n",
       "<style scoped>\n",
       "    .dataframe tbody tr th:only-of-type {\n",
       "        vertical-align: middle;\n",
       "    }\n",
       "\n",
       "    .dataframe tbody tr th {\n",
       "        vertical-align: top;\n",
       "    }\n",
       "\n",
       "    .dataframe thead th {\n",
       "        text-align: right;\n",
       "    }\n",
       "</style>\n",
       "<table border=\"1\" class=\"dataframe\">\n",
       "  <thead>\n",
       "    <tr style=\"text-align: right;\">\n",
       "      <th></th>\n",
       "      <th></th>\n",
       "      <th>distance</th>\n",
       "      <th>count</th>\n",
       "      <th>duration</th>\n",
       "      <th>revenue</th>\n",
       "    </tr>\n",
       "    <tr>\n",
       "      <th>user_id</th>\n",
       "      <th>month</th>\n",
       "      <th></th>\n",
       "      <th></th>\n",
       "      <th></th>\n",
       "      <th></th>\n",
       "    </tr>\n",
       "  </thead>\n",
       "  <tbody>\n",
       "    <tr>\n",
       "      <th rowspan=\"6\" valign=\"top\">1</th>\n",
       "      <th>1</th>\n",
       "      <td>7027.511294</td>\n",
       "      <td>2</td>\n",
       "      <td>42.0</td>\n",
       "      <td>451.0</td>\n",
       "    </tr>\n",
       "    <tr>\n",
       "      <th>4</th>\n",
       "      <td>754.159807</td>\n",
       "      <td>1</td>\n",
       "      <td>7.0</td>\n",
       "      <td>241.0</td>\n",
       "    </tr>\n",
       "    <tr>\n",
       "      <th>8</th>\n",
       "      <td>6723.470560</td>\n",
       "      <td>2</td>\n",
       "      <td>46.0</td>\n",
       "      <td>475.0</td>\n",
       "    </tr>\n",
       "    <tr>\n",
       "      <th>10</th>\n",
       "      <td>5809.911100</td>\n",
       "      <td>2</td>\n",
       "      <td>32.0</td>\n",
       "      <td>391.0</td>\n",
       "    </tr>\n",
       "    <tr>\n",
       "      <th>11</th>\n",
       "      <td>7003.499363</td>\n",
       "      <td>3</td>\n",
       "      <td>56.0</td>\n",
       "      <td>535.0</td>\n",
       "    </tr>\n",
       "    <tr>\n",
       "      <th>12</th>\n",
       "      <td>6751.629942</td>\n",
       "      <td>2</td>\n",
       "      <td>28.0</td>\n",
       "      <td>367.0</td>\n",
       "    </tr>\n",
       "    <tr>\n",
       "      <th rowspan=\"4\" valign=\"top\">2</th>\n",
       "      <th>3</th>\n",
       "      <td>10187.723006</td>\n",
       "      <td>3</td>\n",
       "      <td>63.0</td>\n",
       "      <td>577.0</td>\n",
       "    </tr>\n",
       "    <tr>\n",
       "      <th>4</th>\n",
       "      <td>6164.381824</td>\n",
       "      <td>2</td>\n",
       "      <td>40.0</td>\n",
       "      <td>439.0</td>\n",
       "    </tr>\n",
       "    <tr>\n",
       "      <th>6</th>\n",
       "      <td>3255.338202</td>\n",
       "      <td>1</td>\n",
       "      <td>14.0</td>\n",
       "      <td>283.0</td>\n",
       "    </tr>\n",
       "    <tr>\n",
       "      <th>7</th>\n",
       "      <td>6780.722964</td>\n",
       "      <td>2</td>\n",
       "      <td>48.0</td>\n",
       "      <td>487.0</td>\n",
       "    </tr>\n",
       "  </tbody>\n",
       "</table>\n",
       "</div>"
      ],
      "text/plain": [
       "                   distance  count  duration  revenue\n",
       "user_id month                                        \n",
       "1       1       7027.511294      2      42.0    451.0\n",
       "        4        754.159807      1       7.0    241.0\n",
       "        8       6723.470560      2      46.0    475.0\n",
       "        10      5809.911100      2      32.0    391.0\n",
       "        11      7003.499363      3      56.0    535.0\n",
       "        12      6751.629942      2      28.0    367.0\n",
       "2       3      10187.723006      3      63.0    577.0\n",
       "        4       6164.381824      2      40.0    439.0\n",
       "        6       3255.338202      1      14.0    283.0\n",
       "        7       6780.722964      2      48.0    487.0"
      ]
     },
     "execution_count": 41,
     "metadata": {},
     "output_type": "execute_result"
    }
   ],
   "source": [
    "revenue_table.head(10)"
   ]
  },
  {
   "cell_type": "markdown",
   "metadata": {},
   "source": [
    "***Для создания нового датафрейма `revenue_table`с помощью метода `.pivot_table()` была сформирована сводная таблица `income_data`. В поставленной задаче нужно найти выручка каждого пользователя за каждый месяц, для этого в строках сводной таблицы указываем уникальный идентификатор пользователя и номер месяца, в столбцах найдена сумму расстояния, количество поездок, сумму продолжительности поездок, а так же значения столбцов стоимости начала поездки, одной минуты, ежемесячного платежа и тип подписки. Эти значения пригодятся, чтобы посчитать выручку на каждый месяц. Полученные двухэтажные названия были приведены в поряд. Выручку посчитал по формуле: Стоимость старта поездки умноженое на количество поездок плюс стоимость одной минуты поездки умноженное на общую продолжительность всех поездок плюс стоимость подписки. Необходимо сказать, что общая продолжительность поездок была округлена с помощью метода «потолок», как требовалось в задании. В датафрейме `revenue_table` оставлены только необходимые столбцы.***"
   ]
  },
  {
   "cell_type": "markdown",
   "metadata": {},
   "source": [
    "<div class=\"alert alert-success\">\n",
    "✔️ <b>Комментарий с комплиментом ревьюера:</b>\n",
    "\n",
    "Отлично, выручка посчитана верно.\n",
    "\n",
    "</div>\n"
   ]
  },
  {
   "cell_type": "markdown",
   "metadata": {},
   "source": [
    "### Шаг 6. Проверка гипотез"
   ]
  },
  {
   "cell_type": "markdown",
   "metadata": {},
   "source": [
    "**Продакт-менеджеры сервиса хотят увеличить количество пользователей с подпиской. Для этого они будут проводить различные акции, но сначала нужно выяснить несколько важных моментов.**"
   ]
  },
  {
   "cell_type": "markdown",
   "metadata": {},
   "source": [
    "#### Важно понять, тратят ли пользователи с подпиской больше времени на поездки? Если да, то пользователи с подпиской могут быть «выгоднее» для компании."
   ]
  },
  {
   "cell_type": "markdown",
   "metadata": {},
   "source": [
    "*Нулевая гипотеза: Средние значение времени, которое тратят пользователи с подпиской и без нее равны. Альтернативная гипотеза: Средние значение времени, которое тратят пользователи с подпиской больше, чем средние значение времени, которое тратят пользователия без нее.*\n",
    "\n",
    "*Чтобы проверить данную гипотезу, нужно передать в метод `ttest_ind()` сначала выборку с продолжительностью сессий пользователей с подпиской `total_ultra['duration']`, затем выборку с продолжительностью сессий пользователей без подписки `total_free['duration']`. В качестве `alternative` укажем 'greater', то есть \"больше\". Уровень статистической значимости выберем 0,05.*"
   ]
  },
  {
   "cell_type": "markdown",
   "metadata": {},
   "source": [
    "<div class=\"alert alert-info\"> <b>🎓 Комментарий студента:</b> Скорректировал </div>"
   ]
  },
  {
   "cell_type": "markdown",
   "metadata": {},
   "source": [
    "<div class=\"alert alert-danger\">\n",
    "❌<b>Комментарий с замечанием ревьюера в2:</b> \n",
    "\n",
    "Скорректируй, пожалуйста, формулировки гипотез: нулевая гипотеза всегда формулируется с учетом равенства. Материалы ниже помогут тебе корректно сформулировать гипотезы.\n",
    "    \n",
    "https://tsput.ru/res/informat/mop/lections/lection_4.htm\n",
    "    \n",
    "https://law.bsu.by/pub/11/barvenov_4.pdf\n",
    "\n",
    "</div>"
   ]
  },
  {
   "cell_type": "code",
   "execution_count": 42,
   "metadata": {},
   "outputs": [
    {
     "name": "stdout",
     "output_type": "stream",
     "text": [
      "p-value: 1.2804098316645618e-34\n",
      "Отвергаем нулевую гипотезу\n"
     ]
    }
   ],
   "source": [
    "alpha = 0.05 # уровень статистической значимости\n",
    "# если p-value окажется меньше него, отвергнем гипотезу\n",
    "\n",
    "results = st.ttest_ind(total_ultra['duration'], total_free['duration'], alternative='greater')\n",
    "\n",
    "print(f'p-value: {results.pvalue}')\n",
    "\n",
    "if results.pvalue < alpha:\n",
    "    print('Отвергаем нулевую гипотезу')\n",
    "else:\n",
    "    print('Не получилось отвергнуть нулевую гипотезу') \n"
   ]
  },
  {
   "cell_type": "markdown",
   "metadata": {},
   "source": [
    "***Полученное значение p-value меньше заданного уровня значимости, поэтому можно отвергнуть нулевую гипотезу. Есть основания говорить, что пользователи с подпиской тратят больше время, чем пользователи без нее.***"
   ]
  },
  {
   "cell_type": "markdown",
   "metadata": {},
   "source": [
    "#### Расстояние одной поездки в 3130 метров — оптимальное с точки зрения износа самоката. Можно ли сказать, что расстояние, которое проезжают пользователи с подпиской за одну поездку, не превышает 3130 метров?"
   ]
  },
  {
   "cell_type": "markdown",
   "metadata": {},
   "source": [
    "*Нулевая гипотеза: Средние расстояние одной поездки не превышает 3130 метров. Альтернативная гипотеза:Средние расстояние одной поездки превышает 3130 метров.**\n",
    "\n",
    "*Чтобы проверить данную гипотезу, нужно передать в метод ttest_1samp() выборку из датафрейма total_ultra['distance']. В качестве alternative укажем 'greater', то есть \"больше\". Уровень статистической значимости выберем 0,05.*"
   ]
  },
  {
   "cell_type": "code",
   "execution_count": 43,
   "metadata": {},
   "outputs": [
    {
     "name": "stdout",
     "output_type": "stream",
     "text": [
      "p-значение: 0.9195368847849785\n",
      "Не отвергаем нулевую гипотезу\n"
     ]
    }
   ],
   "source": [
    "interested_value = 3130\n",
    "\n",
    "alpha = 0.05\n",
    "\n",
    "results = st.ttest_1samp(total_ultra['distance'], interested_value, alternative='greater')\n",
    "\n",
    "print('p-значение:', results.pvalue)\n",
    "\n",
    "if (results.pvalue < alpha):\n",
    "    print('Отвергаем нулевую гипотезу')\n",
    "else:\n",
    "    print('Не отвергаем нулевую гипотезу') "
   ]
  },
  {
   "cell_type": "markdown",
   "metadata": {},
   "source": [
    "<div class=\"alert alert-danger\">\n",
    "❌<b>Комментарий с замечанием ревьюера в2:</b> \n",
    "\n",
    "Поскольку оптимальное расстояние по износу составляет 3130 м, значит большее расстояние приводит к повышенному износу самоката. Поскольку альтернативная гипотеза звучит \"Подписчики в среднем проезжают расстояние больше оптимального\", то корректнее соответственно в статистическом тесте использовать параметр alternative = 'greater'\n",
    "</div>\n"
   ]
  },
  {
   "cell_type": "markdown",
   "metadata": {},
   "source": [
    "<div class=\"alert alert-info\"> <b>🎓 Комментарий студента:</b> Понял, изменил </div>"
   ]
  },
  {
   "cell_type": "markdown",
   "metadata": {},
   "source": [
    "***Полученное значение p-value меньше заданного уровня значимости, поэтому нулевая гипотеза не отвергается.***"
   ]
  },
  {
   "cell_type": "markdown",
   "metadata": {},
   "source": [
    "#### Будет ли помесячная выручка от пользователей с подпиской по месяцам выше, чем выручка от пользователей без подписки."
   ]
  },
  {
   "cell_type": "markdown",
   "metadata": {},
   "source": [
    "*Чтобы приступить к проверке гипотезы необходимо обратимся к нашей сводной таблице `income_data`. Посмотрев на данную таблицу видим, что `user_id` и `month` являются индексами, сбросим данные индексы с помощью `reset_index()` и с помощью метода `.pivot_table()` сформируем новую сводную таблицу `month_revenue`, в которой индексами будет тип подписки, колонками номер каждого месяца, а в ячеках сумма выручки за каждый месяц.*"
   ]
  },
  {
   "cell_type": "code",
   "execution_count": 44,
   "metadata": {},
   "outputs": [],
   "source": [
    "month_revenue = income_data.reset_index().pivot_table(index='subscription_type', columns='month', values='revenue', aggfunc='sum')"
   ]
  },
  {
   "cell_type": "markdown",
   "metadata": {},
   "source": [
    "*Нулевая гипотеза: Средние значения трат пользователей из двух групп равны. Альтернативная гипотеза: Средние значения трат пользователей с подпиской больше, чем среднее значение трат пользователей без подписки.*\n",
    "\n",
    "*Чтобы проверить данную гипотезу, нужно передать в метод `ttest_ind()` сначала выборку с суммами пользователей с подпиской (month_revenue.loc['ultra']), затем выборку с суммами пользователей без подписки (month_revenue.loc['free']). В качестве `alternative` укажем 'greater', то есть \"больше\". Уровень статистической значимости выберем 0,05.*"
   ]
  },
  {
   "cell_type": "code",
   "execution_count": 45,
   "metadata": {},
   "outputs": [
    {
     "name": "stdout",
     "output_type": "stream",
     "text": [
      "p-value: 0.9999999999997602\n",
      "Не получилось отвергнуть нулевую гипотезу\n"
     ]
    }
   ],
   "source": [
    "alpha = 0.05 # уровень статистической значимости\n",
    "# если p-value окажется меньше него, отвергнем гипотезу\n",
    "\n",
    "results = st.ttest_ind(month_revenue.loc['ultra'], month_revenue.loc['free'], alternative='greater')\n",
    "\n",
    "print(f'p-value: {results.pvalue}')\n",
    "\n",
    "if results.pvalue < alpha:\n",
    "    print('Отвергаем нулевую гипотезу')\n",
    "else:\n",
    "    print('Не получилось отвергнуть нулевую гипотезу') "
   ]
  },
  {
   "cell_type": "markdown",
   "metadata": {},
   "source": [
    "***Полученное значение p-value больше заданного уровня значимости, поэтому нулевую гипотезу мы не отвергаем.***"
   ]
  },
  {
   "cell_type": "markdown",
   "metadata": {},
   "source": [
    "<div class=\"alert alert-info\"> <b>🎓 Комментарий студента v2:</b> Тут тоже изменил нулевую и альтернативную. И теперь все понял по теории, спасибо. </div>"
   ]
  },
  {
   "cell_type": "markdown",
   "metadata": {},
   "source": [
    "<div class=\"alert alert-info\"> <b>🎓 Комментарий студента:</b> Добавил и скорректировал </div>"
   ]
  },
  {
   "cell_type": "markdown",
   "metadata": {},
   "source": [
    "<div class=\"alert alert-danger\">\n",
    "❌<b>Комментарий с замечанием ревьюера:</b> \n",
    "\n",
    "Добавь, пожалуйста, формулировки нулевой и альтернативной гипотезы для каждой проверки.\n",
    "    \n",
    "Скорректируй, пожалуйста, проверки гипотез, их необходимо провести с помощью статистических методов\n",
    "</div>\n"
   ]
  },
  {
   "cell_type": "markdown",
   "metadata": {},
   "source": [
    "#### Представьте такую ситуацию: техническая команда сервиса обновила сервера, с которыми взаимодействует мобильное приложение. Она надеется, что из-за этого количество обращений в техподдержку значимо снизилось. Некоторый файл содержит для каждого пользователя данные о количестве обращений до обновления и после него. Какой тест вам понадобился бы для проверки этой гипотезы?"
   ]
  },
  {
   "cell_type": "markdown",
   "metadata": {},
   "source": [
    "***В данном случае мы имеем зависимые выборки (их еще называют парные). Для проверки данной гипотезы нужно применить метод `scipy.stats.ttest_rel`, в котором указать `alternative='greater'` проверится правосторонняя альтернативная гипотеза о том, что истинное среднее генеральной совокупности до изменения больше, чем истинное среднее генеральной совокупности после изменения.***"
   ]
  },
  {
   "cell_type": "markdown",
   "metadata": {},
   "source": [
    "<div class=\"alert alert-success\">\n",
    "✔️ <b>Комментарий с комплиментом ревьюера:</b>\n",
    "\n",
    "Согласен\n",
    "\n",
    "</div>\n"
   ]
  },
  {
   "cell_type": "markdown",
   "metadata": {},
   "source": [
    "### Шаг 7. Распределения"
   ]
  },
  {
   "cell_type": "markdown",
   "metadata": {},
   "source": [
    "#### Отделу маркетинга GoFast поставили задачу: нужно провести акцию с раздачей промокодов на один бесплатный месяц подписки, в рамках которой как минимум 100 существующих клиентов должны продлить эту подписку. То есть по завершении периода действия подписки пользователь может либо отказаться от неё, либо продлить, совершив соответствующий платёж. Эта акция уже проводилась ранее и по итогу выяснилось, что после бесплатного пробного периода подписку продлевают 10 % пользователей. Выясните, какое минимальное количество промокодов нужно разослать, чтобы вероятность не выполнить план была примерно 5 %. Подберите параметры распределения, описывающего эту ситуацию, постройте график распределения и сформулируйте ответ на вопрос о количестве промокодов."
   ]
  },
  {
   "cell_type": "markdown",
   "metadata": {},
   "source": [
    "*Чтобы выяснить какое минимальное количество нужно промокодов разослоть аппроксимируем биномиальное распределение нормальным, построим график и сделаем расчеты. Нам известно, что 10% пользователей продливают подписку после акции, значит вероятность успеха p = 0,1, так же известна вероятность в 5% или 0,05 не выполнить план, чтобы 100 клиентов продлили подписку. С помощью цикла будем перебирать значения n от 1000 (это число мы получим, если 100 * 0,1) пока не получим результать distr.cdf(100) >= 0.05.*                                      "
   ]
  },
  {
   "cell_type": "code",
   "execution_count": 46,
   "metadata": {},
   "outputs": [
    {
     "name": "stdout",
     "output_type": "stream",
     "text": [
      "Минимальное количество промокодов: 1170\n"
     ]
    },
    {
     "data": {
      "image/png": "[encoded data removed]",
      "text/plain": [
       "<Figure size 432x288 with 1 Axes>"
      ]
     },
     "metadata": {
      "needs_background": "light"
     },
     "output_type": "display_data"
    },
    {
     "name": "stdout",
     "output_type": "stream",
     "text": [
      "Условие выполняется\n"
     ]
    }
   ],
   "source": [
    "# задаём параметры биномиального распределения\n",
    "n = 1000 # количество попыток\n",
    "p = 0.1 # вероятность успеха\n",
    "# зададим мат.ожидание и ст.отклонение нормального распределения равными\n",
    "# мат.ожиданию и ст.отклонению биномиального распределения\n",
    "mu = n * p\n",
    "sigma = sqrt(n * p * (1 - p))\n",
    "distr = st.norm(mu, sigma)\n",
    "# находим значение n при котором перестанет выполняться условие\n",
    "while distr.cdf(100) >= 0.05:\n",
    "    mu = n * p\n",
    "    sigma = sqrt(n * p * (1 - p))\n",
    "    distr = st.norm(mu, sigma)\n",
    "    n+=1\n",
    "print('Минимальное количество промокодов:', n)\n",
    "# границы промежутка, в котором будем строить аппроксимацию -\n",
    "# от n*p минус 3 ст.отклонения бином.распределения\n",
    "# до n*p плюс 3 ст.отклонения бином.распределения\n",
    "left = int(n * p - 3 * sqrt(n * p * (1 - p)))\n",
    "right = int(n * p + 3 * sqrt(n * p * (1 - p)))\n",
    "# рисуем график нормального распределения:\n",
    "# получим список из 100 чисел от left до right\n",
    "x = np.linspace(left, right, 100)\n",
    "ax = plt.subplot()\n",
    "ax.plot(x, norm.pdf(x, mu, sigma), 'bo', ms=5, label='плотность вероятности нормального распределения')\n",
    "ax.legend(loc='best')\n",
    "plt.show()\n",
    "# выводим, выполняется ли наше условие аппроксимации:\n",
    "# лежит ли mu ± 3 sigma в промежутке от 0 до n:\n",
    "if (mu - (3 * sigma) >= 0) and ((mu + (3 * sigma) <= n)):\n",
    "    print('Условие выполняется')\n",
    "else:\n",
    "    print('Условие не выполняется')"
   ]
  },
  {
   "cell_type": "markdown",
   "metadata": {},
   "source": [
    "***Минимальное количество промокодов 1170 шт, чтобы вероятность не выполнить план была примерно 5 %. Условие апроксимации выполняется, на графике видим нормальное распределение.***"
   ]
  },
  {
   "cell_type": "markdown",
   "metadata": {},
   "source": [
    "#### Отдел маркетинга рассылает клиентам push-уведомления в мобильном приложении. Клиенты могут открыть его или не открывать. Известно, что уведомления открывают около 40% получивших клиентов. Отдел планирует разослать 1 млн уведомлений. С помощью аппроксимации постройте примерный график распределения и оцените вероятность того, что уведомление откроют не более 399,5 тыс. пользователей."
   ]
  },
  {
   "cell_type": "markdown",
   "metadata": {},
   "source": [
    "*Чтобы оценить вероятность того, что уведомление откруют не более 399,5 тыс пользователей аппроксимируем биномиальное распределение нормальным, построим график и посчитаем вероятность:*                                         "
   ]
  },
  {
   "cell_type": "code",
   "execution_count": 47,
   "metadata": {},
   "outputs": [
    {
     "data": {
      "image/png": "[encoded data removed]",
      "text/plain": [
       "<Figure size 432x288 with 1 Axes>"
      ]
     },
     "metadata": {
      "needs_background": "light"
     },
     "output_type": "display_data"
    },
    {
     "name": "stdout",
     "output_type": "stream",
     "text": [
      "Условие выполняется\n",
      "Вероятность открытия писем: 0.15371708296369768\n"
     ]
    }
   ],
   "source": [
    "# задаём параметры биномиального распределения\n",
    "n = 1000000 # количество попыток\n",
    "p = 0.4 # вероятность успеха\n",
    "# границы промежутка, в котором будем строить аппроксимацию -\n",
    "# от n*p минус 3 ст.отклонения бином.распределения\n",
    "# до n*p плюс 3 ст.отклонения бином.распределения\n",
    "left = int(n * p - 3 * sqrt(n * p * (1 - p)))\n",
    "right = int(n * p + 3 * sqrt(n * p * (1 - p)))\n",
    "# зададим мат.ожидание и ст.отклонение нормального распределения равными\n",
    "# мат.ожиданию и ст.отклонению биномиального распределения\n",
    "mu = n * p\n",
    "sigma = sqrt(n * p * (1 - p))\n",
    "# рисуем график нормального распределения:\n",
    "# получим список из 100 чисел от left до right\n",
    "x = np.linspace(left, right, 100)\n",
    "ax = plt.subplot()\n",
    "ax.plot(x, norm.pdf(x, mu, sigma), 'b-', lw=3, alpha=0.5, label='плотность вероятности нормального распределения')\n",
    "ax.legend(loc='best')\n",
    "plt.show()\n",
    "# выводим, выполняется ли наше условие аппроксимации:\n",
    "# лежит ли mu ± 3 sigma в промежутке от 0 до n:\n",
    "if (mu - (3 * sigma) >= 0) and ((mu + (3 * sigma) <= n)):\n",
    "    print('Условие выполняется')\n",
    "else:\n",
    "    print('Условие не выполняется')\n",
    "# посчитаем вероятность открытия писем:\n",
    "distr = st.norm(mu, sigma)\n",
    "print('Вероятность открытия писем:', distr.cdf(399500))"
   ]
  },
  {
   "cell_type": "markdown",
   "metadata": {},
   "source": [
    "***Вероятность, что уведомление откроют не более 399,5 тыс пользователей чуть больше 15%. Условие апроксимации выполняется, на графике видим нормальное распределение.***"
   ]
  },
  {
   "cell_type": "markdown",
   "metadata": {},
   "source": [
    "<div class=\"alert alert-success\">\n",
    "✔️ <b>Комментарий с комплиментом ревьюера:</b>\n",
    "\n",
    "Отлично, задания выполнены корректно\n",
    "\n",
    "</div>\n"
   ]
  },
  {
   "cell_type": "markdown",
   "metadata": {},
   "source": [
    "**Общий вывод по проекту:**\n",
    "\n",
    "**В данном проекте мы провели предобработку данных, исследовательский анализ, подсчетали выручку, проверели гипотезы и распределения. Выяснили, что самый популярный город Пятигорск, а самый низкий показатель в Москве, большая часть клиентов не имеют подписки, средний возвраст пользователей около 25 лет, самому взрослому 43 года. Так же выяснили, что есть анамально маленькие по времени поездки 0,5 мин. с большими расстояниями, которые нужно проверить техническому отделу. Построенные графики с отношением расстояния и времени показали разное поведение двух групп. Проверка гипотез и распределения поможет продакт-менеджерам сервиса, которые хотят увеличить количество пользователей с подпиской, провести акции и разолать push-уведомления в мобильном приложении.**"
   ]
  },
  {
   "cell_type": "code",
   "execution_count": null,
   "metadata": {},
   "outputs": [],
   "source": []
  }
 ],
 "metadata": {
  "ExecuteTimeLog": [
   {
    "duration": 50,
    "start_time": "2024-04-08T13:23:09.340Z"
   },
   {
    "duration": 6,
    "start_time": "2024-04-08T13:23:16.616Z"
   },
   {
    "duration": 384,
    "start_time": "2024-04-08T13:23:23.598Z"
   },
   {
    "duration": 97,
    "start_time": "2024-04-08T13:23:25.141Z"
   },
   {
    "duration": 172,
    "start_time": "2024-04-08T13:23:26.934Z"
   },
   {
    "duration": 75,
    "start_time": "2024-04-08T13:23:28.364Z"
   },
   {
    "duration": 16,
    "start_time": "2024-04-08T13:23:29.553Z"
   },
   {
    "duration": 11,
    "start_time": "2024-04-08T13:23:58.776Z"
   },
   {
    "duration": 7,
    "start_time": "2024-04-08T13:24:00.905Z"
   },
   {
    "duration": 447,
    "start_time": "2024-04-08T13:24:31.131Z"
   },
   {
    "duration": 30,
    "start_time": "2024-04-08T13:24:32.954Z"
   },
   {
    "duration": 39,
    "start_time": "2024-04-08T13:24:34.411Z"
   },
   {
    "duration": 25,
    "start_time": "2024-04-08T13:24:35.915Z"
   },
   {
    "duration": 16,
    "start_time": "2024-04-08T13:24:37.960Z"
   },
   {
    "duration": 9,
    "start_time": "2024-04-08T13:24:40.350Z"
   },
   {
    "duration": 8,
    "start_time": "2024-04-08T13:24:44.392Z"
   },
   {
    "duration": 11,
    "start_time": "2024-04-08T13:25:05.096Z"
   },
   {
    "duration": 13,
    "start_time": "2024-04-08T13:25:33.916Z"
   },
   {
    "duration": 11,
    "start_time": "2024-04-08T13:26:14.389Z"
   },
   {
    "duration": 41,
    "start_time": "2024-04-08T13:26:39.988Z"
   },
   {
    "duration": 9,
    "start_time": "2024-04-08T13:26:48.692Z"
   },
   {
    "duration": 12,
    "start_time": "2024-04-08T13:26:51.972Z"
   },
   {
    "duration": 364,
    "start_time": "2024-04-08T13:27:23.511Z"
   },
   {
    "duration": 27,
    "start_time": "2024-04-08T13:27:25.099Z"
   },
   {
    "duration": 43,
    "start_time": "2024-04-08T13:27:26.343Z"
   },
   {
    "duration": 25,
    "start_time": "2024-04-08T13:27:27.467Z"
   },
   {
    "duration": 19,
    "start_time": "2024-04-08T13:27:29.072Z"
   },
   {
    "duration": 11,
    "start_time": "2024-04-08T13:27:30.442Z"
   },
   {
    "duration": 9,
    "start_time": "2024-04-08T13:27:32.211Z"
   },
   {
    "duration": 11,
    "start_time": "2024-04-08T13:27:33.743Z"
   },
   {
    "duration": 7,
    "start_time": "2024-04-08T13:27:35.327Z"
   },
   {
    "duration": 13,
    "start_time": "2024-04-08T13:27:37.635Z"
   },
   {
    "duration": 7,
    "start_time": "2024-04-08T13:39:18.308Z"
   },
   {
    "duration": 8,
    "start_time": "2024-04-08T13:40:03.650Z"
   },
   {
    "duration": 5,
    "start_time": "2024-04-08T13:40:05.025Z"
   },
   {
    "duration": 5,
    "start_time": "2024-04-08T13:45:30.404Z"
   },
   {
    "duration": 7,
    "start_time": "2024-04-08T13:45:43.502Z"
   },
   {
    "duration": 83,
    "start_time": "2024-04-08T13:46:29.250Z"
   },
   {
    "duration": 409,
    "start_time": "2024-04-08T16:23:42.392Z"
   },
   {
    "duration": 102,
    "start_time": "2024-04-08T16:23:42.803Z"
   },
   {
    "duration": 159,
    "start_time": "2024-04-08T16:23:42.907Z"
   },
   {
    "duration": 67,
    "start_time": "2024-04-08T16:23:43.069Z"
   },
   {
    "duration": 18,
    "start_time": "2024-04-08T16:23:43.139Z"
   },
   {
    "duration": 11,
    "start_time": "2024-04-08T16:23:43.159Z"
   },
   {
    "duration": 24,
    "start_time": "2024-04-08T16:23:43.171Z"
   },
   {
    "duration": 23,
    "start_time": "2024-04-08T16:23:43.197Z"
   },
   {
    "duration": 20,
    "start_time": "2024-04-08T16:23:43.222Z"
   },
   {
    "duration": 12,
    "start_time": "2024-04-08T16:23:43.244Z"
   },
   {
    "duration": 10,
    "start_time": "2024-04-08T16:23:43.258Z"
   },
   {
    "duration": 6,
    "start_time": "2024-04-08T16:23:43.269Z"
   },
   {
    "duration": 6,
    "start_time": "2024-04-08T16:23:43.277Z"
   },
   {
    "duration": 8,
    "start_time": "2024-04-08T16:23:43.286Z"
   },
   {
    "duration": 5,
    "start_time": "2024-04-08T16:23:43.295Z"
   },
   {
    "duration": 14,
    "start_time": "2024-04-08T16:23:43.302Z"
   },
   {
    "duration": 9,
    "start_time": "2024-04-08T16:23:43.318Z"
   },
   {
    "duration": 540,
    "start_time": "2024-04-08T16:34:14.422Z"
   },
   {
    "duration": 3,
    "start_time": "2024-04-08T16:35:28.001Z"
   },
   {
    "duration": 16,
    "start_time": "2024-04-08T16:35:30.867Z"
   },
   {
    "duration": 15,
    "start_time": "2024-04-08T16:35:55.692Z"
   },
   {
    "duration": 274,
    "start_time": "2024-04-08T16:38:19.999Z"
   },
   {
    "duration": 175,
    "start_time": "2024-04-08T16:39:52.910Z"
   },
   {
    "duration": 196,
    "start_time": "2024-04-08T16:40:08.912Z"
   },
   {
    "duration": 338,
    "start_time": "2024-04-08T16:41:57.269Z"
   },
   {
    "duration": 9,
    "start_time": "2024-04-08T16:42:17.883Z"
   },
   {
    "duration": 315,
    "start_time": "2024-04-08T16:42:31.234Z"
   },
   {
    "duration": 1295,
    "start_time": "2024-04-08T16:55:49.757Z"
   },
   {
    "duration": 11,
    "start_time": "2024-04-08T16:56:09.594Z"
   },
   {
    "duration": 244,
    "start_time": "2024-04-08T16:58:19.931Z"
   },
   {
    "duration": 12,
    "start_time": "2024-04-08T17:03:09.870Z"
   },
   {
    "duration": 160,
    "start_time": "2024-04-08T17:03:31.091Z"
   },
   {
    "duration": 118,
    "start_time": "2024-04-08T17:04:26.857Z"
   },
   {
    "duration": 110,
    "start_time": "2024-04-08T17:04:56.679Z"
   },
   {
    "duration": 7,
    "start_time": "2024-04-08T17:05:04.900Z"
   },
   {
    "duration": 316,
    "start_time": "2024-04-08T17:09:27.103Z"
   },
   {
    "duration": 46267,
    "start_time": "2024-04-08T17:11:18.976Z"
   },
   {
    "duration": 193,
    "start_time": "2024-04-08T17:12:43.488Z"
   },
   {
    "duration": 169,
    "start_time": "2024-04-08T17:14:50.584Z"
   },
   {
    "duration": 8,
    "start_time": "2024-04-08T17:15:00.702Z"
   },
   {
    "duration": 176,
    "start_time": "2024-04-08T17:15:38.802Z"
   },
   {
    "duration": 177,
    "start_time": "2024-04-08T17:15:54.498Z"
   },
   {
    "duration": 182,
    "start_time": "2024-04-08T17:16:25.904Z"
   },
   {
    "duration": 192,
    "start_time": "2024-04-08T17:17:42.072Z"
   },
   {
    "duration": 208,
    "start_time": "2024-04-08T17:18:08.270Z"
   },
   {
    "duration": 165,
    "start_time": "2024-04-08T17:18:25.327Z"
   },
   {
    "duration": 184,
    "start_time": "2024-04-08T17:18:37.234Z"
   },
   {
    "duration": 146,
    "start_time": "2024-04-08T17:27:58.887Z"
   },
   {
    "duration": 10,
    "start_time": "2024-04-08T17:28:20.706Z"
   },
   {
    "duration": 7,
    "start_time": "2024-04-08T17:28:40.721Z"
   },
   {
    "duration": 119,
    "start_time": "2024-04-08T17:28:47.645Z"
   },
   {
    "duration": 119,
    "start_time": "2024-04-08T17:29:05.240Z"
   },
   {
    "duration": 111,
    "start_time": "2024-04-08T17:29:22.241Z"
   },
   {
    "duration": 9,
    "start_time": "2024-04-08T17:29:41.524Z"
   },
   {
    "duration": 107,
    "start_time": "2024-04-08T17:45:02.502Z"
   },
   {
    "duration": 196,
    "start_time": "2024-04-08T17:50:29.856Z"
   },
   {
    "duration": 194,
    "start_time": "2024-04-08T17:50:46.636Z"
   },
   {
    "duration": 189,
    "start_time": "2024-04-08T17:51:04.843Z"
   },
   {
    "duration": 192,
    "start_time": "2024-04-08T17:51:23.037Z"
   },
   {
    "duration": 8,
    "start_time": "2024-04-08T17:53:16.730Z"
   },
   {
    "duration": 198,
    "start_time": "2024-04-08T17:53:21.964Z"
   },
   {
    "duration": 404,
    "start_time": "2024-04-08T17:58:54.496Z"
   },
   {
    "duration": 28,
    "start_time": "2024-04-08T17:58:54.902Z"
   },
   {
    "duration": 34,
    "start_time": "2024-04-08T17:58:54.932Z"
   },
   {
    "duration": 15,
    "start_time": "2024-04-08T17:58:54.968Z"
   },
   {
    "duration": 16,
    "start_time": "2024-04-08T17:58:54.985Z"
   },
   {
    "duration": 14,
    "start_time": "2024-04-08T17:58:55.003Z"
   },
   {
    "duration": 15,
    "start_time": "2024-04-08T17:58:55.018Z"
   },
   {
    "duration": 19,
    "start_time": "2024-04-08T17:58:55.035Z"
   },
   {
    "duration": 7,
    "start_time": "2024-04-08T17:58:55.055Z"
   },
   {
    "duration": 22,
    "start_time": "2024-04-08T17:58:55.064Z"
   },
   {
    "duration": 15,
    "start_time": "2024-04-08T17:58:55.088Z"
   },
   {
    "duration": 10,
    "start_time": "2024-04-08T17:58:55.105Z"
   },
   {
    "duration": 5,
    "start_time": "2024-04-08T17:58:55.117Z"
   },
   {
    "duration": 7,
    "start_time": "2024-04-08T17:58:55.124Z"
   },
   {
    "duration": 26,
    "start_time": "2024-04-08T17:58:55.132Z"
   },
   {
    "duration": 5,
    "start_time": "2024-04-08T17:58:55.159Z"
   },
   {
    "duration": 27,
    "start_time": "2024-04-08T17:58:55.165Z"
   },
   {
    "duration": 264,
    "start_time": "2024-04-08T17:58:55.193Z"
   },
   {
    "duration": 243,
    "start_time": "2024-04-08T17:58:55.459Z"
   },
   {
    "duration": 184,
    "start_time": "2024-04-08T17:58:55.704Z"
   },
   {
    "duration": 196,
    "start_time": "2024-04-08T17:58:55.890Z"
   },
   {
    "duration": 45011,
    "start_time": "2024-04-08T17:58:56.087Z"
   },
   {
    "duration": 204,
    "start_time": "2024-04-08T18:02:00.292Z"
   },
   {
    "duration": 230,
    "start_time": "2024-04-08T18:03:13.330Z"
   },
   {
    "duration": 223,
    "start_time": "2024-04-08T18:03:32.603Z"
   },
   {
    "duration": 239,
    "start_time": "2024-04-08T18:05:45.922Z"
   },
   {
    "duration": 221,
    "start_time": "2024-04-08T18:06:05.559Z"
   },
   {
    "duration": 5,
    "start_time": "2024-04-08T18:16:29.964Z"
   },
   {
    "duration": 5,
    "start_time": "2024-04-08T18:16:39.741Z"
   },
   {
    "duration": 47225,
    "start_time": "2024-04-08T18:20:07.388Z"
   },
   {
    "duration": 348,
    "start_time": "2024-04-08T18:22:22.650Z"
   },
   {
    "duration": 47,
    "start_time": "2024-04-09T05:38:55.111Z"
   },
   {
    "duration": 401,
    "start_time": "2024-04-09T05:39:20.574Z"
   },
   {
    "duration": 75,
    "start_time": "2024-04-09T05:39:20.977Z"
   },
   {
    "duration": 84,
    "start_time": "2024-04-09T05:39:21.054Z"
   },
   {
    "duration": 61,
    "start_time": "2024-04-09T05:39:21.139Z"
   },
   {
    "duration": 14,
    "start_time": "2024-04-09T05:39:21.202Z"
   },
   {
    "duration": 9,
    "start_time": "2024-04-09T05:39:21.218Z"
   },
   {
    "duration": 15,
    "start_time": "2024-04-09T05:39:21.229Z"
   },
   {
    "duration": 16,
    "start_time": "2024-04-09T05:39:21.246Z"
   },
   {
    "duration": 9,
    "start_time": "2024-04-09T05:39:21.264Z"
   },
   {
    "duration": 12,
    "start_time": "2024-04-09T05:39:21.276Z"
   },
   {
    "duration": 5,
    "start_time": "2024-04-09T05:39:21.290Z"
   },
   {
    "duration": 8,
    "start_time": "2024-04-09T05:39:21.297Z"
   },
   {
    "duration": 6,
    "start_time": "2024-04-09T05:39:21.306Z"
   },
   {
    "duration": 5,
    "start_time": "2024-04-09T05:39:21.313Z"
   },
   {
    "duration": 50,
    "start_time": "2024-04-09T05:39:21.319Z"
   },
   {
    "duration": 5,
    "start_time": "2024-04-09T05:39:21.371Z"
   },
   {
    "duration": 9,
    "start_time": "2024-04-09T05:39:21.378Z"
   },
   {
    "duration": 378,
    "start_time": "2024-04-09T05:39:21.388Z"
   },
   {
    "duration": 204,
    "start_time": "2024-04-09T05:39:21.767Z"
   },
   {
    "duration": 6,
    "start_time": "2024-04-09T05:39:21.972Z"
   },
   {
    "duration": 166,
    "start_time": "2024-04-09T05:39:21.979Z"
   },
   {
    "duration": 170,
    "start_time": "2024-04-09T05:39:22.147Z"
   },
   {
    "duration": 3,
    "start_time": "2024-04-09T05:39:22.319Z"
   },
   {
    "duration": 6,
    "start_time": "2024-04-09T05:39:22.324Z"
   },
   {
    "duration": 258,
    "start_time": "2024-04-09T05:39:22.331Z"
   },
   {
    "duration": 221,
    "start_time": "2024-04-09T05:39:22.591Z"
   },
   {
    "duration": 6,
    "start_time": "2024-04-09T05:40:54.768Z"
   },
   {
    "duration": 68,
    "start_time": "2024-04-09T05:42:12.776Z"
   },
   {
    "duration": 9,
    "start_time": "2024-04-09T05:42:22.101Z"
   },
   {
    "duration": 6,
    "start_time": "2024-04-09T05:42:55.027Z"
   },
   {
    "duration": 6,
    "start_time": "2024-04-09T05:43:36.982Z"
   },
   {
    "duration": 6,
    "start_time": "2024-04-09T05:43:57.663Z"
   },
   {
    "duration": 410,
    "start_time": "2024-04-09T05:46:24.371Z"
   },
   {
    "duration": 28,
    "start_time": "2024-04-09T05:46:24.783Z"
   },
   {
    "duration": 32,
    "start_time": "2024-04-09T05:46:24.813Z"
   },
   {
    "duration": 56,
    "start_time": "2024-04-09T05:46:24.847Z"
   },
   {
    "duration": 14,
    "start_time": "2024-04-09T05:46:24.905Z"
   },
   {
    "duration": 10,
    "start_time": "2024-04-09T05:46:24.920Z"
   },
   {
    "duration": 20,
    "start_time": "2024-04-09T05:46:24.932Z"
   },
   {
    "duration": 10,
    "start_time": "2024-04-09T05:46:24.954Z"
   },
   {
    "duration": 6,
    "start_time": "2024-04-09T05:46:24.966Z"
   },
   {
    "duration": 13,
    "start_time": "2024-04-09T05:46:24.975Z"
   },
   {
    "duration": 6,
    "start_time": "2024-04-09T05:46:24.989Z"
   },
   {
    "duration": 17,
    "start_time": "2024-04-09T05:46:24.996Z"
   },
   {
    "duration": 5,
    "start_time": "2024-04-09T05:46:25.014Z"
   },
   {
    "duration": 16,
    "start_time": "2024-04-09T05:46:25.020Z"
   },
   {
    "duration": 6,
    "start_time": "2024-04-09T05:46:25.038Z"
   },
   {
    "duration": 34,
    "start_time": "2024-04-09T05:46:25.045Z"
   },
   {
    "duration": 28,
    "start_time": "2024-04-09T05:46:25.081Z"
   },
   {
    "duration": 232,
    "start_time": "2024-04-09T05:46:25.111Z"
   },
   {
    "duration": 199,
    "start_time": "2024-04-09T05:46:25.344Z"
   },
   {
    "duration": 6,
    "start_time": "2024-04-09T05:46:25.545Z"
   },
   {
    "duration": 182,
    "start_time": "2024-04-09T05:46:25.553Z"
   },
   {
    "duration": 209,
    "start_time": "2024-04-09T05:46:25.737Z"
   },
   {
    "duration": 5,
    "start_time": "2024-04-09T05:46:25.947Z"
   },
   {
    "duration": 16,
    "start_time": "2024-04-09T05:46:25.953Z"
   },
   {
    "duration": 196,
    "start_time": "2024-04-09T05:46:25.971Z"
   },
   {
    "duration": 250,
    "start_time": "2024-04-09T05:46:26.169Z"
   },
   {
    "duration": 19,
    "start_time": "2024-04-09T05:55:35.919Z"
   },
   {
    "duration": 14,
    "start_time": "2024-04-09T05:55:54.999Z"
   },
   {
    "duration": 907,
    "start_time": "2024-04-09T05:56:48.121Z"
   },
   {
    "duration": 775,
    "start_time": "2024-04-09T05:56:54.065Z"
   },
   {
    "duration": 8,
    "start_time": "2024-04-09T05:57:15.569Z"
   },
   {
    "duration": 15,
    "start_time": "2024-04-09T05:57:20.204Z"
   },
   {
    "duration": 7,
    "start_time": "2024-04-09T05:58:48.536Z"
   },
   {
    "duration": 14,
    "start_time": "2024-04-09T05:59:04.116Z"
   },
   {
    "duration": 9,
    "start_time": "2024-04-09T06:00:44.570Z"
   },
   {
    "duration": 14,
    "start_time": "2024-04-09T06:01:09.314Z"
   },
   {
    "duration": 14,
    "start_time": "2024-04-09T06:01:16.151Z"
   },
   {
    "duration": 8,
    "start_time": "2024-04-09T06:01:22.040Z"
   },
   {
    "duration": 8,
    "start_time": "2024-04-09T06:01:26.639Z"
   },
   {
    "duration": 7,
    "start_time": "2024-04-09T06:01:32.992Z"
   },
   {
    "duration": 6,
    "start_time": "2024-04-09T06:01:44.364Z"
   },
   {
    "duration": 7,
    "start_time": "2024-04-09T06:01:48.580Z"
   },
   {
    "duration": 14,
    "start_time": "2024-04-09T06:10:27.257Z"
   },
   {
    "duration": 6,
    "start_time": "2024-04-09T06:11:02.892Z"
   },
   {
    "duration": 7,
    "start_time": "2024-04-09T06:11:47.268Z"
   },
   {
    "duration": 7,
    "start_time": "2024-04-09T06:11:53.053Z"
   },
   {
    "duration": 7,
    "start_time": "2024-04-09T06:11:56.938Z"
   },
   {
    "duration": 55,
    "start_time": "2024-04-09T06:12:00.363Z"
   },
   {
    "duration": 7,
    "start_time": "2024-04-09T06:12:07.559Z"
   },
   {
    "duration": 7,
    "start_time": "2024-04-09T06:12:16.534Z"
   },
   {
    "duration": 7,
    "start_time": "2024-04-09T06:12:25.318Z"
   },
   {
    "duration": 60,
    "start_time": "2024-04-09T06:12:29.641Z"
   },
   {
    "duration": 7,
    "start_time": "2024-04-09T06:12:33.147Z"
   },
   {
    "duration": 14,
    "start_time": "2024-04-09T06:12:56.054Z"
   },
   {
    "duration": 7,
    "start_time": "2024-04-09T06:13:16.539Z"
   },
   {
    "duration": 8,
    "start_time": "2024-04-09T06:13:20.021Z"
   },
   {
    "duration": 8,
    "start_time": "2024-04-09T06:16:31.959Z"
   },
   {
    "duration": 7,
    "start_time": "2024-04-09T06:16:40.169Z"
   },
   {
    "duration": 11,
    "start_time": "2024-04-09T06:41:04.916Z"
   },
   {
    "duration": 12,
    "start_time": "2024-04-09T06:41:13.691Z"
   },
   {
    "duration": 9,
    "start_time": "2024-04-09T06:42:07.096Z"
   },
   {
    "duration": 15,
    "start_time": "2024-04-09T06:44:00.232Z"
   },
   {
    "duration": 7,
    "start_time": "2024-04-09T06:44:02.610Z"
   },
   {
    "duration": 7,
    "start_time": "2024-04-09T06:55:17.060Z"
   },
   {
    "duration": 7,
    "start_time": "2024-04-09T06:55:38.396Z"
   },
   {
    "duration": 10,
    "start_time": "2024-04-09T06:55:53.979Z"
   },
   {
    "duration": 5,
    "start_time": "2024-04-09T06:55:59.644Z"
   },
   {
    "duration": 8,
    "start_time": "2024-04-09T06:56:00.565Z"
   },
   {
    "duration": 12,
    "start_time": "2024-04-09T06:56:16.997Z"
   },
   {
    "duration": 11,
    "start_time": "2024-04-09T06:56:23.953Z"
   },
   {
    "duration": 11,
    "start_time": "2024-04-09T06:56:35.602Z"
   },
   {
    "duration": 40,
    "start_time": "2024-04-09T17:29:56.728Z"
   },
   {
    "duration": 336,
    "start_time": "2024-04-09T17:30:27.819Z"
   },
   {
    "duration": 103,
    "start_time": "2024-04-09T17:30:28.156Z"
   },
   {
    "duration": 149,
    "start_time": "2024-04-09T17:30:28.260Z"
   },
   {
    "duration": 68,
    "start_time": "2024-04-09T17:30:28.411Z"
   },
   {
    "duration": 12,
    "start_time": "2024-04-09T17:30:28.481Z"
   },
   {
    "duration": 20,
    "start_time": "2024-04-09T17:30:28.494Z"
   },
   {
    "duration": 9,
    "start_time": "2024-04-09T17:30:28.516Z"
   },
   {
    "duration": 12,
    "start_time": "2024-04-09T17:30:28.526Z"
   },
   {
    "duration": 5,
    "start_time": "2024-04-09T17:30:28.540Z"
   },
   {
    "duration": 14,
    "start_time": "2024-04-09T17:30:28.546Z"
   },
   {
    "duration": 14,
    "start_time": "2024-04-09T17:30:28.562Z"
   },
   {
    "duration": 10,
    "start_time": "2024-04-09T17:30:28.577Z"
   },
   {
    "duration": 4,
    "start_time": "2024-04-09T17:30:28.588Z"
   },
   {
    "duration": 26,
    "start_time": "2024-04-09T17:30:28.594Z"
   },
   {
    "duration": 10,
    "start_time": "2024-04-09T17:30:28.621Z"
   },
   {
    "duration": 4,
    "start_time": "2024-04-09T17:30:28.632Z"
   },
   {
    "duration": 9,
    "start_time": "2024-04-09T17:30:28.637Z"
   },
   {
    "duration": 342,
    "start_time": "2024-04-09T17:30:28.647Z"
   },
   {
    "duration": 165,
    "start_time": "2024-04-09T17:30:28.990Z"
   },
   {
    "duration": 7,
    "start_time": "2024-04-09T17:30:29.156Z"
   },
   {
    "duration": 135,
    "start_time": "2024-04-09T17:30:29.164Z"
   },
   {
    "duration": 137,
    "start_time": "2024-04-09T17:30:29.301Z"
   },
   {
    "duration": 3,
    "start_time": "2024-04-09T17:30:29.440Z"
   },
   {
    "duration": 13,
    "start_time": "2024-04-09T17:30:29.444Z"
   },
   {
    "duration": 202,
    "start_time": "2024-04-09T17:30:29.458Z"
   },
   {
    "duration": 166,
    "start_time": "2024-04-09T17:30:29.661Z"
   },
   {
    "duration": 12,
    "start_time": "2024-04-09T17:30:29.828Z"
   },
   {
    "duration": 12,
    "start_time": "2024-04-09T17:30:29.843Z"
   },
   {
    "duration": 12,
    "start_time": "2024-04-09T17:30:29.856Z"
   },
   {
    "duration": 19,
    "start_time": "2024-04-09T17:30:29.869Z"
   },
   {
    "duration": 9,
    "start_time": "2024-04-09T17:30:29.890Z"
   },
   {
    "duration": 7,
    "start_time": "2024-04-09T17:30:29.900Z"
   },
   {
    "duration": 15,
    "start_time": "2024-04-09T17:30:29.908Z"
   },
   {
    "duration": 160,
    "start_time": "2024-04-09T17:30:29.924Z"
   },
   {
    "duration": 180,
    "start_time": "2024-04-09T17:32:23.033Z"
   },
   {
    "duration": 157,
    "start_time": "2024-04-09T17:33:13.739Z"
   },
   {
    "duration": 189,
    "start_time": "2024-04-09T17:34:37.498Z"
   },
   {
    "duration": 176,
    "start_time": "2024-04-09T17:36:44.295Z"
   },
   {
    "duration": 152,
    "start_time": "2024-04-09T17:37:47.798Z"
   },
   {
    "duration": 157,
    "start_time": "2024-04-09T17:38:04.201Z"
   },
   {
    "duration": 173,
    "start_time": "2024-04-09T17:49:57.632Z"
   },
   {
    "duration": 194,
    "start_time": "2024-04-09T17:50:04.473Z"
   },
   {
    "duration": 383,
    "start_time": "2024-04-10T09:14:37.497Z"
   },
   {
    "duration": 74,
    "start_time": "2024-04-10T09:14:37.881Z"
   },
   {
    "duration": 82,
    "start_time": "2024-04-10T09:14:37.956Z"
   },
   {
    "duration": 59,
    "start_time": "2024-04-10T09:14:38.040Z"
   },
   {
    "duration": 16,
    "start_time": "2024-04-10T09:14:38.100Z"
   },
   {
    "duration": 36,
    "start_time": "2024-04-10T09:14:38.117Z"
   },
   {
    "duration": 22,
    "start_time": "2024-04-10T09:14:38.155Z"
   },
   {
    "duration": 21,
    "start_time": "2024-04-10T09:14:38.179Z"
   },
   {
    "duration": 15,
    "start_time": "2024-04-10T09:14:38.201Z"
   },
   {
    "duration": 31,
    "start_time": "2024-04-10T09:14:38.220Z"
   },
   {
    "duration": 28,
    "start_time": "2024-04-10T09:14:38.253Z"
   },
   {
    "duration": 16,
    "start_time": "2024-04-10T09:14:38.282Z"
   },
   {
    "duration": 10,
    "start_time": "2024-04-10T09:14:38.299Z"
   },
   {
    "duration": 26,
    "start_time": "2024-04-10T09:14:38.311Z"
   },
   {
    "duration": 30,
    "start_time": "2024-04-10T09:14:38.339Z"
   },
   {
    "duration": 23,
    "start_time": "2024-04-10T09:14:38.370Z"
   },
   {
    "duration": 33,
    "start_time": "2024-04-10T09:14:38.394Z"
   },
   {
    "duration": 424,
    "start_time": "2024-04-10T09:14:38.429Z"
   },
   {
    "duration": 194,
    "start_time": "2024-04-10T09:14:38.855Z"
   },
   {
    "duration": 7,
    "start_time": "2024-04-10T09:14:39.050Z"
   },
   {
    "duration": 168,
    "start_time": "2024-04-10T09:14:39.064Z"
   },
   {
    "duration": 176,
    "start_time": "2024-04-10T09:14:39.234Z"
   },
   {
    "duration": 4,
    "start_time": "2024-04-10T09:14:39.411Z"
   },
   {
    "duration": 13,
    "start_time": "2024-04-10T09:14:39.417Z"
   },
   {
    "duration": 282,
    "start_time": "2024-04-10T09:14:39.431Z"
   },
   {
    "duration": 214,
    "start_time": "2024-04-10T09:14:39.715Z"
   },
   {
    "duration": 16,
    "start_time": "2024-04-10T09:14:39.931Z"
   },
   {
    "duration": 15,
    "start_time": "2024-04-10T09:14:39.965Z"
   },
   {
    "duration": 13,
    "start_time": "2024-04-10T09:14:39.981Z"
   },
   {
    "duration": 13,
    "start_time": "2024-04-10T09:14:39.995Z"
   },
   {
    "duration": 33,
    "start_time": "2024-04-10T09:14:40.010Z"
   },
   {
    "duration": 30,
    "start_time": "2024-04-10T09:14:40.044Z"
   },
   {
    "duration": 47,
    "start_time": "2024-04-10T09:14:40.076Z"
   },
   {
    "duration": 231,
    "start_time": "2024-04-10T09:14:40.124Z"
   },
   {
    "duration": 233,
    "start_time": "2024-04-10T09:14:40.356Z"
   },
   {
    "duration": 241,
    "start_time": "2024-04-10T09:16:20.645Z"
   },
   {
    "duration": 207,
    "start_time": "2024-04-10T09:16:34.313Z"
   },
   {
    "duration": 191,
    "start_time": "2024-04-10T09:16:48.668Z"
   },
   {
    "duration": 424,
    "start_time": "2024-04-10T09:23:38.890Z"
   },
   {
    "duration": 22,
    "start_time": "2024-04-10T09:23:47.584Z"
   },
   {
    "duration": 9,
    "start_time": "2024-04-10T09:30:17.941Z"
   },
   {
    "duration": 8,
    "start_time": "2024-04-10T09:30:19.731Z"
   },
   {
    "duration": 8,
    "start_time": "2024-04-10T09:31:15.578Z"
   },
   {
    "duration": 9,
    "start_time": "2024-04-10T09:31:18.296Z"
   },
   {
    "duration": 12,
    "start_time": "2024-04-10T09:35:50.992Z"
   },
   {
    "duration": 7,
    "start_time": "2024-04-10T09:35:53.071Z"
   },
   {
    "duration": 9,
    "start_time": "2024-04-10T09:36:28.917Z"
   },
   {
    "duration": 9,
    "start_time": "2024-04-10T09:36:30.169Z"
   },
   {
    "duration": 15,
    "start_time": "2024-04-10T09:37:07.098Z"
   },
   {
    "duration": 28,
    "start_time": "2024-04-10T09:37:10.237Z"
   },
   {
    "duration": 9,
    "start_time": "2024-04-10T09:38:12.383Z"
   },
   {
    "duration": 9,
    "start_time": "2024-04-10T09:38:14.386Z"
   },
   {
    "duration": 8,
    "start_time": "2024-04-10T09:39:35.756Z"
   },
   {
    "duration": 6,
    "start_time": "2024-04-10T09:39:37.595Z"
   },
   {
    "duration": 9,
    "start_time": "2024-04-10T09:40:43.128Z"
   },
   {
    "duration": 8,
    "start_time": "2024-04-10T09:40:44.492Z"
   },
   {
    "duration": 9,
    "start_time": "2024-04-10T09:45:28.484Z"
   },
   {
    "duration": 7,
    "start_time": "2024-04-10T09:45:29.723Z"
   },
   {
    "duration": 56,
    "start_time": "2024-04-10T09:46:16.755Z"
   },
   {
    "duration": 14,
    "start_time": "2024-04-10T09:46:23.062Z"
   },
   {
    "duration": 15,
    "start_time": "2024-04-10T09:46:24.409Z"
   },
   {
    "duration": 20,
    "start_time": "2024-04-10T09:47:44.770Z"
   },
   {
    "duration": 32,
    "start_time": "2024-04-10T09:47:49.697Z"
   },
   {
    "duration": 15,
    "start_time": "2024-04-10T09:48:55.056Z"
   },
   {
    "duration": 17,
    "start_time": "2024-04-10T09:48:57.047Z"
   },
   {
    "duration": 22,
    "start_time": "2024-04-10T09:54:29.274Z"
   },
   {
    "duration": 17,
    "start_time": "2024-04-10T09:54:30.557Z"
   },
   {
    "duration": 7,
    "start_time": "2024-04-10T09:55:35.383Z"
   },
   {
    "duration": 24,
    "start_time": "2024-04-10T09:55:38.311Z"
   },
   {
    "duration": 8,
    "start_time": "2024-04-10T09:56:13.080Z"
   },
   {
    "duration": 23,
    "start_time": "2024-04-10T09:56:15.209Z"
   },
   {
    "duration": 7,
    "start_time": "2024-04-10T09:58:08.245Z"
   },
   {
    "duration": 24,
    "start_time": "2024-04-10T09:58:09.615Z"
   },
   {
    "duration": 77,
    "start_time": "2024-04-10T10:03:37.862Z"
   },
   {
    "duration": 11,
    "start_time": "2024-04-10T10:05:58.287Z"
   },
   {
    "duration": 18,
    "start_time": "2024-04-10T10:06:27.348Z"
   },
   {
    "duration": 16,
    "start_time": "2024-04-10T10:06:40.125Z"
   },
   {
    "duration": 11,
    "start_time": "2024-04-10T10:07:11.404Z"
   },
   {
    "duration": 21,
    "start_time": "2024-04-10T10:07:36.201Z"
   },
   {
    "duration": 15,
    "start_time": "2024-04-10T10:07:38.716Z"
   },
   {
    "duration": 9,
    "start_time": "2024-04-10T10:17:41.940Z"
   },
   {
    "duration": 12,
    "start_time": "2024-04-10T10:17:48.012Z"
   },
   {
    "duration": 10,
    "start_time": "2024-04-10T10:19:01.894Z"
   },
   {
    "duration": 13,
    "start_time": "2024-04-10T10:19:03.124Z"
   },
   {
    "duration": 8,
    "start_time": "2024-04-10T10:20:46.518Z"
   },
   {
    "duration": 13,
    "start_time": "2024-04-10T10:20:48.415Z"
   },
   {
    "duration": 10,
    "start_time": "2024-04-10T10:24:07.847Z"
   },
   {
    "duration": 8,
    "start_time": "2024-04-10T10:24:36.296Z"
   },
   {
    "duration": 8,
    "start_time": "2024-04-10T10:24:38.975Z"
   },
   {
    "duration": 7,
    "start_time": "2024-04-10T10:26:04.507Z"
   },
   {
    "duration": 9,
    "start_time": "2024-04-10T10:26:06.893Z"
   },
   {
    "duration": 11,
    "start_time": "2024-04-10T10:26:09.241Z"
   },
   {
    "duration": 11,
    "start_time": "2024-04-10T10:26:25.924Z"
   },
   {
    "duration": 12,
    "start_time": "2024-04-10T10:26:27.680Z"
   },
   {
    "duration": 11,
    "start_time": "2024-04-10T10:31:37.177Z"
   },
   {
    "duration": 11,
    "start_time": "2024-04-10T10:31:39.294Z"
   },
   {
    "duration": 15,
    "start_time": "2024-04-10T10:33:54.287Z"
   },
   {
    "duration": 43,
    "start_time": "2024-04-10T10:34:09.362Z"
   },
   {
    "duration": 45,
    "start_time": "2024-04-10T10:34:12.041Z"
   },
   {
    "duration": 15,
    "start_time": "2024-04-10T10:35:16.399Z"
   },
   {
    "duration": 12,
    "start_time": "2024-04-10T10:36:06.090Z"
   },
   {
    "duration": 12,
    "start_time": "2024-04-10T10:36:08.195Z"
   },
   {
    "duration": 20,
    "start_time": "2024-04-10T10:36:53.671Z"
   },
   {
    "duration": 17,
    "start_time": "2024-04-10T10:36:56.154Z"
   },
   {
    "duration": 10,
    "start_time": "2024-04-10T10:37:45.739Z"
   },
   {
    "duration": 14,
    "start_time": "2024-04-10T10:37:59.649Z"
   },
   {
    "duration": 16,
    "start_time": "2024-04-10T10:38:02.637Z"
   },
   {
    "duration": 61,
    "start_time": "2024-04-10T11:05:21.624Z"
   },
   {
    "duration": 44,
    "start_time": "2024-04-10T11:06:08.502Z"
   },
   {
    "duration": 50,
    "start_time": "2024-04-10T11:06:10.763Z"
   },
   {
    "duration": 11,
    "start_time": "2024-04-10T11:30:07.030Z"
   },
   {
    "duration": 9,
    "start_time": "2024-04-10T11:31:03.970Z"
   },
   {
    "duration": 13,
    "start_time": "2024-04-10T11:31:26.943Z"
   },
   {
    "duration": 272,
    "start_time": "2024-04-10T11:45:22.680Z"
   },
   {
    "duration": 61,
    "start_time": "2024-04-10T11:46:44.677Z"
   },
   {
    "duration": 251,
    "start_time": "2024-04-10T11:47:03.537Z"
   },
   {
    "duration": 51,
    "start_time": "2024-04-10T11:47:27.192Z"
   },
   {
    "duration": 3,
    "start_time": "2024-04-10T11:47:38.428Z"
   },
   {
    "duration": 16,
    "start_time": "2024-04-10T11:47:48.872Z"
   },
   {
    "duration": 629,
    "start_time": "2024-04-10T11:51:55.820Z"
   },
   {
    "duration": 17,
    "start_time": "2024-04-10T11:52:34.840Z"
   },
   {
    "duration": 862,
    "start_time": "2024-04-10T11:52:56.461Z"
   },
   {
    "duration": 15,
    "start_time": "2024-04-10T11:53:40.231Z"
   },
   {
    "duration": 2,
    "start_time": "2024-04-10T11:59:30.432Z"
   },
   {
    "duration": 21,
    "start_time": "2024-04-10T12:01:30.786Z"
   },
   {
    "duration": 18,
    "start_time": "2024-04-10T12:01:32.626Z"
   },
   {
    "duration": 13,
    "start_time": "2024-04-10T12:01:35.994Z"
   },
   {
    "duration": 2,
    "start_time": "2024-04-10T12:01:37.131Z"
   },
   {
    "duration": 14,
    "start_time": "2024-04-10T12:01:38.400Z"
   },
   {
    "duration": 4,
    "start_time": "2024-04-10T12:04:42.459Z"
   },
   {
    "duration": 13,
    "start_time": "2024-04-10T12:04:51.538Z"
   },
   {
    "duration": 15,
    "start_time": "2024-04-10T13:06:43.184Z"
   },
   {
    "duration": 18,
    "start_time": "2024-04-10T13:22:37.123Z"
   },
   {
    "duration": 11,
    "start_time": "2024-04-10T13:22:39.610Z"
   },
   {
    "duration": 14,
    "start_time": "2024-04-10T13:23:20.664Z"
   },
   {
    "duration": 11,
    "start_time": "2024-04-10T13:23:23.318Z"
   },
   {
    "duration": 19,
    "start_time": "2024-04-10T13:28:50.180Z"
   },
   {
    "duration": 23,
    "start_time": "2024-04-10T13:29:31.530Z"
   },
   {
    "duration": 20,
    "start_time": "2024-04-10T13:29:38.640Z"
   },
   {
    "duration": 3,
    "start_time": "2024-04-10T13:32:12.858Z"
   },
   {
    "duration": 806,
    "start_time": "2024-04-10T13:32:52.430Z"
   },
   {
    "duration": 73,
    "start_time": "2024-04-10T13:46:13.499Z"
   },
   {
    "duration": 15,
    "start_time": "2024-04-10T13:47:14.887Z"
   },
   {
    "duration": 13,
    "start_time": "2024-04-10T13:47:17.824Z"
   },
   {
    "duration": 49,
    "start_time": "2024-04-10T13:47:38.941Z"
   },
   {
    "duration": 10,
    "start_time": "2024-04-10T13:48:00.630Z"
   },
   {
    "duration": 63,
    "start_time": "2024-04-10T13:48:09.068Z"
   },
   {
    "duration": 21,
    "start_time": "2024-04-10T13:48:17.966Z"
   },
   {
    "duration": 17,
    "start_time": "2024-04-10T13:48:19.740Z"
   },
   {
    "duration": 14,
    "start_time": "2024-04-10T13:48:34.987Z"
   },
   {
    "duration": 13,
    "start_time": "2024-04-10T13:48:38.129Z"
   },
   {
    "duration": 21,
    "start_time": "2024-04-10T13:50:29.271Z"
   },
   {
    "duration": 15,
    "start_time": "2024-04-10T13:50:31.698Z"
   },
   {
    "duration": 11,
    "start_time": "2024-04-10T13:56:34.503Z"
   },
   {
    "duration": 3,
    "start_time": "2024-04-10T14:00:40.227Z"
   },
   {
    "duration": 10,
    "start_time": "2024-04-10T14:00:42.344Z"
   },
   {
    "duration": 19,
    "start_time": "2024-04-10T14:01:30.275Z"
   },
   {
    "duration": 3,
    "start_time": "2024-04-10T14:01:31.383Z"
   },
   {
    "duration": 13,
    "start_time": "2024-04-10T14:01:33.194Z"
   },
   {
    "duration": 21,
    "start_time": "2024-04-10T14:01:51.920Z"
   },
   {
    "duration": 3,
    "start_time": "2024-04-10T14:01:53.131Z"
   },
   {
    "duration": 9,
    "start_time": "2024-04-10T14:01:54.975Z"
   },
   {
    "duration": 379,
    "start_time": "2024-04-10T14:02:11.130Z"
   },
   {
    "duration": 28,
    "start_time": "2024-04-10T14:02:11.511Z"
   },
   {
    "duration": 33,
    "start_time": "2024-04-10T14:02:11.540Z"
   },
   {
    "duration": 15,
    "start_time": "2024-04-10T14:02:11.574Z"
   },
   {
    "duration": 15,
    "start_time": "2024-04-10T14:02:11.591Z"
   },
   {
    "duration": 10,
    "start_time": "2024-04-10T14:02:11.607Z"
   },
   {
    "duration": 7,
    "start_time": "2024-04-10T14:02:11.619Z"
   },
   {
    "duration": 12,
    "start_time": "2024-04-10T14:02:11.628Z"
   },
   {
    "duration": 6,
    "start_time": "2024-04-10T14:02:11.641Z"
   },
   {
    "duration": 9,
    "start_time": "2024-04-10T14:02:11.668Z"
   },
   {
    "duration": 6,
    "start_time": "2024-04-10T14:02:11.679Z"
   },
   {
    "duration": 8,
    "start_time": "2024-04-10T14:02:11.686Z"
   },
   {
    "duration": 16,
    "start_time": "2024-04-10T14:02:11.695Z"
   },
   {
    "duration": 8,
    "start_time": "2024-04-10T14:02:11.712Z"
   },
   {
    "duration": 5,
    "start_time": "2024-04-10T14:02:11.722Z"
   },
   {
    "duration": 5,
    "start_time": "2024-04-10T14:02:11.728Z"
   },
   {
    "duration": 32,
    "start_time": "2024-04-10T14:02:11.734Z"
   },
   {
    "duration": 215,
    "start_time": "2024-04-10T14:02:11.768Z"
   },
   {
    "duration": 215,
    "start_time": "2024-04-10T14:02:11.984Z"
   },
   {
    "duration": 6,
    "start_time": "2024-04-10T14:02:12.201Z"
   },
   {
    "duration": 186,
    "start_time": "2024-04-10T14:02:12.210Z"
   },
   {
    "duration": 200,
    "start_time": "2024-04-10T14:02:12.399Z"
   },
   {
    "duration": 5,
    "start_time": "2024-04-10T14:02:12.601Z"
   },
   {
    "duration": 12,
    "start_time": "2024-04-10T14:02:12.607Z"
   },
   {
    "duration": 212,
    "start_time": "2024-04-10T14:02:12.620Z"
   },
   {
    "duration": 257,
    "start_time": "2024-04-10T14:02:12.833Z"
   },
   {
    "duration": 14,
    "start_time": "2024-04-10T14:02:13.092Z"
   },
   {
    "duration": 14,
    "start_time": "2024-04-10T14:02:13.108Z"
   },
   {
    "duration": 13,
    "start_time": "2024-04-10T14:02:13.123Z"
   },
   {
    "duration": 39,
    "start_time": "2024-04-10T14:02:13.137Z"
   },
   {
    "duration": 18,
    "start_time": "2024-04-10T14:02:13.177Z"
   },
   {
    "duration": 9,
    "start_time": "2024-04-10T14:02:13.197Z"
   },
   {
    "duration": 11,
    "start_time": "2024-04-10T14:02:13.208Z"
   },
   {
    "duration": 239,
    "start_time": "2024-04-10T14:02:13.220Z"
   },
   {
    "duration": 193,
    "start_time": "2024-04-10T14:02:13.461Z"
   },
   {
    "duration": 2,
    "start_time": "2024-04-10T14:02:19.115Z"
   },
   {
    "duration": 22,
    "start_time": "2024-04-10T14:02:21.792Z"
   },
   {
    "duration": 12,
    "start_time": "2024-04-10T14:02:23.555Z"
   },
   {
    "duration": 64,
    "start_time": "2024-04-10T14:03:12.756Z"
   },
   {
    "duration": 86,
    "start_time": "2024-04-10T14:03:35.325Z"
   },
   {
    "duration": 34,
    "start_time": "2024-04-10T14:04:09.160Z"
   },
   {
    "duration": 12,
    "start_time": "2024-04-10T14:04:11.331Z"
   },
   {
    "duration": 54,
    "start_time": "2024-04-10T14:06:45.591Z"
   },
   {
    "duration": 67,
    "start_time": "2024-04-10T14:07:06.194Z"
   },
   {
    "duration": 52,
    "start_time": "2024-04-10T14:07:36.817Z"
   },
   {
    "duration": 59,
    "start_time": "2024-04-10T14:08:09.026Z"
   },
   {
    "duration": 51,
    "start_time": "2024-04-10T14:08:23.575Z"
   },
   {
    "duration": 59,
    "start_time": "2024-04-10T14:08:33.098Z"
   },
   {
    "duration": 50,
    "start_time": "2024-04-10T14:09:06.146Z"
   },
   {
    "duration": 58,
    "start_time": "2024-04-10T14:09:19.346Z"
   },
   {
    "duration": 61,
    "start_time": "2024-04-10T14:09:33.647Z"
   },
   {
    "duration": 60,
    "start_time": "2024-04-10T14:11:01.322Z"
   },
   {
    "duration": 55,
    "start_time": "2024-04-10T14:11:17.909Z"
   },
   {
    "duration": 35,
    "start_time": "2024-04-10T14:12:28.623Z"
   },
   {
    "duration": 4,
    "start_time": "2024-04-10T14:12:30.743Z"
   },
   {
    "duration": 11,
    "start_time": "2024-04-10T14:12:32.452Z"
   },
   {
    "duration": 4,
    "start_time": "2024-04-10T14:13:41.516Z"
   },
   {
    "duration": 11,
    "start_time": "2024-04-10T14:13:46.322Z"
   },
   {
    "duration": 5,
    "start_time": "2024-04-10T14:16:55.194Z"
   },
   {
    "duration": 13,
    "start_time": "2024-04-10T14:16:57.484Z"
   },
   {
    "duration": 49,
    "start_time": "2024-04-10T14:19:37.371Z"
   },
   {
    "duration": 895,
    "start_time": "2024-04-10T14:19:44.026Z"
   },
   {
    "duration": 3,
    "start_time": "2024-04-10T14:33:37.520Z"
   },
   {
    "duration": 36,
    "start_time": "2024-04-10T14:33:38.458Z"
   },
   {
    "duration": 3,
    "start_time": "2024-04-10T14:33:40.142Z"
   },
   {
    "duration": 3,
    "start_time": "2024-04-10T14:33:41.150Z"
   },
   {
    "duration": 6,
    "start_time": "2024-04-10T14:33:42.066Z"
   },
   {
    "duration": 18,
    "start_time": "2024-04-10T14:33:44.973Z"
   },
   {
    "duration": 378,
    "start_time": "2024-04-10T14:39:13.500Z"
   },
   {
    "duration": 29,
    "start_time": "2024-04-10T14:39:13.879Z"
   },
   {
    "duration": 32,
    "start_time": "2024-04-10T14:39:13.909Z"
   },
   {
    "duration": 15,
    "start_time": "2024-04-10T14:39:13.943Z"
   },
   {
    "duration": 13,
    "start_time": "2024-04-10T14:39:13.959Z"
   },
   {
    "duration": 14,
    "start_time": "2024-04-10T14:39:13.974Z"
   },
   {
    "duration": 13,
    "start_time": "2024-04-10T14:39:13.990Z"
   },
   {
    "duration": 10,
    "start_time": "2024-04-10T14:39:14.004Z"
   },
   {
    "duration": 6,
    "start_time": "2024-04-10T14:39:14.016Z"
   },
   {
    "duration": 11,
    "start_time": "2024-04-10T14:39:14.024Z"
   },
   {
    "duration": 30,
    "start_time": "2024-04-10T14:39:14.036Z"
   },
   {
    "duration": 7,
    "start_time": "2024-04-10T14:39:14.068Z"
   },
   {
    "duration": 4,
    "start_time": "2024-04-10T14:39:14.076Z"
   },
   {
    "duration": 4,
    "start_time": "2024-04-10T14:39:14.082Z"
   },
   {
    "duration": 8,
    "start_time": "2024-04-10T14:39:14.087Z"
   },
   {
    "duration": 4,
    "start_time": "2024-04-10T14:39:14.096Z"
   },
   {
    "duration": 7,
    "start_time": "2024-04-10T14:39:14.102Z"
   },
   {
    "duration": 249,
    "start_time": "2024-04-10T14:39:14.111Z"
   },
   {
    "duration": 200,
    "start_time": "2024-04-10T14:39:14.362Z"
   },
   {
    "duration": 6,
    "start_time": "2024-04-10T14:39:14.566Z"
   },
   {
    "duration": 175,
    "start_time": "2024-04-10T14:39:14.574Z"
   },
   {
    "duration": 198,
    "start_time": "2024-04-10T14:39:14.751Z"
   },
   {
    "duration": 5,
    "start_time": "2024-04-10T14:39:14.950Z"
   },
   {
    "duration": 15,
    "start_time": "2024-04-10T14:39:14.956Z"
   },
   {
    "duration": 231,
    "start_time": "2024-04-10T14:39:14.973Z"
   },
   {
    "duration": 254,
    "start_time": "2024-04-10T14:39:15.205Z"
   },
   {
    "duration": 17,
    "start_time": "2024-04-10T14:39:15.461Z"
   },
   {
    "duration": 14,
    "start_time": "2024-04-10T14:39:15.481Z"
   },
   {
    "duration": 21,
    "start_time": "2024-04-10T14:39:15.496Z"
   },
   {
    "duration": 23,
    "start_time": "2024-04-10T14:39:15.518Z"
   },
   {
    "duration": 15,
    "start_time": "2024-04-10T14:39:15.543Z"
   },
   {
    "duration": 7,
    "start_time": "2024-04-10T14:39:15.559Z"
   },
   {
    "duration": 15,
    "start_time": "2024-04-10T14:39:15.567Z"
   },
   {
    "duration": 251,
    "start_time": "2024-04-10T14:39:15.584Z"
   },
   {
    "duration": 219,
    "start_time": "2024-04-10T14:39:15.836Z"
   },
   {
    "duration": 8,
    "start_time": "2024-04-10T14:39:16.057Z"
   },
   {
    "duration": 3,
    "start_time": "2024-04-10T14:39:21.893Z"
   },
   {
    "duration": 34,
    "start_time": "2024-04-10T14:39:23.346Z"
   },
   {
    "duration": 3,
    "start_time": "2024-04-10T14:39:25.005Z"
   },
   {
    "duration": 6,
    "start_time": "2024-04-10T14:39:27.291Z"
   },
   {
    "duration": 18,
    "start_time": "2024-04-10T14:39:29.260Z"
   },
   {
    "duration": 356,
    "start_time": "2024-04-10T14:50:12.019Z"
   },
   {
    "duration": 29,
    "start_time": "2024-04-10T14:50:12.377Z"
   },
   {
    "duration": 39,
    "start_time": "2024-04-10T14:50:12.407Z"
   },
   {
    "duration": 47,
    "start_time": "2024-04-10T14:50:12.448Z"
   },
   {
    "duration": 26,
    "start_time": "2024-04-10T14:50:12.496Z"
   },
   {
    "duration": 14,
    "start_time": "2024-04-10T14:50:12.524Z"
   },
   {
    "duration": 17,
    "start_time": "2024-04-10T14:50:12.540Z"
   },
   {
    "duration": 11,
    "start_time": "2024-04-10T14:50:12.558Z"
   },
   {
    "duration": 7,
    "start_time": "2024-04-10T14:50:12.571Z"
   },
   {
    "duration": 19,
    "start_time": "2024-04-10T14:50:12.581Z"
   },
   {
    "duration": 11,
    "start_time": "2024-04-10T14:50:12.602Z"
   },
   {
    "duration": 9,
    "start_time": "2024-04-10T14:50:12.614Z"
   },
   {
    "duration": 24,
    "start_time": "2024-04-10T14:50:12.624Z"
   },
   {
    "duration": 46,
    "start_time": "2024-04-10T14:50:12.650Z"
   },
   {
    "duration": 17,
    "start_time": "2024-04-10T14:50:12.698Z"
   },
   {
    "duration": 5,
    "start_time": "2024-04-10T14:50:12.717Z"
   },
   {
    "duration": 12,
    "start_time": "2024-04-10T14:50:12.723Z"
   },
   {
    "duration": 266,
    "start_time": "2024-04-10T14:50:12.736Z"
   },
   {
    "duration": 202,
    "start_time": "2024-04-10T14:50:13.003Z"
   },
   {
    "duration": 6,
    "start_time": "2024-04-10T14:50:13.207Z"
   },
   {
    "duration": 180,
    "start_time": "2024-04-10T14:50:13.214Z"
   },
   {
    "duration": 173,
    "start_time": "2024-04-10T14:50:13.395Z"
   },
   {
    "duration": 4,
    "start_time": "2024-04-10T14:50:13.569Z"
   },
   {
    "duration": 39,
    "start_time": "2024-04-10T14:50:13.575Z"
   },
   {
    "duration": 201,
    "start_time": "2024-04-10T14:50:13.615Z"
   },
   {
    "duration": 274,
    "start_time": "2024-04-10T14:50:13.817Z"
   },
   {
    "duration": 14,
    "start_time": "2024-04-10T14:50:14.092Z"
   },
   {
    "duration": 14,
    "start_time": "2024-04-10T14:50:14.109Z"
   },
   {
    "duration": 27,
    "start_time": "2024-04-10T14:50:14.125Z"
   },
   {
    "duration": 21,
    "start_time": "2024-04-10T14:50:14.154Z"
   },
   {
    "duration": 23,
    "start_time": "2024-04-10T14:50:14.176Z"
   },
   {
    "duration": 31,
    "start_time": "2024-04-10T14:50:14.201Z"
   },
   {
    "duration": 55,
    "start_time": "2024-04-10T14:50:14.234Z"
   },
   {
    "duration": 285,
    "start_time": "2024-04-10T14:50:14.290Z"
   },
   {
    "duration": 194,
    "start_time": "2024-04-10T14:50:14.576Z"
   },
   {
    "duration": 2,
    "start_time": "2024-04-10T14:50:14.772Z"
   },
   {
    "duration": 32,
    "start_time": "2024-04-10T14:50:14.775Z"
   },
   {
    "duration": 56,
    "start_time": "2024-04-10T14:50:14.809Z"
   },
   {
    "duration": 2,
    "start_time": "2024-04-10T14:50:14.867Z"
   },
   {
    "duration": 52,
    "start_time": "2024-04-10T14:50:14.871Z"
   },
   {
    "duration": 22,
    "start_time": "2024-04-10T14:50:14.924Z"
   },
   {
    "duration": 26,
    "start_time": "2024-04-10T14:50:14.947Z"
   },
   {
    "duration": 37,
    "start_time": "2024-04-10T14:50:14.975Z"
   },
   {
    "duration": 15,
    "start_time": "2024-04-10T14:50:30.217Z"
   },
   {
    "duration": 346,
    "start_time": "2024-04-10T16:01:27.923Z"
   },
   {
    "duration": 29,
    "start_time": "2024-04-10T16:01:28.271Z"
   },
   {
    "duration": 32,
    "start_time": "2024-04-10T16:01:28.302Z"
   },
   {
    "duration": 32,
    "start_time": "2024-04-10T16:01:28.336Z"
   },
   {
    "duration": 42,
    "start_time": "2024-04-10T16:01:28.370Z"
   },
   {
    "duration": 27,
    "start_time": "2024-04-10T16:01:28.413Z"
   },
   {
    "duration": 43,
    "start_time": "2024-04-10T16:01:28.442Z"
   },
   {
    "duration": 20,
    "start_time": "2024-04-10T16:01:28.487Z"
   },
   {
    "duration": 34,
    "start_time": "2024-04-10T16:01:28.509Z"
   },
   {
    "duration": 23,
    "start_time": "2024-04-10T16:01:28.545Z"
   },
   {
    "duration": 33,
    "start_time": "2024-04-10T16:01:28.570Z"
   },
   {
    "duration": 33,
    "start_time": "2024-04-10T16:01:28.604Z"
   },
   {
    "duration": 29,
    "start_time": "2024-04-10T16:01:28.640Z"
   },
   {
    "duration": 47,
    "start_time": "2024-04-10T16:01:28.673Z"
   },
   {
    "duration": 32,
    "start_time": "2024-04-10T16:01:28.721Z"
   },
   {
    "duration": 34,
    "start_time": "2024-04-10T16:01:28.754Z"
   },
   {
    "duration": 38,
    "start_time": "2024-04-10T16:01:28.789Z"
   },
   {
    "duration": 236,
    "start_time": "2024-04-10T16:01:28.828Z"
   },
   {
    "duration": 191,
    "start_time": "2024-04-10T16:01:29.066Z"
   },
   {
    "duration": 11,
    "start_time": "2024-04-10T16:01:29.258Z"
   },
   {
    "duration": 174,
    "start_time": "2024-04-10T16:01:29.271Z"
   },
   {
    "duration": 177,
    "start_time": "2024-04-10T16:01:29.446Z"
   },
   {
    "duration": 4,
    "start_time": "2024-04-10T16:01:29.624Z"
   },
   {
    "duration": 22,
    "start_time": "2024-04-10T16:01:29.629Z"
   },
   {
    "duration": 224,
    "start_time": "2024-04-10T16:01:29.652Z"
   },
   {
    "duration": 262,
    "start_time": "2024-04-10T16:01:29.877Z"
   },
   {
    "duration": 16,
    "start_time": "2024-04-10T16:01:30.140Z"
   },
   {
    "duration": 40,
    "start_time": "2024-04-10T16:01:30.157Z"
   },
   {
    "duration": 96,
    "start_time": "2024-04-10T16:01:30.199Z"
   },
   {
    "duration": 71,
    "start_time": "2024-04-10T16:01:30.296Z"
   },
   {
    "duration": 77,
    "start_time": "2024-04-10T16:01:30.368Z"
   },
   {
    "duration": 65,
    "start_time": "2024-04-10T16:01:30.446Z"
   },
   {
    "duration": 64,
    "start_time": "2024-04-10T16:01:30.513Z"
   },
   {
    "duration": 288,
    "start_time": "2024-04-10T16:01:30.579Z"
   },
   {
    "duration": 197,
    "start_time": "2024-04-10T16:01:30.869Z"
   },
   {
    "duration": 3,
    "start_time": "2024-04-10T16:01:31.067Z"
   },
   {
    "duration": 97,
    "start_time": "2024-04-10T16:01:31.071Z"
   },
   {
    "duration": 68,
    "start_time": "2024-04-10T16:01:31.170Z"
   },
   {
    "duration": 18,
    "start_time": "2024-04-10T16:01:31.240Z"
   },
   {
    "duration": 71,
    "start_time": "2024-04-10T16:01:31.260Z"
   },
   {
    "duration": 44,
    "start_time": "2024-04-10T16:01:31.335Z"
   },
   {
    "duration": 82,
    "start_time": "2024-04-10T16:01:31.381Z"
   },
   {
    "duration": 68,
    "start_time": "2024-04-10T16:01:31.465Z"
   },
   {
    "duration": 427,
    "start_time": "2024-04-11T12:24:25.385Z"
   },
   {
    "duration": 74,
    "start_time": "2024-04-11T12:24:25.814Z"
   },
   {
    "duration": 84,
    "start_time": "2024-04-11T12:24:25.890Z"
   },
   {
    "duration": 60,
    "start_time": "2024-04-11T12:24:25.976Z"
   },
   {
    "duration": 14,
    "start_time": "2024-04-11T12:24:26.037Z"
   },
   {
    "duration": 10,
    "start_time": "2024-04-11T12:24:26.053Z"
   },
   {
    "duration": 9,
    "start_time": "2024-04-11T12:24:26.064Z"
   },
   {
    "duration": 26,
    "start_time": "2024-04-11T12:24:26.074Z"
   },
   {
    "duration": 6,
    "start_time": "2024-04-11T12:24:26.102Z"
   },
   {
    "duration": 21,
    "start_time": "2024-04-11T12:24:26.110Z"
   },
   {
    "duration": 15,
    "start_time": "2024-04-11T12:24:26.132Z"
   },
   {
    "duration": 10,
    "start_time": "2024-04-11T12:24:26.149Z"
   },
   {
    "duration": 16,
    "start_time": "2024-04-11T12:24:26.161Z"
   },
   {
    "duration": 9,
    "start_time": "2024-04-11T12:24:26.178Z"
   },
   {
    "duration": 11,
    "start_time": "2024-04-11T12:24:26.188Z"
   },
   {
    "duration": 12,
    "start_time": "2024-04-11T12:24:26.200Z"
   },
   {
    "duration": 9,
    "start_time": "2024-04-11T12:24:26.213Z"
   },
   {
    "duration": 400,
    "start_time": "2024-04-11T12:24:26.224Z"
   },
   {
    "duration": 208,
    "start_time": "2024-04-11T12:24:26.626Z"
   },
   {
    "duration": 7,
    "start_time": "2024-04-11T12:24:26.835Z"
   },
   {
    "duration": 168,
    "start_time": "2024-04-11T12:24:26.843Z"
   },
   {
    "duration": 175,
    "start_time": "2024-04-11T12:24:27.017Z"
   },
   {
    "duration": 4,
    "start_time": "2024-04-11T12:24:27.194Z"
   },
   {
    "duration": 19,
    "start_time": "2024-04-11T12:24:27.199Z"
   },
   {
    "duration": 245,
    "start_time": "2024-04-11T12:24:27.219Z"
   },
   {
    "duration": 213,
    "start_time": "2024-04-11T12:24:27.466Z"
   },
   {
    "duration": 16,
    "start_time": "2024-04-11T12:24:27.681Z"
   },
   {
    "duration": 28,
    "start_time": "2024-04-11T12:24:27.700Z"
   },
   {
    "duration": 11,
    "start_time": "2024-04-11T12:24:27.730Z"
   },
   {
    "duration": 19,
    "start_time": "2024-04-11T12:24:27.743Z"
   },
   {
    "duration": 14,
    "start_time": "2024-04-11T12:24:27.763Z"
   },
   {
    "duration": 16,
    "start_time": "2024-04-11T12:24:27.778Z"
   },
   {
    "duration": 13,
    "start_time": "2024-04-11T12:24:27.795Z"
   },
   {
    "duration": 258,
    "start_time": "2024-04-11T12:24:27.817Z"
   },
   {
    "duration": 219,
    "start_time": "2024-04-11T12:24:28.077Z"
   },
   {
    "duration": 3,
    "start_time": "2024-04-11T12:24:28.298Z"
   },
   {
    "duration": 15,
    "start_time": "2024-04-11T12:24:28.303Z"
   },
   {
    "duration": 39,
    "start_time": "2024-04-11T12:24:28.319Z"
   },
   {
    "duration": 3,
    "start_time": "2024-04-11T12:24:28.359Z"
   },
   {
    "duration": 15,
    "start_time": "2024-04-11T12:24:28.364Z"
   },
   {
    "duration": 5,
    "start_time": "2024-04-11T12:24:28.381Z"
   },
   {
    "duration": 21,
    "start_time": "2024-04-11T12:24:28.388Z"
   },
   {
    "duration": 11,
    "start_time": "2024-04-11T12:24:28.411Z"
   },
   {
    "duration": 4,
    "start_time": "2024-04-11T12:30:25.141Z"
   },
   {
    "duration": 3,
    "start_time": "2024-04-11T12:30:32.710Z"
   },
   {
    "duration": 3,
    "start_time": "2024-04-11T12:30:50.408Z"
   },
   {
    "duration": 3,
    "start_time": "2024-04-11T12:30:52.416Z"
   },
   {
    "duration": 4,
    "start_time": "2024-04-11T12:31:24.187Z"
   },
   {
    "duration": 4,
    "start_time": "2024-04-11T12:31:28.079Z"
   },
   {
    "duration": 5,
    "start_time": "2024-04-11T12:39:06.520Z"
   },
   {
    "duration": 5,
    "start_time": "2024-04-11T12:39:43.858Z"
   },
   {
    "duration": 11,
    "start_time": "2024-04-11T13:57:12.232Z"
   },
   {
    "duration": 5,
    "start_time": "2024-04-11T13:57:29.564Z"
   },
   {
    "duration": 18,
    "start_time": "2024-04-11T13:57:47.822Z"
   },
   {
    "duration": 20,
    "start_time": "2024-04-11T13:57:55.385Z"
   },
   {
    "duration": 8,
    "start_time": "2024-04-11T13:58:07.544Z"
   },
   {
    "duration": 8,
    "start_time": "2024-04-11T13:58:26.644Z"
   },
   {
    "duration": 17,
    "start_time": "2024-04-11T13:58:46.562Z"
   },
   {
    "duration": 13,
    "start_time": "2024-04-11T14:41:41.134Z"
   },
   {
    "duration": 67,
    "start_time": "2024-04-11T14:42:04.406Z"
   },
   {
    "duration": 9,
    "start_time": "2024-04-11T14:42:37.331Z"
   },
   {
    "duration": 59,
    "start_time": "2024-04-11T14:42:58.070Z"
   },
   {
    "duration": 8,
    "start_time": "2024-04-11T14:43:18.665Z"
   },
   {
    "duration": 10,
    "start_time": "2024-04-11T14:44:59.361Z"
   },
   {
    "duration": 7,
    "start_time": "2024-04-11T14:45:05.331Z"
   },
   {
    "duration": 7,
    "start_time": "2024-04-11T14:45:36.584Z"
   },
   {
    "duration": 22,
    "start_time": "2024-04-11T14:45:51.934Z"
   },
   {
    "duration": 9,
    "start_time": "2024-04-11T14:45:58.502Z"
   },
   {
    "duration": 9,
    "start_time": "2024-04-11T14:48:15.215Z"
   },
   {
    "duration": 8,
    "start_time": "2024-04-11T14:48:20.165Z"
   },
   {
    "duration": 9,
    "start_time": "2024-04-11T14:48:27.379Z"
   },
   {
    "duration": 8,
    "start_time": "2024-04-11T14:51:25.326Z"
   },
   {
    "duration": 19,
    "start_time": "2024-04-11T14:51:31.089Z"
   },
   {
    "duration": 10,
    "start_time": "2024-04-11T14:54:26.000Z"
   },
   {
    "duration": 20,
    "start_time": "2024-04-11T15:01:25.953Z"
   },
   {
    "duration": 6,
    "start_time": "2024-04-11T15:03:59.842Z"
   },
   {
    "duration": 12,
    "start_time": "2024-04-11T15:04:02.427Z"
   },
   {
    "duration": 11,
    "start_time": "2024-04-11T15:04:06.264Z"
   },
   {
    "duration": 5,
    "start_time": "2024-04-11T16:46:56.628Z"
   },
   {
    "duration": 13,
    "start_time": "2024-04-11T16:47:52.772Z"
   },
   {
    "duration": 16,
    "start_time": "2024-04-11T16:48:17.997Z"
   },
   {
    "duration": 13,
    "start_time": "2024-04-11T16:49:50.787Z"
   },
   {
    "duration": 24,
    "start_time": "2024-04-11T17:05:07.630Z"
   },
   {
    "duration": 6,
    "start_time": "2024-04-11T17:05:15.344Z"
   },
   {
    "duration": 8,
    "start_time": "2024-04-11T17:07:45.743Z"
   },
   {
    "duration": 378,
    "start_time": "2024-04-11T17:35:52.432Z"
   },
   {
    "duration": 28,
    "start_time": "2024-04-11T17:35:52.812Z"
   },
   {
    "duration": 32,
    "start_time": "2024-04-11T17:35:52.842Z"
   },
   {
    "duration": 15,
    "start_time": "2024-04-11T17:35:52.876Z"
   },
   {
    "duration": 14,
    "start_time": "2024-04-11T17:35:52.892Z"
   },
   {
    "duration": 10,
    "start_time": "2024-04-11T17:35:52.908Z"
   },
   {
    "duration": 15,
    "start_time": "2024-04-11T17:35:52.919Z"
   },
   {
    "duration": 10,
    "start_time": "2024-04-11T17:35:52.935Z"
   },
   {
    "duration": 7,
    "start_time": "2024-04-11T17:35:52.946Z"
   },
   {
    "duration": 17,
    "start_time": "2024-04-11T17:35:52.955Z"
   },
   {
    "duration": 9,
    "start_time": "2024-04-11T17:35:52.973Z"
   },
   {
    "duration": 7,
    "start_time": "2024-04-11T17:35:52.983Z"
   },
   {
    "duration": 25,
    "start_time": "2024-04-11T17:35:52.992Z"
   },
   {
    "duration": 6,
    "start_time": "2024-04-11T17:35:53.019Z"
   },
   {
    "duration": 7,
    "start_time": "2024-04-11T17:35:53.026Z"
   },
   {
    "duration": 10,
    "start_time": "2024-04-11T17:35:53.034Z"
   },
   {
    "duration": 20,
    "start_time": "2024-04-11T17:35:53.046Z"
   },
   {
    "duration": 247,
    "start_time": "2024-04-11T17:35:53.067Z"
   },
   {
    "duration": 208,
    "start_time": "2024-04-11T17:35:53.315Z"
   },
   {
    "duration": 7,
    "start_time": "2024-04-11T17:35:53.525Z"
   },
   {
    "duration": 162,
    "start_time": "2024-04-11T17:35:53.533Z"
   },
   {
    "duration": 172,
    "start_time": "2024-04-11T17:35:53.697Z"
   },
   {
    "duration": 4,
    "start_time": "2024-04-11T17:35:53.871Z"
   },
   {
    "duration": 4,
    "start_time": "2024-04-11T17:35:53.876Z"
   },
   {
    "duration": 203,
    "start_time": "2024-04-11T17:35:53.881Z"
   },
   {
    "duration": 244,
    "start_time": "2024-04-11T17:35:54.085Z"
   },
   {
    "duration": 14,
    "start_time": "2024-04-11T17:35:54.331Z"
   },
   {
    "duration": 14,
    "start_time": "2024-04-11T17:35:54.348Z"
   },
   {
    "duration": 12,
    "start_time": "2024-04-11T17:35:54.363Z"
   },
   {
    "duration": 22,
    "start_time": "2024-04-11T17:35:54.376Z"
   },
   {
    "duration": 27,
    "start_time": "2024-04-11T17:35:54.399Z"
   },
   {
    "duration": 6,
    "start_time": "2024-04-11T17:35:54.428Z"
   },
   {
    "duration": 12,
    "start_time": "2024-04-11T17:35:54.435Z"
   },
   {
    "duration": 250,
    "start_time": "2024-04-11T17:35:54.449Z"
   },
   {
    "duration": 199,
    "start_time": "2024-04-11T17:35:54.700Z"
   },
   {
    "duration": 4,
    "start_time": "2024-04-11T17:35:54.901Z"
   },
   {
    "duration": 7,
    "start_time": "2024-04-11T17:35:54.917Z"
   },
   {
    "duration": 34,
    "start_time": "2024-04-11T17:36:00.577Z"
   },
   {
    "duration": 3,
    "start_time": "2024-04-11T17:36:03.521Z"
   },
   {
    "duration": 6,
    "start_time": "2024-04-11T17:36:04.491Z"
   },
   {
    "duration": 4,
    "start_time": "2024-04-11T17:36:06.274Z"
   },
   {
    "duration": 10,
    "start_time": "2024-04-11T17:36:07.622Z"
   },
   {
    "duration": 416,
    "start_time": "2024-04-11T17:48:11.990Z"
   },
   {
    "duration": 29,
    "start_time": "2024-04-11T17:48:12.407Z"
   },
   {
    "duration": 31,
    "start_time": "2024-04-11T17:48:12.437Z"
   },
   {
    "duration": 16,
    "start_time": "2024-04-11T17:48:12.470Z"
   },
   {
    "duration": 14,
    "start_time": "2024-04-11T17:48:12.488Z"
   },
   {
    "duration": 11,
    "start_time": "2024-04-11T17:48:12.504Z"
   },
   {
    "duration": 9,
    "start_time": "2024-04-11T17:48:12.516Z"
   },
   {
    "duration": 10,
    "start_time": "2024-04-11T17:48:12.528Z"
   },
   {
    "duration": 6,
    "start_time": "2024-04-11T17:48:12.539Z"
   },
   {
    "duration": 10,
    "start_time": "2024-04-11T17:48:12.547Z"
   },
   {
    "duration": 7,
    "start_time": "2024-04-11T17:48:12.558Z"
   },
   {
    "duration": 6,
    "start_time": "2024-04-11T17:48:12.566Z"
   },
   {
    "duration": 3,
    "start_time": "2024-04-11T17:48:12.574Z"
   },
   {
    "duration": 44,
    "start_time": "2024-04-11T17:48:12.578Z"
   },
   {
    "duration": 6,
    "start_time": "2024-04-11T17:48:12.623Z"
   },
   {
    "duration": 4,
    "start_time": "2024-04-11T17:48:12.630Z"
   },
   {
    "duration": 8,
    "start_time": "2024-04-11T17:48:12.635Z"
   },
   {
    "duration": 236,
    "start_time": "2024-04-11T17:48:12.645Z"
   },
   {
    "duration": 209,
    "start_time": "2024-04-11T17:48:12.883Z"
   },
   {
    "duration": 6,
    "start_time": "2024-04-11T17:48:13.093Z"
   },
   {
    "duration": 162,
    "start_time": "2024-04-11T17:48:13.101Z"
   },
   {
    "duration": 167,
    "start_time": "2024-04-11T17:48:13.264Z"
   },
   {
    "duration": 3,
    "start_time": "2024-04-11T17:48:13.433Z"
   },
   {
    "duration": 4,
    "start_time": "2024-04-11T17:48:13.438Z"
   },
   {
    "duration": 213,
    "start_time": "2024-04-11T17:48:13.444Z"
   },
   {
    "duration": 268,
    "start_time": "2024-04-11T17:48:13.660Z"
   },
   {
    "duration": 14,
    "start_time": "2024-04-11T17:48:13.930Z"
   },
   {
    "duration": 17,
    "start_time": "2024-04-11T17:48:13.948Z"
   },
   {
    "duration": 15,
    "start_time": "2024-04-11T17:48:13.966Z"
   },
   {
    "duration": 9,
    "start_time": "2024-04-11T17:48:13.982Z"
   },
   {
    "duration": 26,
    "start_time": "2024-04-11T17:48:13.993Z"
   },
   {
    "duration": 9,
    "start_time": "2024-04-11T17:48:14.020Z"
   },
   {
    "duration": 10,
    "start_time": "2024-04-11T17:48:14.031Z"
   },
   {
    "duration": 241,
    "start_time": "2024-04-11T17:48:14.042Z"
   },
   {
    "duration": 183,
    "start_time": "2024-04-11T17:48:14.284Z"
   },
   {
    "duration": 2,
    "start_time": "2024-04-11T17:48:14.469Z"
   },
   {
    "duration": 8,
    "start_time": "2024-04-11T17:48:14.473Z"
   },
   {
    "duration": 46,
    "start_time": "2024-04-11T17:48:14.483Z"
   },
   {
    "duration": 3,
    "start_time": "2024-04-11T17:48:14.531Z"
   },
   {
    "duration": 7,
    "start_time": "2024-04-11T17:48:14.535Z"
   },
   {
    "duration": 4,
    "start_time": "2024-04-11T17:48:14.544Z"
   },
   {
    "duration": 12,
    "start_time": "2024-04-11T17:48:14.549Z"
   },
   {
    "duration": 5,
    "start_time": "2024-04-11T17:48:14.562Z"
   },
   {
    "duration": 7,
    "start_time": "2024-04-11T17:48:14.569Z"
   },
   {
    "duration": 3,
    "start_time": "2024-04-11T17:54:12.276Z"
   },
   {
    "duration": 20,
    "start_time": "2024-04-11T17:54:18.301Z"
   },
   {
    "duration": 7,
    "start_time": "2024-04-11T17:55:23.869Z"
   },
   {
    "duration": 7,
    "start_time": "2024-04-11T17:56:37.667Z"
   },
   {
    "duration": 48,
    "start_time": "2024-04-12T05:22:10.658Z"
   },
   {
    "duration": 365,
    "start_time": "2024-04-12T05:22:26.305Z"
   },
   {
    "duration": 100,
    "start_time": "2024-04-12T05:22:26.671Z"
   },
   {
    "duration": 136,
    "start_time": "2024-04-12T05:22:26.772Z"
   },
   {
    "duration": 66,
    "start_time": "2024-04-12T05:22:26.909Z"
   },
   {
    "duration": 14,
    "start_time": "2024-04-12T05:22:26.976Z"
   },
   {
    "duration": 9,
    "start_time": "2024-04-12T05:22:26.991Z"
   },
   {
    "duration": 11,
    "start_time": "2024-04-12T05:22:27.002Z"
   },
   {
    "duration": 9,
    "start_time": "2024-04-12T05:22:27.015Z"
   },
   {
    "duration": 6,
    "start_time": "2024-04-12T05:22:27.025Z"
   },
   {
    "duration": 11,
    "start_time": "2024-04-12T05:22:27.033Z"
   },
   {
    "duration": 5,
    "start_time": "2024-04-12T05:22:27.058Z"
   },
   {
    "duration": 6,
    "start_time": "2024-04-12T05:22:27.064Z"
   },
   {
    "duration": 7,
    "start_time": "2024-04-12T05:22:27.072Z"
   },
   {
    "duration": 10,
    "start_time": "2024-04-12T05:22:27.082Z"
   },
   {
    "duration": 5,
    "start_time": "2024-04-12T05:22:27.093Z"
   },
   {
    "duration": 4,
    "start_time": "2024-04-12T05:22:27.100Z"
   },
   {
    "duration": 8,
    "start_time": "2024-04-12T05:22:27.105Z"
   },
   {
    "duration": 423,
    "start_time": "2024-04-12T05:22:27.114Z"
   },
   {
    "duration": 201,
    "start_time": "2024-04-12T05:22:27.538Z"
   },
   {
    "duration": 7,
    "start_time": "2024-04-12T05:22:27.741Z"
   },
   {
    "duration": 150,
    "start_time": "2024-04-12T05:22:27.749Z"
   },
   {
    "duration": 168,
    "start_time": "2024-04-12T05:22:27.901Z"
   },
   {
    "duration": 3,
    "start_time": "2024-04-12T05:22:28.071Z"
   },
   {
    "duration": 3,
    "start_time": "2024-04-12T05:22:28.076Z"
   },
   {
    "duration": 241,
    "start_time": "2024-04-12T05:22:28.081Z"
   },
   {
    "duration": 203,
    "start_time": "2024-04-12T05:22:28.323Z"
   },
   {
    "duration": 14,
    "start_time": "2024-04-12T05:22:28.528Z"
   },
   {
    "duration": 30,
    "start_time": "2024-04-12T05:22:28.543Z"
   },
   {
    "duration": 14,
    "start_time": "2024-04-12T05:22:28.575Z"
   },
   {
    "duration": 8,
    "start_time": "2024-04-12T05:22:28.591Z"
   },
   {
    "duration": 12,
    "start_time": "2024-04-12T05:22:28.601Z"
   },
   {
    "duration": 7,
    "start_time": "2024-04-12T05:22:28.614Z"
   },
   {
    "duration": 41,
    "start_time": "2024-04-12T05:22:28.622Z"
   },
   {
    "duration": 222,
    "start_time": "2024-04-12T05:22:28.665Z"
   },
   {
    "duration": 188,
    "start_time": "2024-04-12T05:22:28.888Z"
   },
   {
    "duration": 3,
    "start_time": "2024-04-12T05:22:29.077Z"
   },
   {
    "duration": 9,
    "start_time": "2024-04-12T05:22:29.081Z"
   },
   {
    "duration": 37,
    "start_time": "2024-04-12T05:22:29.091Z"
   },
   {
    "duration": 3,
    "start_time": "2024-04-12T05:22:29.129Z"
   },
   {
    "duration": 19,
    "start_time": "2024-04-12T05:22:29.133Z"
   },
   {
    "duration": 10,
    "start_time": "2024-04-12T05:22:29.159Z"
   },
   {
    "duration": 24,
    "start_time": "2024-04-12T05:22:29.170Z"
   },
   {
    "duration": 13,
    "start_time": "2024-04-12T05:22:29.196Z"
   },
   {
    "duration": 14,
    "start_time": "2024-04-12T05:22:29.211Z"
   },
   {
    "duration": 6,
    "start_time": "2024-04-12T05:22:29.227Z"
   },
   {
    "duration": 13,
    "start_time": "2024-04-12T05:22:29.235Z"
   },
   {
    "duration": 28,
    "start_time": "2024-04-12T05:22:29.249Z"
   },
   {
    "duration": 15,
    "start_time": "2024-04-12T05:22:36.702Z"
   },
   {
    "duration": 3,
    "start_time": "2024-04-12T05:24:23.872Z"
   },
   {
    "duration": 14,
    "start_time": "2024-04-12T05:24:29.930Z"
   },
   {
    "duration": 5,
    "start_time": "2024-04-12T05:25:10.044Z"
   },
   {
    "duration": 15,
    "start_time": "2024-04-12T05:25:25.631Z"
   },
   {
    "duration": 32,
    "start_time": "2024-04-12T05:27:02.879Z"
   },
   {
    "duration": 40,
    "start_time": "2024-04-12T05:27:10.841Z"
   },
   {
    "duration": 385,
    "start_time": "2024-04-12T05:28:23.685Z"
   },
   {
    "duration": 14,
    "start_time": "2024-04-12T05:31:09.141Z"
   },
   {
    "duration": 36,
    "start_time": "2024-04-12T05:32:03.931Z"
   },
   {
    "duration": 16,
    "start_time": "2024-04-12T05:32:06.170Z"
   },
   {
    "duration": 402,
    "start_time": "2024-04-12T05:35:31.279Z"
   },
   {
    "duration": 29,
    "start_time": "2024-04-12T05:35:31.683Z"
   },
   {
    "duration": 33,
    "start_time": "2024-04-12T05:35:31.715Z"
   },
   {
    "duration": 15,
    "start_time": "2024-04-12T05:35:31.750Z"
   },
   {
    "duration": 55,
    "start_time": "2024-04-12T05:35:31.766Z"
   },
   {
    "duration": 26,
    "start_time": "2024-04-12T05:35:31.823Z"
   },
   {
    "duration": 65,
    "start_time": "2024-04-12T05:35:31.850Z"
   },
   {
    "duration": 64,
    "start_time": "2024-04-12T05:35:31.917Z"
   },
   {
    "duration": 28,
    "start_time": "2024-04-12T05:35:31.983Z"
   },
   {
    "duration": 35,
    "start_time": "2024-04-12T05:35:32.014Z"
   },
   {
    "duration": 33,
    "start_time": "2024-04-12T05:35:32.051Z"
   },
   {
    "duration": 29,
    "start_time": "2024-04-12T05:35:32.085Z"
   },
   {
    "duration": 11,
    "start_time": "2024-04-12T05:35:32.116Z"
   },
   {
    "duration": 50,
    "start_time": "2024-04-12T05:35:32.129Z"
   },
   {
    "duration": 32,
    "start_time": "2024-04-12T05:35:32.180Z"
   },
   {
    "duration": 17,
    "start_time": "2024-04-12T05:35:32.214Z"
   },
   {
    "duration": 22,
    "start_time": "2024-04-12T05:35:32.233Z"
   },
   {
    "duration": 254,
    "start_time": "2024-04-12T05:35:32.257Z"
   },
   {
    "duration": 188,
    "start_time": "2024-04-12T05:35:32.512Z"
   },
   {
    "duration": 7,
    "start_time": "2024-04-12T05:35:32.702Z"
   },
   {
    "duration": 166,
    "start_time": "2024-04-12T05:35:32.710Z"
   },
   {
    "duration": 171,
    "start_time": "2024-04-12T05:35:32.877Z"
   },
   {
    "duration": 11,
    "start_time": "2024-04-12T05:35:33.049Z"
   },
   {
    "duration": 34,
    "start_time": "2024-04-12T05:35:33.061Z"
   },
   {
    "duration": 197,
    "start_time": "2024-04-12T05:35:33.096Z"
   },
   {
    "duration": 257,
    "start_time": "2024-04-12T05:35:33.294Z"
   },
   {
    "duration": 18,
    "start_time": "2024-04-12T05:35:33.552Z"
   },
   {
    "duration": 22,
    "start_time": "2024-04-12T05:35:33.574Z"
   },
   {
    "duration": 12,
    "start_time": "2024-04-12T05:35:33.597Z"
   },
   {
    "duration": 24,
    "start_time": "2024-04-12T05:35:33.611Z"
   },
   {
    "duration": 23,
    "start_time": "2024-04-12T05:35:33.636Z"
   },
   {
    "duration": 16,
    "start_time": "2024-04-12T05:35:33.660Z"
   },
   {
    "duration": 20,
    "start_time": "2024-04-12T05:35:33.677Z"
   },
   {
    "duration": 276,
    "start_time": "2024-04-12T05:35:33.699Z"
   },
   {
    "duration": 186,
    "start_time": "2024-04-12T05:35:33.977Z"
   },
   {
    "duration": 3,
    "start_time": "2024-04-12T05:35:34.164Z"
   },
   {
    "duration": 24,
    "start_time": "2024-04-12T05:35:34.168Z"
   },
   {
    "duration": 37,
    "start_time": "2024-04-12T05:35:34.194Z"
   },
   {
    "duration": 3,
    "start_time": "2024-04-12T05:35:34.233Z"
   },
   {
    "duration": 13,
    "start_time": "2024-04-12T05:35:34.237Z"
   },
   {
    "duration": 46,
    "start_time": "2024-04-12T05:35:34.251Z"
   },
   {
    "duration": 40,
    "start_time": "2024-04-12T05:35:34.298Z"
   },
   {
    "duration": 19,
    "start_time": "2024-04-12T05:35:34.339Z"
   },
   {
    "duration": 26,
    "start_time": "2024-04-12T05:35:34.360Z"
   },
   {
    "duration": 13,
    "start_time": "2024-04-12T05:35:34.387Z"
   },
   {
    "duration": 38,
    "start_time": "2024-04-12T05:35:34.401Z"
   },
   {
    "duration": 1372,
    "start_time": "2024-04-12T05:35:34.441Z"
   },
   {
    "duration": 16,
    "start_time": "2024-04-12T05:35:50.902Z"
   },
   {
    "duration": 17,
    "start_time": "2024-04-12T05:50:57.739Z"
   },
   {
    "duration": 22,
    "start_time": "2024-04-12T05:51:39.889Z"
   },
   {
    "duration": 398,
    "start_time": "2024-04-12T06:06:23.472Z"
   },
   {
    "duration": 28,
    "start_time": "2024-04-12T06:06:23.872Z"
   },
   {
    "duration": 31,
    "start_time": "2024-04-12T06:06:23.902Z"
   },
   {
    "duration": 15,
    "start_time": "2024-04-12T06:06:23.935Z"
   },
   {
    "duration": 14,
    "start_time": "2024-04-12T06:06:23.951Z"
   },
   {
    "duration": 11,
    "start_time": "2024-04-12T06:06:23.966Z"
   },
   {
    "duration": 14,
    "start_time": "2024-04-12T06:06:23.978Z"
   },
   {
    "duration": 11,
    "start_time": "2024-04-12T06:06:23.993Z"
   },
   {
    "duration": 6,
    "start_time": "2024-04-12T06:06:24.005Z"
   },
   {
    "duration": 10,
    "start_time": "2024-04-12T06:06:24.013Z"
   },
   {
    "duration": 12,
    "start_time": "2024-04-12T06:06:24.024Z"
   },
   {
    "duration": 27,
    "start_time": "2024-04-12T06:06:24.037Z"
   },
   {
    "duration": 4,
    "start_time": "2024-04-12T06:06:24.065Z"
   },
   {
    "duration": 7,
    "start_time": "2024-04-12T06:06:24.071Z"
   },
   {
    "duration": 8,
    "start_time": "2024-04-12T06:06:24.080Z"
   },
   {
    "duration": 5,
    "start_time": "2024-04-12T06:06:24.090Z"
   },
   {
    "duration": 7,
    "start_time": "2024-04-12T06:06:24.097Z"
   },
   {
    "duration": 235,
    "start_time": "2024-04-12T06:06:24.106Z"
   },
   {
    "duration": 203,
    "start_time": "2024-04-12T06:06:24.343Z"
   },
   {
    "duration": 14,
    "start_time": "2024-04-12T06:06:24.547Z"
   },
   {
    "duration": 179,
    "start_time": "2024-04-12T06:06:24.562Z"
   },
   {
    "duration": 162,
    "start_time": "2024-04-12T06:06:24.742Z"
   },
   {
    "duration": 3,
    "start_time": "2024-04-12T06:06:24.906Z"
   },
   {
    "duration": 29,
    "start_time": "2024-04-12T06:06:24.911Z"
   },
   {
    "duration": 216,
    "start_time": "2024-04-12T06:06:24.942Z"
   },
   {
    "duration": 247,
    "start_time": "2024-04-12T06:06:25.160Z"
   },
   {
    "duration": 12,
    "start_time": "2024-04-12T06:06:25.409Z"
   },
   {
    "duration": 12,
    "start_time": "2024-04-12T06:06:25.424Z"
   },
   {
    "duration": 22,
    "start_time": "2024-04-12T06:06:25.438Z"
   },
   {
    "duration": 25,
    "start_time": "2024-04-12T06:06:25.462Z"
   },
   {
    "duration": 16,
    "start_time": "2024-04-12T06:06:25.488Z"
   },
   {
    "duration": 22,
    "start_time": "2024-04-12T06:06:25.505Z"
   },
   {
    "duration": 33,
    "start_time": "2024-04-12T06:06:25.528Z"
   },
   {
    "duration": 249,
    "start_time": "2024-04-12T06:06:25.562Z"
   },
   {
    "duration": 194,
    "start_time": "2024-04-12T06:06:25.813Z"
   },
   {
    "duration": 2,
    "start_time": "2024-04-12T06:06:26.009Z"
   },
   {
    "duration": 29,
    "start_time": "2024-04-12T06:06:26.013Z"
   },
   {
    "duration": 87,
    "start_time": "2024-04-12T06:06:26.044Z"
   },
   {
    "duration": 0,
    "start_time": "2024-04-12T06:06:26.132Z"
   },
   {
    "duration": 0,
    "start_time": "2024-04-12T06:06:26.133Z"
   },
   {
    "duration": 0,
    "start_time": "2024-04-12T06:06:26.135Z"
   },
   {
    "duration": 0,
    "start_time": "2024-04-12T06:06:26.135Z"
   },
   {
    "duration": 0,
    "start_time": "2024-04-12T06:06:26.137Z"
   },
   {
    "duration": 1,
    "start_time": "2024-04-12T06:06:26.137Z"
   },
   {
    "duration": 0,
    "start_time": "2024-04-12T06:06:26.138Z"
   },
   {
    "duration": 0,
    "start_time": "2024-04-12T06:06:26.139Z"
   },
   {
    "duration": 0,
    "start_time": "2024-04-12T06:06:26.140Z"
   },
   {
    "duration": 0,
    "start_time": "2024-04-12T06:06:26.141Z"
   },
   {
    "duration": 15,
    "start_time": "2024-04-12T06:07:50.504Z"
   },
   {
    "duration": 40,
    "start_time": "2024-04-12T06:08:25.971Z"
   },
   {
    "duration": 3,
    "start_time": "2024-04-12T06:08:29.123Z"
   },
   {
    "duration": 6,
    "start_time": "2024-04-12T06:08:30.539Z"
   },
   {
    "duration": 5,
    "start_time": "2024-04-12T06:08:32.377Z"
   },
   {
    "duration": 11,
    "start_time": "2024-04-12T06:08:33.548Z"
   },
   {
    "duration": 5,
    "start_time": "2024-04-12T06:08:37.195Z"
   },
   {
    "duration": 9,
    "start_time": "2024-04-12T06:08:40.996Z"
   },
   {
    "duration": 6,
    "start_time": "2024-04-12T06:08:43.883Z"
   },
   {
    "duration": 7,
    "start_time": "2024-04-12T06:08:44.956Z"
   },
   {
    "duration": 18,
    "start_time": "2024-04-12T06:08:48.235Z"
   },
   {
    "duration": 23,
    "start_time": "2024-04-12T06:08:50.575Z"
   },
   {
    "duration": 428,
    "start_time": "2024-04-12T06:28:21.936Z"
   },
   {
    "duration": 27,
    "start_time": "2024-04-12T06:28:22.366Z"
   },
   {
    "duration": 31,
    "start_time": "2024-04-12T06:28:22.395Z"
   },
   {
    "duration": 15,
    "start_time": "2024-04-12T06:28:22.427Z"
   },
   {
    "duration": 13,
    "start_time": "2024-04-12T06:28:22.443Z"
   },
   {
    "duration": 10,
    "start_time": "2024-04-12T06:28:22.457Z"
   },
   {
    "duration": 25,
    "start_time": "2024-04-12T06:28:22.468Z"
   },
   {
    "duration": 20,
    "start_time": "2024-04-12T06:28:22.494Z"
   },
   {
    "duration": 7,
    "start_time": "2024-04-12T06:28:22.515Z"
   },
   {
    "duration": 15,
    "start_time": "2024-04-12T06:28:22.524Z"
   },
   {
    "duration": 5,
    "start_time": "2024-04-12T06:28:22.540Z"
   },
   {
    "duration": 17,
    "start_time": "2024-04-12T06:28:22.547Z"
   },
   {
    "duration": 7,
    "start_time": "2024-04-12T06:28:22.566Z"
   },
   {
    "duration": 32,
    "start_time": "2024-04-12T06:28:22.574Z"
   },
   {
    "duration": 5,
    "start_time": "2024-04-12T06:28:22.607Z"
   },
   {
    "duration": 17,
    "start_time": "2024-04-12T06:28:22.614Z"
   },
   {
    "duration": 9,
    "start_time": "2024-04-12T06:28:22.632Z"
   },
   {
    "duration": 234,
    "start_time": "2024-04-12T06:28:22.643Z"
   },
   {
    "duration": 194,
    "start_time": "2024-04-12T06:28:22.879Z"
   },
   {
    "duration": 7,
    "start_time": "2024-04-12T06:28:23.074Z"
   },
   {
    "duration": 152,
    "start_time": "2024-04-12T06:28:23.082Z"
   },
   {
    "duration": 166,
    "start_time": "2024-04-12T06:28:23.236Z"
   },
   {
    "duration": 4,
    "start_time": "2024-04-12T06:28:23.404Z"
   },
   {
    "duration": 6,
    "start_time": "2024-04-12T06:28:23.409Z"
   },
   {
    "duration": 223,
    "start_time": "2024-04-12T06:28:23.416Z"
   },
   {
    "duration": 262,
    "start_time": "2024-04-12T06:28:23.641Z"
   },
   {
    "duration": 14,
    "start_time": "2024-04-12T06:28:23.905Z"
   },
   {
    "duration": 13,
    "start_time": "2024-04-12T06:28:23.922Z"
   },
   {
    "duration": 28,
    "start_time": "2024-04-12T06:28:23.936Z"
   },
   {
    "duration": 13,
    "start_time": "2024-04-12T06:28:23.966Z"
   },
   {
    "duration": 11,
    "start_time": "2024-04-12T06:28:23.980Z"
   },
   {
    "duration": 31,
    "start_time": "2024-04-12T06:28:23.992Z"
   },
   {
    "duration": 21,
    "start_time": "2024-04-12T06:28:24.024Z"
   },
   {
    "duration": 241,
    "start_time": "2024-04-12T06:28:24.046Z"
   },
   {
    "duration": 187,
    "start_time": "2024-04-12T06:28:24.289Z"
   },
   {
    "duration": 2,
    "start_time": "2024-04-12T06:28:24.478Z"
   },
   {
    "duration": 15,
    "start_time": "2024-04-12T06:28:24.481Z"
   },
   {
    "duration": 52,
    "start_time": "2024-04-12T06:28:24.497Z"
   },
   {
    "duration": 3,
    "start_time": "2024-04-12T06:28:24.550Z"
   },
   {
    "duration": 37,
    "start_time": "2024-04-12T06:28:24.555Z"
   },
   {
    "duration": 8,
    "start_time": "2024-04-12T06:28:24.594Z"
   },
   {
    "duration": 22,
    "start_time": "2024-04-12T06:28:24.603Z"
   },
   {
    "duration": 8,
    "start_time": "2024-04-12T06:28:24.626Z"
   },
   {
    "duration": 20,
    "start_time": "2024-04-12T06:28:24.635Z"
   },
   {
    "duration": 25,
    "start_time": "2024-04-12T06:28:24.656Z"
   },
   {
    "duration": 6,
    "start_time": "2024-04-12T06:28:24.683Z"
   },
   {
    "duration": 19,
    "start_time": "2024-04-12T06:28:24.690Z"
   },
   {
    "duration": 13,
    "start_time": "2024-04-12T06:28:38.623Z"
   },
   {
    "duration": 417,
    "start_time": "2024-04-12T06:30:09.460Z"
   },
   {
    "duration": 27,
    "start_time": "2024-04-12T06:30:09.879Z"
   },
   {
    "duration": 32,
    "start_time": "2024-04-12T06:30:09.907Z"
   },
   {
    "duration": 39,
    "start_time": "2024-04-12T06:30:09.940Z"
   },
   {
    "duration": 24,
    "start_time": "2024-04-12T06:30:09.981Z"
   },
   {
    "duration": 35,
    "start_time": "2024-04-12T06:30:10.006Z"
   },
   {
    "duration": 52,
    "start_time": "2024-04-12T06:30:10.042Z"
   },
   {
    "duration": 44,
    "start_time": "2024-04-12T06:30:10.095Z"
   },
   {
    "duration": 31,
    "start_time": "2024-04-12T06:30:10.140Z"
   },
   {
    "duration": 36,
    "start_time": "2024-04-12T06:30:10.173Z"
   },
   {
    "duration": 7,
    "start_time": "2024-04-12T06:30:10.211Z"
   },
   {
    "duration": 7,
    "start_time": "2024-04-12T06:30:10.220Z"
   },
   {
    "duration": 4,
    "start_time": "2024-04-12T06:30:10.229Z"
   },
   {
    "duration": 6,
    "start_time": "2024-04-12T06:30:10.234Z"
   },
   {
    "duration": 10,
    "start_time": "2024-04-12T06:30:10.242Z"
   },
   {
    "duration": 16,
    "start_time": "2024-04-12T06:30:10.253Z"
   },
   {
    "duration": 14,
    "start_time": "2024-04-12T06:30:10.270Z"
   },
   {
    "duration": 227,
    "start_time": "2024-04-12T06:30:10.285Z"
   },
   {
    "duration": 178,
    "start_time": "2024-04-12T06:30:10.513Z"
   },
   {
    "duration": 7,
    "start_time": "2024-04-12T06:30:10.692Z"
   },
   {
    "duration": 151,
    "start_time": "2024-04-12T06:30:10.700Z"
   },
   {
    "duration": 166,
    "start_time": "2024-04-12T06:30:10.853Z"
   },
   {
    "duration": 4,
    "start_time": "2024-04-12T06:30:11.021Z"
   },
   {
    "duration": 9,
    "start_time": "2024-04-12T06:30:11.027Z"
   },
   {
    "duration": 214,
    "start_time": "2024-04-12T06:30:11.038Z"
   },
   {
    "duration": 267,
    "start_time": "2024-04-12T06:30:11.253Z"
   },
   {
    "duration": 15,
    "start_time": "2024-04-12T06:30:11.522Z"
   },
   {
    "duration": 25,
    "start_time": "2024-04-12T06:30:11.542Z"
   },
   {
    "duration": 11,
    "start_time": "2024-04-12T06:30:11.568Z"
   },
   {
    "duration": 26,
    "start_time": "2024-04-12T06:30:11.580Z"
   },
   {
    "duration": 12,
    "start_time": "2024-04-12T06:30:11.608Z"
   },
   {
    "duration": 9,
    "start_time": "2024-04-12T06:30:11.621Z"
   },
   {
    "duration": 10,
    "start_time": "2024-04-12T06:30:11.631Z"
   },
   {
    "duration": 236,
    "start_time": "2024-04-12T06:30:11.643Z"
   },
   {
    "duration": 211,
    "start_time": "2024-04-12T06:30:11.881Z"
   },
   {
    "duration": 2,
    "start_time": "2024-04-12T06:30:12.094Z"
   },
   {
    "duration": 12,
    "start_time": "2024-04-12T06:30:12.098Z"
   },
   {
    "duration": 48,
    "start_time": "2024-04-12T06:30:12.111Z"
   },
   {
    "duration": 3,
    "start_time": "2024-04-12T06:30:12.160Z"
   },
   {
    "duration": 8,
    "start_time": "2024-04-12T06:30:12.165Z"
   },
   {
    "duration": 14,
    "start_time": "2024-04-12T06:30:12.174Z"
   },
   {
    "duration": 30,
    "start_time": "2024-04-12T06:30:12.190Z"
   },
   {
    "duration": 36,
    "start_time": "2024-04-12T06:30:12.222Z"
   },
   {
    "duration": 34,
    "start_time": "2024-04-12T06:30:12.259Z"
   },
   {
    "duration": 12,
    "start_time": "2024-04-12T06:30:12.295Z"
   },
   {
    "duration": 21,
    "start_time": "2024-04-12T06:30:12.308Z"
   },
   {
    "duration": 38,
    "start_time": "2024-04-12T06:30:12.330Z"
   },
   {
    "duration": 417,
    "start_time": "2024-04-12T06:42:14.341Z"
   },
   {
    "duration": 28,
    "start_time": "2024-04-12T06:42:14.760Z"
   },
   {
    "duration": 32,
    "start_time": "2024-04-12T06:42:14.790Z"
   },
   {
    "duration": 14,
    "start_time": "2024-04-12T06:42:14.824Z"
   },
   {
    "duration": 14,
    "start_time": "2024-04-12T06:42:14.840Z"
   },
   {
    "duration": 17,
    "start_time": "2024-04-12T06:42:14.856Z"
   },
   {
    "duration": 35,
    "start_time": "2024-04-12T06:42:14.875Z"
   },
   {
    "duration": 13,
    "start_time": "2024-04-12T06:42:14.912Z"
   },
   {
    "duration": 14,
    "start_time": "2024-04-12T06:42:14.927Z"
   },
   {
    "duration": 26,
    "start_time": "2024-04-12T06:42:14.943Z"
   },
   {
    "duration": 21,
    "start_time": "2024-04-12T06:42:14.971Z"
   },
   {
    "duration": 29,
    "start_time": "2024-04-12T06:42:14.994Z"
   },
   {
    "duration": 45,
    "start_time": "2024-04-12T06:42:15.024Z"
   },
   {
    "duration": 43,
    "start_time": "2024-04-12T06:42:15.070Z"
   },
   {
    "duration": 45,
    "start_time": "2024-04-12T06:42:15.114Z"
   },
   {
    "duration": 51,
    "start_time": "2024-04-12T06:42:15.160Z"
   },
   {
    "duration": 37,
    "start_time": "2024-04-12T06:42:15.213Z"
   },
   {
    "duration": 277,
    "start_time": "2024-04-12T06:42:15.252Z"
   },
   {
    "duration": 196,
    "start_time": "2024-04-12T06:42:15.531Z"
   },
   {
    "duration": 6,
    "start_time": "2024-04-12T06:42:15.728Z"
   },
   {
    "duration": 165,
    "start_time": "2024-04-12T06:42:15.735Z"
   },
   {
    "duration": 170,
    "start_time": "2024-04-12T06:42:15.902Z"
   },
   {
    "duration": 4,
    "start_time": "2024-04-12T06:42:16.074Z"
   },
   {
    "duration": 37,
    "start_time": "2024-04-12T06:42:16.079Z"
   },
   {
    "duration": 228,
    "start_time": "2024-04-12T06:42:16.117Z"
   },
   {
    "duration": 255,
    "start_time": "2024-04-12T06:42:16.347Z"
   },
   {
    "duration": 14,
    "start_time": "2024-04-12T06:42:16.603Z"
   },
   {
    "duration": 14,
    "start_time": "2024-04-12T06:42:16.621Z"
   },
   {
    "duration": 31,
    "start_time": "2024-04-12T06:42:16.636Z"
   },
   {
    "duration": 30,
    "start_time": "2024-04-12T06:42:16.668Z"
   },
   {
    "duration": 19,
    "start_time": "2024-04-12T06:42:16.700Z"
   },
   {
    "duration": 8,
    "start_time": "2024-04-12T06:42:16.720Z"
   },
   {
    "duration": 15,
    "start_time": "2024-04-12T06:42:16.729Z"
   },
   {
    "duration": 226,
    "start_time": "2024-04-12T06:42:16.745Z"
   },
   {
    "duration": 182,
    "start_time": "2024-04-12T06:42:16.973Z"
   },
   {
    "duration": 2,
    "start_time": "2024-04-12T06:42:17.157Z"
   },
   {
    "duration": 5,
    "start_time": "2024-04-12T06:42:17.161Z"
   },
   {
    "duration": 38,
    "start_time": "2024-04-12T06:42:17.167Z"
   },
   {
    "duration": 3,
    "start_time": "2024-04-12T06:42:17.207Z"
   },
   {
    "duration": 7,
    "start_time": "2024-04-12T06:42:17.212Z"
   },
   {
    "duration": 8,
    "start_time": "2024-04-12T06:42:17.221Z"
   },
   {
    "duration": 35,
    "start_time": "2024-04-12T06:42:17.230Z"
   },
   {
    "duration": 5,
    "start_time": "2024-04-12T06:42:17.266Z"
   },
   {
    "duration": 7,
    "start_time": "2024-04-12T06:42:17.272Z"
   },
   {
    "duration": 30,
    "start_time": "2024-04-12T06:42:17.281Z"
   },
   {
    "duration": 3,
    "start_time": "2024-04-12T06:43:15.481Z"
   },
   {
    "duration": 4,
    "start_time": "2024-04-12T06:43:17.424Z"
   },
   {
    "duration": 4,
    "start_time": "2024-04-12T06:43:45.794Z"
   },
   {
    "duration": 405,
    "start_time": "2024-04-12T08:40:32.162Z"
   },
   {
    "duration": 3,
    "start_time": "2024-04-12T08:41:44.734Z"
   },
   {
    "duration": 7,
    "start_time": "2024-04-12T08:42:53.492Z"
   },
   {
    "duration": 3,
    "start_time": "2024-04-12T09:28:44.189Z"
   },
   {
    "duration": 29,
    "start_time": "2024-04-12T09:28:44.211Z"
   },
   {
    "duration": 34,
    "start_time": "2024-04-12T09:28:44.242Z"
   },
   {
    "duration": 14,
    "start_time": "2024-04-12T09:28:44.277Z"
   },
   {
    "duration": 9,
    "start_time": "2024-04-12T09:28:44.293Z"
   },
   {
    "duration": 14,
    "start_time": "2024-04-12T09:28:44.304Z"
   },
   {
    "duration": 26,
    "start_time": "2024-04-12T09:28:44.319Z"
   },
   {
    "duration": 11,
    "start_time": "2024-04-12T09:28:44.347Z"
   },
   {
    "duration": 6,
    "start_time": "2024-04-12T09:28:44.359Z"
   },
   {
    "duration": 22,
    "start_time": "2024-04-12T09:28:44.367Z"
   },
   {
    "duration": 23,
    "start_time": "2024-04-12T09:28:44.390Z"
   },
   {
    "duration": 20,
    "start_time": "2024-04-12T09:28:44.414Z"
   },
   {
    "duration": 19,
    "start_time": "2024-04-12T09:28:44.436Z"
   },
   {
    "duration": 12,
    "start_time": "2024-04-12T09:28:44.458Z"
   },
   {
    "duration": 13,
    "start_time": "2024-04-12T09:28:44.471Z"
   },
   {
    "duration": 9,
    "start_time": "2024-04-12T09:28:44.486Z"
   },
   {
    "duration": 8,
    "start_time": "2024-04-12T09:28:44.496Z"
   },
   {
    "duration": 6,
    "start_time": "2024-04-12T09:28:44.506Z"
   },
   {
    "duration": 179,
    "start_time": "2024-04-12T09:28:44.514Z"
   },
   {
    "duration": 6,
    "start_time": "2024-04-12T09:28:44.695Z"
   },
   {
    "duration": 171,
    "start_time": "2024-04-12T09:28:44.702Z"
   },
   {
    "duration": 276,
    "start_time": "2024-04-12T09:28:44.875Z"
   },
   {
    "duration": 8,
    "start_time": "2024-04-12T09:28:45.152Z"
   },
   {
    "duration": 37,
    "start_time": "2024-04-12T09:28:45.161Z"
   },
   {
    "duration": 259,
    "start_time": "2024-04-12T09:28:45.199Z"
   },
   {
    "duration": 201,
    "start_time": "2024-04-12T09:28:45.460Z"
   },
   {
    "duration": 14,
    "start_time": "2024-04-12T09:28:45.662Z"
   },
   {
    "duration": 33,
    "start_time": "2024-04-12T09:28:45.678Z"
   },
   {
    "duration": 12,
    "start_time": "2024-04-12T09:28:45.712Z"
   },
   {
    "duration": 13,
    "start_time": "2024-04-12T09:28:45.725Z"
   },
   {
    "duration": 27,
    "start_time": "2024-04-12T09:28:45.740Z"
   },
   {
    "duration": 26,
    "start_time": "2024-04-12T09:28:45.768Z"
   },
   {
    "duration": 29,
    "start_time": "2024-04-12T09:28:45.795Z"
   },
   {
    "duration": 210,
    "start_time": "2024-04-12T09:28:45.826Z"
   },
   {
    "duration": 209,
    "start_time": "2024-04-12T09:28:46.038Z"
   },
   {
    "duration": 10,
    "start_time": "2024-04-12T09:28:46.248Z"
   },
   {
    "duration": 14,
    "start_time": "2024-04-12T09:28:46.260Z"
   },
   {
    "duration": 79,
    "start_time": "2024-04-12T09:28:46.279Z"
   },
   {
    "duration": 3,
    "start_time": "2024-04-12T09:28:46.360Z"
   },
   {
    "duration": 22,
    "start_time": "2024-04-12T09:28:46.364Z"
   },
   {
    "duration": 13,
    "start_time": "2024-04-12T09:28:46.387Z"
   },
   {
    "duration": 29,
    "start_time": "2024-04-12T09:28:46.402Z"
   },
   {
    "duration": 31,
    "start_time": "2024-04-12T09:28:46.432Z"
   },
   {
    "duration": 37,
    "start_time": "2024-04-12T09:28:46.464Z"
   },
   {
    "duration": 49,
    "start_time": "2024-04-12T09:28:46.503Z"
   },
   {
    "duration": 3,
    "start_time": "2024-04-12T10:51:21.623Z"
   },
   {
    "duration": 28,
    "start_time": "2024-04-12T10:51:21.641Z"
   },
   {
    "duration": 32,
    "start_time": "2024-04-12T10:51:21.672Z"
   },
   {
    "duration": 15,
    "start_time": "2024-04-12T10:51:21.705Z"
   },
   {
    "duration": 16,
    "start_time": "2024-04-12T10:51:21.721Z"
   },
   {
    "duration": 12,
    "start_time": "2024-04-12T10:51:21.739Z"
   },
   {
    "duration": 12,
    "start_time": "2024-04-12T10:51:21.753Z"
   },
   {
    "duration": 21,
    "start_time": "2024-04-12T10:51:21.767Z"
   },
   {
    "duration": 7,
    "start_time": "2024-04-12T10:51:21.789Z"
   },
   {
    "duration": 33,
    "start_time": "2024-04-12T10:51:21.797Z"
   },
   {
    "duration": 6,
    "start_time": "2024-04-12T10:51:21.831Z"
   },
   {
    "duration": 7,
    "start_time": "2024-04-12T10:51:21.839Z"
   },
   {
    "duration": 6,
    "start_time": "2024-04-12T10:51:21.847Z"
   },
   {
    "duration": 20,
    "start_time": "2024-04-12T10:51:21.854Z"
   },
   {
    "duration": 6,
    "start_time": "2024-04-12T10:51:21.877Z"
   },
   {
    "duration": 9,
    "start_time": "2024-04-12T10:51:21.884Z"
   },
   {
    "duration": 9,
    "start_time": "2024-04-12T10:51:21.895Z"
   },
   {
    "duration": 3,
    "start_time": "2024-04-12T10:51:21.906Z"
   },
   {
    "duration": 207,
    "start_time": "2024-04-12T10:51:21.911Z"
   },
   {
    "duration": 6,
    "start_time": "2024-04-12T10:51:22.120Z"
   },
   {
    "duration": 180,
    "start_time": "2024-04-12T10:51:22.127Z"
   },
   {
    "duration": 164,
    "start_time": "2024-04-12T10:51:22.309Z"
   },
   {
    "duration": 4,
    "start_time": "2024-04-12T10:51:22.475Z"
   },
   {
    "duration": 7,
    "start_time": "2024-04-12T10:51:22.480Z"
   },
   {
    "duration": 197,
    "start_time": "2024-04-12T10:51:22.489Z"
   },
   {
    "duration": 200,
    "start_time": "2024-04-12T10:51:22.688Z"
   },
   {
    "duration": 14,
    "start_time": "2024-04-12T10:51:22.890Z"
   },
   {
    "duration": 17,
    "start_time": "2024-04-12T10:51:22.906Z"
   },
   {
    "duration": 12,
    "start_time": "2024-04-12T10:51:22.924Z"
   },
   {
    "duration": 27,
    "start_time": "2024-04-12T10:51:22.938Z"
   },
   {
    "duration": 11,
    "start_time": "2024-04-12T10:51:22.967Z"
   },
   {
    "duration": 14,
    "start_time": "2024-04-12T10:51:22.980Z"
   },
   {
    "duration": 18,
    "start_time": "2024-04-12T10:51:22.995Z"
   },
   {
    "duration": 338,
    "start_time": "2024-04-12T10:51:23.015Z"
   },
   {
    "duration": 218,
    "start_time": "2024-04-12T10:51:23.359Z"
   },
   {
    "duration": 2,
    "start_time": "2024-04-12T10:51:23.579Z"
   },
   {
    "duration": 7,
    "start_time": "2024-04-12T10:51:23.583Z"
   },
   {
    "duration": 43,
    "start_time": "2024-04-12T10:51:23.591Z"
   },
   {
    "duration": 3,
    "start_time": "2024-04-12T10:51:23.635Z"
   },
   {
    "duration": 21,
    "start_time": "2024-04-12T10:51:23.639Z"
   },
   {
    "duration": 4,
    "start_time": "2024-04-12T10:51:23.662Z"
   },
   {
    "duration": 15,
    "start_time": "2024-04-12T10:51:23.669Z"
   },
   {
    "duration": 6,
    "start_time": "2024-04-12T10:51:23.685Z"
   },
   {
    "duration": 9,
    "start_time": "2024-04-12T10:51:23.692Z"
   },
   {
    "duration": 23,
    "start_time": "2024-04-12T10:51:23.703Z"
   },
   {
    "duration": 412,
    "start_time": "2024-04-12T10:52:18.763Z"
   },
   {
    "duration": 28,
    "start_time": "2024-04-12T10:52:19.177Z"
   },
   {
    "duration": 33,
    "start_time": "2024-04-12T10:52:19.207Z"
   },
   {
    "duration": 15,
    "start_time": "2024-04-12T10:52:19.241Z"
   },
   {
    "duration": 18,
    "start_time": "2024-04-12T10:52:19.257Z"
   },
   {
    "duration": 31,
    "start_time": "2024-04-12T10:52:19.277Z"
   },
   {
    "duration": 29,
    "start_time": "2024-04-12T10:52:19.309Z"
   },
   {
    "duration": 13,
    "start_time": "2024-04-12T10:52:19.339Z"
   },
   {
    "duration": 7,
    "start_time": "2024-04-12T10:52:19.353Z"
   },
   {
    "duration": 13,
    "start_time": "2024-04-12T10:52:19.363Z"
   },
   {
    "duration": 10,
    "start_time": "2024-04-12T10:52:19.378Z"
   },
   {
    "duration": 6,
    "start_time": "2024-04-12T10:52:19.390Z"
   },
   {
    "duration": 12,
    "start_time": "2024-04-12T10:52:19.398Z"
   },
   {
    "duration": 6,
    "start_time": "2024-04-12T10:52:19.411Z"
   },
   {
    "duration": 6,
    "start_time": "2024-04-12T10:52:19.418Z"
   },
   {
    "duration": 7,
    "start_time": "2024-04-12T10:52:19.425Z"
   },
   {
    "duration": 8,
    "start_time": "2024-04-12T10:52:19.433Z"
   },
   {
    "duration": 255,
    "start_time": "2024-04-12T10:52:19.442Z"
   },
   {
    "duration": 195,
    "start_time": "2024-04-12T10:52:19.699Z"
   },
   {
    "duration": 6,
    "start_time": "2024-04-12T10:52:19.896Z"
   },
   {
    "duration": 161,
    "start_time": "2024-04-12T10:52:19.903Z"
   },
   {
    "duration": 185,
    "start_time": "2024-04-12T10:52:20.065Z"
   },
   {
    "duration": 4,
    "start_time": "2024-04-12T10:52:20.251Z"
   },
   {
    "duration": 10,
    "start_time": "2024-04-12T10:52:20.259Z"
   },
   {
    "duration": 196,
    "start_time": "2024-04-12T10:52:20.271Z"
   },
   {
    "duration": 254,
    "start_time": "2024-04-12T10:52:20.469Z"
   },
   {
    "duration": 14,
    "start_time": "2024-04-12T10:52:20.725Z"
   },
   {
    "duration": 28,
    "start_time": "2024-04-12T10:52:20.742Z"
   },
   {
    "duration": 11,
    "start_time": "2024-04-12T10:52:20.771Z"
   },
   {
    "duration": 15,
    "start_time": "2024-04-12T10:52:20.784Z"
   },
   {
    "duration": 19,
    "start_time": "2024-04-12T10:52:20.801Z"
   },
   {
    "duration": 10,
    "start_time": "2024-04-12T10:52:20.822Z"
   },
   {
    "duration": 25,
    "start_time": "2024-04-12T10:52:20.834Z"
   },
   {
    "duration": 251,
    "start_time": "2024-04-12T10:52:20.860Z"
   },
   {
    "duration": 206,
    "start_time": "2024-04-12T10:52:21.113Z"
   },
   {
    "duration": 3,
    "start_time": "2024-04-12T10:52:21.320Z"
   },
   {
    "duration": 18,
    "start_time": "2024-04-12T10:52:21.324Z"
   },
   {
    "duration": 49,
    "start_time": "2024-04-12T10:52:21.343Z"
   },
   {
    "duration": 3,
    "start_time": "2024-04-12T10:52:21.394Z"
   },
   {
    "duration": 26,
    "start_time": "2024-04-12T10:52:21.399Z"
   },
   {
    "duration": 30,
    "start_time": "2024-04-12T10:52:21.427Z"
   },
   {
    "duration": 16,
    "start_time": "2024-04-12T10:52:21.458Z"
   },
   {
    "duration": 28,
    "start_time": "2024-04-12T10:52:21.475Z"
   },
   {
    "duration": 31,
    "start_time": "2024-04-12T10:52:21.505Z"
   },
   {
    "duration": 45,
    "start_time": "2024-04-12T10:52:21.537Z"
   },
   {
    "duration": 453,
    "start_time": "2024-04-12T11:06:00.205Z"
   },
   {
    "duration": 111,
    "start_time": "2024-04-12T11:10:37.378Z"
   },
   {
    "duration": 12,
    "start_time": "2024-04-12T11:10:59.297Z"
   },
   {
    "duration": 12,
    "start_time": "2024-04-12T11:11:12.535Z"
   },
   {
    "duration": 0,
    "start_time": "2024-04-12T11:12:17.590Z"
   },
   {
    "duration": 0,
    "start_time": "2024-04-12T11:12:17.591Z"
   },
   {
    "duration": 392,
    "start_time": "2024-04-12T11:12:32.861Z"
   },
   {
    "duration": 27,
    "start_time": "2024-04-12T11:12:33.255Z"
   },
   {
    "duration": 31,
    "start_time": "2024-04-12T11:12:33.283Z"
   },
   {
    "duration": 16,
    "start_time": "2024-04-12T11:12:33.316Z"
   },
   {
    "duration": 13,
    "start_time": "2024-04-12T11:12:33.334Z"
   },
   {
    "duration": 11,
    "start_time": "2024-04-12T11:12:33.348Z"
   },
   {
    "duration": 9,
    "start_time": "2024-04-12T11:12:33.360Z"
   },
   {
    "duration": 10,
    "start_time": "2024-04-12T11:12:33.371Z"
   },
   {
    "duration": 5,
    "start_time": "2024-04-12T11:12:33.382Z"
   },
   {
    "duration": 9,
    "start_time": "2024-04-12T11:12:33.390Z"
   },
   {
    "duration": 13,
    "start_time": "2024-04-12T11:12:33.400Z"
   },
   {
    "duration": 10,
    "start_time": "2024-04-12T11:12:33.414Z"
   },
   {
    "duration": 6,
    "start_time": "2024-04-12T11:12:33.425Z"
   },
   {
    "duration": 26,
    "start_time": "2024-04-12T11:12:33.433Z"
   },
   {
    "duration": 6,
    "start_time": "2024-04-12T11:12:33.460Z"
   },
   {
    "duration": 4,
    "start_time": "2024-04-12T11:12:33.468Z"
   },
   {
    "duration": 14,
    "start_time": "2024-04-12T11:12:33.474Z"
   },
   {
    "duration": 266,
    "start_time": "2024-04-12T11:12:33.490Z"
   },
   {
    "duration": 188,
    "start_time": "2024-04-12T11:12:33.758Z"
   },
   {
    "duration": 12,
    "start_time": "2024-04-12T11:12:33.947Z"
   },
   {
    "duration": 169,
    "start_time": "2024-04-12T11:12:33.961Z"
   },
   {
    "duration": 182,
    "start_time": "2024-04-12T11:12:34.132Z"
   },
   {
    "duration": 5,
    "start_time": "2024-04-12T11:12:34.315Z"
   },
   {
    "duration": 6,
    "start_time": "2024-04-12T11:12:34.321Z"
   },
   {
    "duration": 205,
    "start_time": "2024-04-12T11:12:34.328Z"
   },
   {
    "duration": 250,
    "start_time": "2024-04-12T11:12:34.534Z"
   },
   {
    "duration": 14,
    "start_time": "2024-04-12T11:12:34.785Z"
   },
   {
    "duration": 14,
    "start_time": "2024-04-12T11:12:34.802Z"
   },
   {
    "duration": 11,
    "start_time": "2024-04-12T11:12:34.817Z"
   },
   {
    "duration": 30,
    "start_time": "2024-04-12T11:12:34.829Z"
   },
   {
    "duration": 12,
    "start_time": "2024-04-12T11:12:34.861Z"
   },
   {
    "duration": 6,
    "start_time": "2024-04-12T11:12:34.874Z"
   },
   {
    "duration": 10,
    "start_time": "2024-04-12T11:12:34.882Z"
   },
   {
    "duration": 250,
    "start_time": "2024-04-12T11:12:34.893Z"
   },
   {
    "duration": 183,
    "start_time": "2024-04-12T11:12:35.145Z"
   },
   {
    "duration": 2,
    "start_time": "2024-04-12T11:12:35.330Z"
   },
   {
    "duration": 4,
    "start_time": "2024-04-12T11:12:35.334Z"
   },
   {
    "duration": 48,
    "start_time": "2024-04-12T11:12:35.339Z"
   },
   {
    "duration": 3,
    "start_time": "2024-04-12T11:12:35.388Z"
   },
   {
    "duration": 15,
    "start_time": "2024-04-12T11:12:35.392Z"
   },
   {
    "duration": 6,
    "start_time": "2024-04-12T11:12:35.408Z"
   },
   {
    "duration": 11,
    "start_time": "2024-04-12T11:12:35.416Z"
   },
   {
    "duration": 6,
    "start_time": "2024-04-12T11:12:35.428Z"
   },
   {
    "duration": 26,
    "start_time": "2024-04-12T11:12:35.435Z"
   },
   {
    "duration": 24,
    "start_time": "2024-04-12T11:12:35.463Z"
   },
   {
    "duration": 381,
    "start_time": "2024-04-12T11:12:35.488Z"
   },
   {
    "duration": 32285,
    "start_time": "2024-04-12T11:12:35.870Z"
   },
   {
    "duration": 2,
    "start_time": "2024-04-12T11:13:08.158Z"
   },
   {
    "duration": 32493,
    "start_time": "2024-04-12T11:13:59.537Z"
   },
   {
    "duration": 46,
    "start_time": "2024-04-12T11:14:32.037Z"
   },
   {
    "duration": 100,
    "start_time": "2024-04-12T11:26:40.132Z"
   },
   {
    "duration": 2,
    "start_time": "2024-04-12T11:27:05.867Z"
   },
   {
    "duration": 6,
    "start_time": "2024-04-12T11:27:08.473Z"
   },
   {
    "duration": 7,
    "start_time": "2024-04-12T11:51:58.390Z"
   },
   {
    "duration": 6,
    "start_time": "2024-04-12T11:52:39.432Z"
   },
   {
    "duration": 6,
    "start_time": "2024-04-12T11:53:44.743Z"
   },
   {
    "duration": 6,
    "start_time": "2024-04-12T11:53:50.801Z"
   },
   {
    "duration": 379,
    "start_time": "2024-04-12T12:37:21.898Z"
   },
   {
    "duration": 27,
    "start_time": "2024-04-12T12:37:22.279Z"
   },
   {
    "duration": 37,
    "start_time": "2024-04-12T12:37:22.308Z"
   },
   {
    "duration": 14,
    "start_time": "2024-04-12T12:37:22.347Z"
   },
   {
    "duration": 37,
    "start_time": "2024-04-12T12:37:22.363Z"
   },
   {
    "duration": 31,
    "start_time": "2024-04-12T12:37:22.402Z"
   },
   {
    "duration": 26,
    "start_time": "2024-04-12T12:37:22.435Z"
   },
   {
    "duration": 40,
    "start_time": "2024-04-12T12:37:22.463Z"
   },
   {
    "duration": 19,
    "start_time": "2024-04-12T12:37:22.505Z"
   },
   {
    "duration": 71,
    "start_time": "2024-04-12T12:37:22.527Z"
   },
   {
    "duration": 17,
    "start_time": "2024-04-12T12:37:22.600Z"
   },
   {
    "duration": 13,
    "start_time": "2024-04-12T12:37:22.619Z"
   },
   {
    "duration": 9,
    "start_time": "2024-04-12T12:37:22.634Z"
   },
   {
    "duration": 16,
    "start_time": "2024-04-12T12:37:22.644Z"
   },
   {
    "duration": 9,
    "start_time": "2024-04-12T12:37:22.661Z"
   },
   {
    "duration": 17,
    "start_time": "2024-04-12T12:37:22.671Z"
   },
   {
    "duration": 15,
    "start_time": "2024-04-12T12:37:22.690Z"
   },
   {
    "duration": 244,
    "start_time": "2024-04-12T12:37:22.706Z"
   },
   {
    "duration": 184,
    "start_time": "2024-04-12T12:37:22.951Z"
   },
   {
    "duration": 6,
    "start_time": "2024-04-12T12:37:23.137Z"
   },
   {
    "duration": 150,
    "start_time": "2024-04-12T12:37:23.144Z"
   },
   {
    "duration": 171,
    "start_time": "2024-04-12T12:37:23.295Z"
   },
   {
    "duration": 4,
    "start_time": "2024-04-12T12:37:23.467Z"
   },
   {
    "duration": 36,
    "start_time": "2024-04-12T12:37:23.473Z"
   },
   {
    "duration": 187,
    "start_time": "2024-04-12T12:37:23.511Z"
   },
   {
    "duration": 274,
    "start_time": "2024-04-12T12:37:23.700Z"
   },
   {
    "duration": 14,
    "start_time": "2024-04-12T12:37:23.977Z"
   },
   {
    "duration": 13,
    "start_time": "2024-04-12T12:37:23.994Z"
   },
   {
    "duration": 11,
    "start_time": "2024-04-12T12:37:24.008Z"
   },
   {
    "duration": 10,
    "start_time": "2024-04-12T12:37:24.021Z"
   },
   {
    "duration": 31,
    "start_time": "2024-04-12T12:37:24.033Z"
   },
   {
    "duration": 16,
    "start_time": "2024-04-12T12:37:24.065Z"
   },
   {
    "duration": 20,
    "start_time": "2024-04-12T12:37:24.082Z"
   },
   {
    "duration": 223,
    "start_time": "2024-04-12T12:37:24.104Z"
   },
   {
    "duration": 190,
    "start_time": "2024-04-12T12:37:24.329Z"
   },
   {
    "duration": 3,
    "start_time": "2024-04-12T12:37:24.521Z"
   },
   {
    "duration": 18,
    "start_time": "2024-04-12T12:37:24.526Z"
   },
   {
    "duration": 43,
    "start_time": "2024-04-12T12:37:24.545Z"
   },
   {
    "duration": 3,
    "start_time": "2024-04-12T12:37:24.590Z"
   },
   {
    "duration": 25,
    "start_time": "2024-04-12T12:37:24.595Z"
   },
   {
    "duration": 18,
    "start_time": "2024-04-12T12:37:24.622Z"
   },
   {
    "duration": 23,
    "start_time": "2024-04-12T12:37:24.642Z"
   },
   {
    "duration": 6,
    "start_time": "2024-04-12T12:37:24.666Z"
   },
   {
    "duration": 25,
    "start_time": "2024-04-12T12:37:24.673Z"
   },
   {
    "duration": 29,
    "start_time": "2024-04-12T12:37:24.700Z"
   },
   {
    "duration": 362,
    "start_time": "2024-04-12T12:37:29.700Z"
   },
   {
    "duration": 5,
    "start_time": "2024-04-12T12:37:37.662Z"
   },
   {
    "duration": 424,
    "start_time": "2024-04-12T12:39:46.640Z"
   },
   {
    "duration": 27,
    "start_time": "2024-04-12T12:39:47.066Z"
   },
   {
    "duration": 32,
    "start_time": "2024-04-12T12:39:47.094Z"
   },
   {
    "duration": 14,
    "start_time": "2024-04-12T12:39:47.127Z"
   },
   {
    "duration": 14,
    "start_time": "2024-04-12T12:39:47.143Z"
   },
   {
    "duration": 10,
    "start_time": "2024-04-12T12:39:47.158Z"
   },
   {
    "duration": 10,
    "start_time": "2024-04-12T12:39:47.169Z"
   },
   {
    "duration": 10,
    "start_time": "2024-04-12T12:39:47.181Z"
   },
   {
    "duration": 11,
    "start_time": "2024-04-12T12:39:47.192Z"
   },
   {
    "duration": 15,
    "start_time": "2024-04-12T12:39:47.206Z"
   },
   {
    "duration": 7,
    "start_time": "2024-04-12T12:39:47.223Z"
   },
   {
    "duration": 12,
    "start_time": "2024-04-12T12:39:47.232Z"
   },
   {
    "duration": 16,
    "start_time": "2024-04-12T12:39:47.245Z"
   },
   {
    "duration": 5,
    "start_time": "2024-04-12T12:39:47.263Z"
   },
   {
    "duration": 11,
    "start_time": "2024-04-12T12:39:47.270Z"
   },
   {
    "duration": 8,
    "start_time": "2024-04-12T12:39:47.282Z"
   },
   {
    "duration": 8,
    "start_time": "2024-04-12T12:39:47.291Z"
   },
   {
    "duration": 232,
    "start_time": "2024-04-12T12:39:47.300Z"
   },
   {
    "duration": 190,
    "start_time": "2024-04-12T12:39:47.533Z"
   },
   {
    "duration": 6,
    "start_time": "2024-04-12T12:39:47.724Z"
   },
   {
    "duration": 153,
    "start_time": "2024-04-12T12:39:47.732Z"
   },
   {
    "duration": 175,
    "start_time": "2024-04-12T12:39:47.886Z"
   },
   {
    "duration": 4,
    "start_time": "2024-04-12T12:39:48.063Z"
   },
   {
    "duration": 18,
    "start_time": "2024-04-12T12:39:48.068Z"
   },
   {
    "duration": 203,
    "start_time": "2024-04-12T12:39:48.088Z"
   },
   {
    "duration": 254,
    "start_time": "2024-04-12T12:39:48.293Z"
   },
   {
    "duration": 23,
    "start_time": "2024-04-12T12:39:48.548Z"
   },
   {
    "duration": 13,
    "start_time": "2024-04-12T12:39:48.575Z"
   },
   {
    "duration": 12,
    "start_time": "2024-04-12T12:39:48.590Z"
   },
   {
    "duration": 11,
    "start_time": "2024-04-12T12:39:48.604Z"
   },
   {
    "duration": 12,
    "start_time": "2024-04-12T12:39:48.617Z"
   },
   {
    "duration": 33,
    "start_time": "2024-04-12T12:39:48.630Z"
   },
   {
    "duration": 11,
    "start_time": "2024-04-12T12:39:48.664Z"
   },
   {
    "duration": 243,
    "start_time": "2024-04-12T12:39:48.676Z"
   },
   {
    "duration": 190,
    "start_time": "2024-04-12T12:39:48.921Z"
   },
   {
    "duration": 2,
    "start_time": "2024-04-12T12:39:49.113Z"
   },
   {
    "duration": 8,
    "start_time": "2024-04-12T12:39:49.116Z"
   },
   {
    "duration": 47,
    "start_time": "2024-04-12T12:39:49.125Z"
   },
   {
    "duration": 3,
    "start_time": "2024-04-12T12:39:49.174Z"
   },
   {
    "duration": 21,
    "start_time": "2024-04-12T12:39:49.178Z"
   },
   {
    "duration": 13,
    "start_time": "2024-04-12T12:39:49.200Z"
   },
   {
    "duration": 14,
    "start_time": "2024-04-12T12:39:49.215Z"
   },
   {
    "duration": 9,
    "start_time": "2024-04-12T12:39:49.231Z"
   },
   {
    "duration": 9,
    "start_time": "2024-04-12T12:39:49.241Z"
   },
   {
    "duration": 28,
    "start_time": "2024-04-12T12:39:49.252Z"
   },
   {
    "duration": 104954,
    "start_time": "2024-04-12T16:24:50.979Z"
   },
   {
    "duration": 21,
    "start_time": "2024-04-12T16:32:50.403Z"
   },
   {
    "duration": 79,
    "start_time": "2024-04-12T17:13:29.232Z"
   },
   {
    "duration": 11,
    "start_time": "2024-04-12T17:13:40.324Z"
   },
   {
    "duration": 12,
    "start_time": "2024-04-12T17:15:14.835Z"
   },
   {
    "duration": 32569,
    "start_time": "2024-04-12T17:16:18.512Z"
   },
   {
    "duration": 387,
    "start_time": "2024-04-12T17:22:39.381Z"
   },
   {
    "duration": 28,
    "start_time": "2024-04-12T17:22:39.769Z"
   },
   {
    "duration": 31,
    "start_time": "2024-04-12T17:22:39.798Z"
   },
   {
    "duration": 14,
    "start_time": "2024-04-12T17:22:39.831Z"
   },
   {
    "duration": 13,
    "start_time": "2024-04-12T17:22:39.846Z"
   },
   {
    "duration": 11,
    "start_time": "2024-04-12T17:22:39.860Z"
   },
   {
    "duration": 8,
    "start_time": "2024-04-12T17:22:39.872Z"
   },
   {
    "duration": 10,
    "start_time": "2024-04-12T17:22:39.882Z"
   },
   {
    "duration": 6,
    "start_time": "2024-04-12T17:22:39.893Z"
   },
   {
    "duration": 11,
    "start_time": "2024-04-12T17:22:39.901Z"
   },
   {
    "duration": 5,
    "start_time": "2024-04-12T17:22:39.914Z"
   },
   {
    "duration": 44,
    "start_time": "2024-04-12T17:22:39.920Z"
   },
   {
    "duration": 4,
    "start_time": "2024-04-12T17:22:39.966Z"
   },
   {
    "duration": 4,
    "start_time": "2024-04-12T17:22:39.972Z"
   },
   {
    "duration": 6,
    "start_time": "2024-04-12T17:22:39.978Z"
   },
   {
    "duration": 4,
    "start_time": "2024-04-12T17:22:39.986Z"
   },
   {
    "duration": 8,
    "start_time": "2024-04-12T17:22:39.991Z"
   },
   {
    "duration": 295,
    "start_time": "2024-04-12T17:22:40.000Z"
   },
   {
    "duration": 188,
    "start_time": "2024-04-12T17:22:40.297Z"
   },
   {
    "duration": 6,
    "start_time": "2024-04-12T17:22:40.487Z"
   },
   {
    "duration": 165,
    "start_time": "2024-04-12T17:22:40.494Z"
   },
   {
    "duration": 168,
    "start_time": "2024-04-12T17:22:40.660Z"
   },
   {
    "duration": 4,
    "start_time": "2024-04-12T17:22:40.830Z"
   },
   {
    "duration": 7,
    "start_time": "2024-04-12T17:22:40.835Z"
   },
   {
    "duration": 201,
    "start_time": "2024-04-12T17:22:40.843Z"
   },
   {
    "duration": 286,
    "start_time": "2024-04-12T17:22:41.045Z"
   },
   {
    "duration": 14,
    "start_time": "2024-04-12T17:22:41.333Z"
   },
   {
    "duration": 14,
    "start_time": "2024-04-12T17:22:41.358Z"
   },
   {
    "duration": 11,
    "start_time": "2024-04-12T17:22:41.374Z"
   },
   {
    "duration": 16,
    "start_time": "2024-04-12T17:22:41.386Z"
   },
   {
    "duration": 12,
    "start_time": "2024-04-12T17:22:41.403Z"
   },
   {
    "duration": 8,
    "start_time": "2024-04-12T17:22:41.416Z"
   },
   {
    "duration": 37,
    "start_time": "2024-04-12T17:22:41.425Z"
   },
   {
    "duration": 252,
    "start_time": "2024-04-12T17:22:41.463Z"
   },
   {
    "duration": 183,
    "start_time": "2024-04-12T17:22:41.716Z"
   },
   {
    "duration": 3,
    "start_time": "2024-04-12T17:22:41.900Z"
   },
   {
    "duration": 6,
    "start_time": "2024-04-12T17:22:41.904Z"
   },
   {
    "duration": 48,
    "start_time": "2024-04-12T17:22:41.911Z"
   },
   {
    "duration": 4,
    "start_time": "2024-04-12T17:22:41.960Z"
   },
   {
    "duration": 7,
    "start_time": "2024-04-12T17:22:41.965Z"
   },
   {
    "duration": 4,
    "start_time": "2024-04-12T17:22:41.974Z"
   },
   {
    "duration": 12,
    "start_time": "2024-04-12T17:22:41.980Z"
   },
   {
    "duration": 4,
    "start_time": "2024-04-12T17:22:41.993Z"
   },
   {
    "duration": 11,
    "start_time": "2024-04-12T17:22:41.998Z"
   },
   {
    "duration": 59,
    "start_time": "2024-04-12T17:22:42.011Z"
   },
   {
    "duration": 11,
    "start_time": "2024-04-12T17:22:51.773Z"
   },
   {
    "duration": 27,
    "start_time": "2024-04-12T17:22:54.328Z"
   },
   {
    "duration": 420,
    "start_time": "2024-04-12T17:23:01.451Z"
   },
   {
    "duration": 32347,
    "start_time": "2024-04-12T17:23:13.067Z"
   },
   {
    "duration": 131,
    "start_time": "2024-04-12T17:27:13.184Z"
   },
   {
    "duration": 124,
    "start_time": "2024-04-12T17:27:45.226Z"
   },
   {
    "duration": 7,
    "start_time": "2024-04-12T17:30:36.381Z"
   },
   {
    "duration": 5,
    "start_time": "2024-04-12T17:30:47.535Z"
   },
   {
    "duration": 120,
    "start_time": "2024-04-12T17:30:52.776Z"
   },
   {
    "duration": 124,
    "start_time": "2024-04-12T17:35:49.756Z"
   },
   {
    "duration": 134,
    "start_time": "2024-04-12T17:36:12.809Z"
   },
   {
    "duration": 142,
    "start_time": "2024-04-12T17:41:28.527Z"
   },
   {
    "duration": 7,
    "start_time": "2024-04-12T17:49:22.868Z"
   },
   {
    "duration": 7,
    "start_time": "2024-04-12T18:15:00.236Z"
   },
   {
    "duration": 6,
    "start_time": "2024-04-12T18:15:21.618Z"
   },
   {
    "duration": 5,
    "start_time": "2024-04-12T18:16:17.358Z"
   },
   {
    "duration": 4,
    "start_time": "2024-04-12T18:16:53.528Z"
   },
   {
    "duration": 5,
    "start_time": "2024-04-12T18:17:07.664Z"
   },
   {
    "duration": 5,
    "start_time": "2024-04-12T18:17:11.914Z"
   },
   {
    "duration": 5,
    "start_time": "2024-04-12T18:17:16.523Z"
   },
   {
    "duration": 5,
    "start_time": "2024-04-12T18:17:20.180Z"
   },
   {
    "duration": 5,
    "start_time": "2024-04-12T18:17:28.995Z"
   },
   {
    "duration": 6,
    "start_time": "2024-04-12T18:17:56.934Z"
   },
   {
    "duration": 6,
    "start_time": "2024-04-12T18:18:19.847Z"
   },
   {
    "duration": 5,
    "start_time": "2024-04-12T18:18:24.588Z"
   },
   {
    "duration": 5,
    "start_time": "2024-04-12T18:18:36.084Z"
   },
   {
    "duration": 6,
    "start_time": "2024-04-12T18:18:47.940Z"
   },
   {
    "duration": 6,
    "start_time": "2024-04-12T18:18:52.572Z"
   },
   {
    "duration": 5,
    "start_time": "2024-04-12T18:18:57.070Z"
   },
   {
    "duration": 5,
    "start_time": "2024-04-12T18:19:00.915Z"
   },
   {
    "duration": 5,
    "start_time": "2024-04-12T18:19:05.053Z"
   },
   {
    "duration": 5,
    "start_time": "2024-04-12T18:19:09.270Z"
   },
   {
    "duration": 5,
    "start_time": "2024-04-12T18:19:14.837Z"
   },
   {
    "duration": 6,
    "start_time": "2024-04-12T18:19:19.879Z"
   },
   {
    "duration": 5,
    "start_time": "2024-04-12T18:19:25.843Z"
   },
   {
    "duration": 6,
    "start_time": "2024-04-12T18:19:29.514Z"
   },
   {
    "duration": 7,
    "start_time": "2024-04-12T18:19:34.248Z"
   },
   {
    "duration": 6,
    "start_time": "2024-04-12T18:19:39.439Z"
   },
   {
    "duration": 5,
    "start_time": "2024-04-12T18:19:43.197Z"
   },
   {
    "duration": 5,
    "start_time": "2024-04-12T18:19:56.927Z"
   },
   {
    "duration": 5,
    "start_time": "2024-04-12T18:20:00.814Z"
   },
   {
    "duration": 5,
    "start_time": "2024-04-12T18:20:04.452Z"
   },
   {
    "duration": 5,
    "start_time": "2024-04-12T18:20:07.432Z"
   },
   {
    "duration": 5,
    "start_time": "2024-04-12T18:20:11.381Z"
   },
   {
    "duration": 5,
    "start_time": "2024-04-12T18:20:15.595Z"
   },
   {
    "duration": 5,
    "start_time": "2024-04-12T18:22:08.644Z"
   },
   {
    "duration": 469,
    "start_time": "2024-04-13T11:55:30.783Z"
   },
   {
    "duration": 101,
    "start_time": "2024-04-13T11:55:31.254Z"
   },
   {
    "duration": 305,
    "start_time": "2024-04-13T11:55:31.357Z"
   },
   {
    "duration": 67,
    "start_time": "2024-04-13T11:55:31.665Z"
   },
   {
    "duration": 33,
    "start_time": "2024-04-13T11:55:31.733Z"
   },
   {
    "duration": 48,
    "start_time": "2024-04-13T11:55:31.768Z"
   },
   {
    "duration": 30,
    "start_time": "2024-04-13T11:55:31.818Z"
   },
   {
    "duration": 98,
    "start_time": "2024-04-13T11:55:31.849Z"
   },
   {
    "duration": 77,
    "start_time": "2024-04-13T11:55:31.951Z"
   },
   {
    "duration": 42,
    "start_time": "2024-04-13T11:55:32.031Z"
   },
   {
    "duration": 45,
    "start_time": "2024-04-13T11:55:32.075Z"
   },
   {
    "duration": 55,
    "start_time": "2024-04-13T11:55:32.121Z"
   },
   {
    "duration": 61,
    "start_time": "2024-04-13T11:55:32.178Z"
   },
   {
    "duration": 74,
    "start_time": "2024-04-13T11:55:32.241Z"
   },
   {
    "duration": 177,
    "start_time": "2024-04-13T11:55:32.318Z"
   },
   {
    "duration": 203,
    "start_time": "2024-04-13T11:55:32.497Z"
   },
   {
    "duration": 38,
    "start_time": "2024-04-13T11:55:32.702Z"
   },
   {
    "duration": 474,
    "start_time": "2024-04-13T11:55:32.742Z"
   },
   {
    "duration": 228,
    "start_time": "2024-04-13T11:55:33.218Z"
   },
   {
    "duration": 7,
    "start_time": "2024-04-13T11:55:33.447Z"
   },
   {
    "duration": 194,
    "start_time": "2024-04-13T11:55:33.456Z"
   },
   {
    "duration": 206,
    "start_time": "2024-04-13T11:55:33.652Z"
   },
   {
    "duration": 5,
    "start_time": "2024-04-13T11:55:33.859Z"
   },
   {
    "duration": 13,
    "start_time": "2024-04-13T11:55:33.865Z"
   },
   {
    "duration": 282,
    "start_time": "2024-04-13T11:55:33.880Z"
   },
   {
    "duration": 228,
    "start_time": "2024-04-13T11:55:34.164Z"
   },
   {
    "duration": 16,
    "start_time": "2024-04-13T11:55:34.394Z"
   },
   {
    "duration": 16,
    "start_time": "2024-04-13T11:55:34.414Z"
   },
   {
    "duration": 12,
    "start_time": "2024-04-13T11:55:34.431Z"
   },
   {
    "duration": 22,
    "start_time": "2024-04-13T11:55:34.445Z"
   },
   {
    "duration": 29,
    "start_time": "2024-04-13T11:55:34.469Z"
   },
   {
    "duration": 9,
    "start_time": "2024-04-13T11:55:34.500Z"
   },
   {
    "duration": 12,
    "start_time": "2024-04-13T11:55:34.510Z"
   },
   {
    "duration": 288,
    "start_time": "2024-04-13T11:55:34.524Z"
   },
   {
    "duration": 240,
    "start_time": "2024-04-13T11:55:34.814Z"
   },
   {
    "duration": 2,
    "start_time": "2024-04-13T11:55:35.056Z"
   },
   {
    "duration": 45,
    "start_time": "2024-04-13T11:55:35.059Z"
   },
   {
    "duration": 74,
    "start_time": "2024-04-13T11:55:35.105Z"
   },
   {
    "duration": 3,
    "start_time": "2024-04-13T11:55:35.181Z"
   },
   {
    "duration": 24,
    "start_time": "2024-04-13T11:55:35.185Z"
   },
   {
    "duration": 27,
    "start_time": "2024-04-13T11:55:35.211Z"
   },
   {
    "duration": 19,
    "start_time": "2024-04-13T11:55:35.240Z"
   },
   {
    "duration": 12,
    "start_time": "2024-04-13T11:55:35.261Z"
   },
   {
    "duration": 11,
    "start_time": "2024-04-13T11:55:35.275Z"
   },
   {
    "duration": 30,
    "start_time": "2024-04-13T11:55:35.287Z"
   },
   {
    "duration": 728,
    "start_time": "2024-04-13T11:56:25.936Z"
   },
   {
    "duration": 150,
    "start_time": "2024-04-13T15:14:45.866Z"
   },
   {
    "duration": 163,
    "start_time": "2024-04-13T15:14:56.224Z"
   },
   {
    "duration": 141,
    "start_time": "2024-04-13T15:16:06.237Z"
   },
   {
    "duration": 151,
    "start_time": "2024-04-13T15:16:35.833Z"
   },
   {
    "duration": 147,
    "start_time": "2024-04-13T15:18:35.061Z"
   },
   {
    "duration": 148,
    "start_time": "2024-04-13T15:21:52.681Z"
   },
   {
    "duration": 141,
    "start_time": "2024-04-13T15:22:50.617Z"
   },
   {
    "duration": 143,
    "start_time": "2024-04-13T15:23:02.705Z"
   },
   {
    "duration": 161,
    "start_time": "2024-04-13T15:23:11.838Z"
   },
   {
    "duration": 150,
    "start_time": "2024-04-13T15:23:16.506Z"
   },
   {
    "duration": 222,
    "start_time": "2024-04-13T15:23:23.019Z"
   },
   {
    "duration": 137,
    "start_time": "2024-04-13T15:23:30.567Z"
   },
   {
    "duration": 148,
    "start_time": "2024-04-13T15:23:35.978Z"
   },
   {
    "duration": 142,
    "start_time": "2024-04-13T15:23:53.196Z"
   },
   {
    "duration": 149,
    "start_time": "2024-04-13T15:33:35.815Z"
   },
   {
    "duration": 174,
    "start_time": "2024-04-13T15:33:46.013Z"
   },
   {
    "duration": 147,
    "start_time": "2024-04-13T15:33:52.557Z"
   },
   {
    "duration": 136,
    "start_time": "2024-04-13T15:34:04.338Z"
   },
   {
    "duration": 136,
    "start_time": "2024-04-13T15:34:37.345Z"
   },
   {
    "duration": 140,
    "start_time": "2024-04-13T15:34:44.280Z"
   },
   {
    "duration": 141,
    "start_time": "2024-04-13T15:35:22.096Z"
   },
   {
    "duration": 231,
    "start_time": "2024-04-13T15:35:58.406Z"
   },
   {
    "duration": 137,
    "start_time": "2024-04-13T15:36:19.067Z"
   },
   {
    "duration": 136,
    "start_time": "2024-04-13T15:36:26.405Z"
   },
   {
    "duration": 162,
    "start_time": "2024-04-13T15:36:39.897Z"
   },
   {
    "duration": 141,
    "start_time": "2024-04-13T15:38:52.839Z"
   },
   {
    "duration": 141,
    "start_time": "2024-04-13T15:39:07.861Z"
   },
   {
    "duration": 146,
    "start_time": "2024-04-13T15:39:25.191Z"
   },
   {
    "duration": 146,
    "start_time": "2024-04-13T15:39:31.798Z"
   },
   {
    "duration": 142,
    "start_time": "2024-04-13T15:39:36.971Z"
   },
   {
    "duration": 141,
    "start_time": "2024-04-13T15:39:42.734Z"
   },
   {
    "duration": 142,
    "start_time": "2024-04-13T15:40:19.811Z"
   },
   {
    "duration": 5,
    "start_time": "2024-04-13T15:41:41.903Z"
   },
   {
    "duration": 215,
    "start_time": "2024-04-13T15:41:51.559Z"
   },
   {
    "duration": 151,
    "start_time": "2024-04-13T15:42:05.669Z"
   },
   {
    "duration": 128,
    "start_time": "2024-04-13T15:42:26.301Z"
   },
   {
    "duration": 153,
    "start_time": "2024-04-13T16:22:36.574Z"
   },
   {
    "duration": 155,
    "start_time": "2024-04-13T16:26:27.394Z"
   },
   {
    "duration": 165,
    "start_time": "2024-04-13T16:27:01.226Z"
   },
   {
    "duration": 187,
    "start_time": "2024-04-13T16:27:45.006Z"
   },
   {
    "duration": 161,
    "start_time": "2024-04-13T16:27:52.212Z"
   },
   {
    "duration": 159,
    "start_time": "2024-04-13T16:28:00.628Z"
   },
   {
    "duration": 163,
    "start_time": "2024-04-13T17:02:06.212Z"
   },
   {
    "duration": 175,
    "start_time": "2024-04-13T17:02:15.616Z"
   },
   {
    "duration": 255,
    "start_time": "2024-04-13T17:49:33.197Z"
   },
   {
    "duration": 4,
    "start_time": "2024-04-13T18:24:54.584Z"
   },
   {
    "duration": 3,
    "start_time": "2024-04-13T18:24:57.327Z"
   },
   {
    "duration": 4,
    "start_time": "2024-04-13T18:25:10.521Z"
   },
   {
    "duration": 4,
    "start_time": "2024-04-13T18:26:00.381Z"
   },
   {
    "duration": 4,
    "start_time": "2024-04-13T18:26:03.375Z"
   },
   {
    "duration": 4,
    "start_time": "2024-04-13T18:26:21.831Z"
   },
   {
    "duration": 91,
    "start_time": "2024-04-13T18:26:30.922Z"
   },
   {
    "duration": 8828,
    "start_time": "2024-04-13T18:27:07.763Z"
   },
   {
    "duration": 5,
    "start_time": "2024-04-13T18:31:27.084Z"
   },
   {
    "duration": 5,
    "start_time": "2024-04-13T18:34:46.611Z"
   },
   {
    "duration": 84,
    "start_time": "2024-04-13T18:35:36.092Z"
   },
   {
    "duration": 81,
    "start_time": "2024-04-13T18:37:16.279Z"
   },
   {
    "duration": 79,
    "start_time": "2024-04-13T18:37:35.127Z"
   },
   {
    "duration": 85,
    "start_time": "2024-04-13T18:38:30.758Z"
   },
   {
    "duration": 85,
    "start_time": "2024-04-13T18:38:56.077Z"
   },
   {
    "duration": 98,
    "start_time": "2024-04-13T18:39:36.029Z"
   },
   {
    "duration": 89,
    "start_time": "2024-04-13T18:39:42.151Z"
   },
   {
    "duration": 78,
    "start_time": "2024-04-13T18:39:51.744Z"
   },
   {
    "duration": 177,
    "start_time": "2024-04-13T18:40:18.663Z"
   },
   {
    "duration": 84,
    "start_time": "2024-04-13T18:40:53.034Z"
   },
   {
    "duration": 164,
    "start_time": "2024-04-13T18:41:25.530Z"
   },
   {
    "duration": 5,
    "start_time": "2024-04-13T18:44:38.271Z"
   },
   {
    "duration": 4,
    "start_time": "2024-04-13T18:51:00.305Z"
   },
   {
    "duration": 4,
    "start_time": "2024-04-13T18:53:51.326Z"
   },
   {
    "duration": 4,
    "start_time": "2024-04-13T18:54:06.330Z"
   },
   {
    "duration": 4,
    "start_time": "2024-04-13T18:54:23.473Z"
   },
   {
    "duration": 4,
    "start_time": "2024-04-13T18:54:46.916Z"
   },
   {
    "duration": 5,
    "start_time": "2024-04-13T18:54:54.463Z"
   },
   {
    "duration": 6,
    "start_time": "2024-04-13T18:59:15.828Z"
   },
   {
    "duration": 6,
    "start_time": "2024-04-13T18:59:49.775Z"
   },
   {
    "duration": 6,
    "start_time": "2024-04-13T19:00:05.853Z"
   },
   {
    "duration": 5,
    "start_time": "2024-04-13T19:00:35.474Z"
   },
   {
    "duration": 5,
    "start_time": "2024-04-13T19:00:46.224Z"
   },
   {
    "duration": 6,
    "start_time": "2024-04-13T19:01:18.191Z"
   },
   {
    "duration": 7,
    "start_time": "2024-04-13T19:01:23.907Z"
   },
   {
    "duration": 6,
    "start_time": "2024-04-13T19:01:30.866Z"
   },
   {
    "duration": 7,
    "start_time": "2024-04-13T19:01:37.548Z"
   },
   {
    "duration": 5,
    "start_time": "2024-04-13T19:01:53.072Z"
   },
   {
    "duration": 7,
    "start_time": "2024-04-13T19:02:07.895Z"
   },
   {
    "duration": 7,
    "start_time": "2024-04-13T19:02:57.278Z"
   },
   {
    "duration": 6,
    "start_time": "2024-04-13T19:03:02.935Z"
   },
   {
    "duration": 6,
    "start_time": "2024-04-13T19:03:33.495Z"
   },
   {
    "duration": 6,
    "start_time": "2024-04-13T19:03:39.583Z"
   },
   {
    "duration": 7,
    "start_time": "2024-04-13T19:03:57.682Z"
   },
   {
    "duration": 120,
    "start_time": "2024-04-13T19:04:44.139Z"
   },
   {
    "duration": 81,
    "start_time": "2024-04-13T19:04:55.743Z"
   },
   {
    "duration": 94,
    "start_time": "2024-04-13T19:07:07.614Z"
   },
   {
    "duration": 7,
    "start_time": "2024-04-13T19:09:37.806Z"
   },
   {
    "duration": 6,
    "start_time": "2024-04-13T19:10:01.115Z"
   },
   {
    "duration": 172,
    "start_time": "2024-04-13T19:12:48.609Z"
   },
   {
    "duration": 77,
    "start_time": "2024-04-13T19:13:43.555Z"
   },
   {
    "duration": 6,
    "start_time": "2024-04-13T19:13:51.619Z"
   },
   {
    "duration": 6,
    "start_time": "2024-04-13T19:13:58.430Z"
   },
   {
    "duration": 6,
    "start_time": "2024-04-13T19:14:06.208Z"
   },
   {
    "duration": 6,
    "start_time": "2024-04-13T19:14:13.869Z"
   },
   {
    "duration": 7,
    "start_time": "2024-04-13T19:14:36.400Z"
   },
   {
    "duration": 4,
    "start_time": "2024-04-13T19:16:51.681Z"
   },
   {
    "duration": 4,
    "start_time": "2024-04-13T19:17:57.794Z"
   },
   {
    "duration": 438,
    "start_time": "2024-04-13T19:19:18.482Z"
   },
   {
    "duration": 28,
    "start_time": "2024-04-13T19:19:18.922Z"
   },
   {
    "duration": 33,
    "start_time": "2024-04-13T19:19:18.952Z"
   },
   {
    "duration": 15,
    "start_time": "2024-04-13T19:19:18.987Z"
   },
   {
    "duration": 58,
    "start_time": "2024-04-13T19:19:19.004Z"
   },
   {
    "duration": 33,
    "start_time": "2024-04-13T19:19:19.064Z"
   },
   {
    "duration": 32,
    "start_time": "2024-04-13T19:19:19.099Z"
   },
   {
    "duration": 21,
    "start_time": "2024-04-13T19:19:19.132Z"
   },
   {
    "duration": 8,
    "start_time": "2024-04-13T19:19:19.154Z"
   },
   {
    "duration": 17,
    "start_time": "2024-04-13T19:19:19.165Z"
   },
   {
    "duration": 18,
    "start_time": "2024-04-13T19:19:19.183Z"
   },
   {
    "duration": 7,
    "start_time": "2024-04-13T19:19:19.203Z"
   },
   {
    "duration": 21,
    "start_time": "2024-04-13T19:19:19.211Z"
   },
   {
    "duration": 13,
    "start_time": "2024-04-13T19:19:19.234Z"
   },
   {
    "duration": 5,
    "start_time": "2024-04-13T19:19:19.249Z"
   },
   {
    "duration": 7,
    "start_time": "2024-04-13T19:19:19.256Z"
   },
   {
    "duration": 10,
    "start_time": "2024-04-13T19:19:19.265Z"
   },
   {
    "duration": 262,
    "start_time": "2024-04-13T19:19:19.276Z"
   },
   {
    "duration": 215,
    "start_time": "2024-04-13T19:19:19.539Z"
   },
   {
    "duration": 9,
    "start_time": "2024-04-13T19:19:19.756Z"
   },
   {
    "duration": 203,
    "start_time": "2024-04-13T19:19:19.767Z"
   },
   {
    "duration": 195,
    "start_time": "2024-04-13T19:19:19.971Z"
   },
   {
    "duration": 4,
    "start_time": "2024-04-13T19:19:20.168Z"
   },
   {
    "duration": 18,
    "start_time": "2024-04-13T19:19:20.174Z"
   },
   {
    "duration": 217,
    "start_time": "2024-04-13T19:19:20.194Z"
   },
   {
    "duration": 279,
    "start_time": "2024-04-13T19:19:20.413Z"
   },
   {
    "duration": 15,
    "start_time": "2024-04-13T19:19:20.694Z"
   },
   {
    "duration": 15,
    "start_time": "2024-04-13T19:19:20.712Z"
   },
   {
    "duration": 13,
    "start_time": "2024-04-13T19:19:20.728Z"
   },
   {
    "duration": 18,
    "start_time": "2024-04-13T19:19:20.742Z"
   },
   {
    "duration": 37,
    "start_time": "2024-04-13T19:19:20.761Z"
   },
   {
    "duration": 13,
    "start_time": "2024-04-13T19:19:20.800Z"
   },
   {
    "duration": 18,
    "start_time": "2024-04-13T19:19:20.815Z"
   },
   {
    "duration": 293,
    "start_time": "2024-04-13T19:19:20.835Z"
   },
   {
    "duration": 239,
    "start_time": "2024-04-13T19:19:21.129Z"
   },
   {
    "duration": 3,
    "start_time": "2024-04-13T19:19:21.369Z"
   },
   {
    "duration": 6,
    "start_time": "2024-04-13T19:19:21.374Z"
   },
   {
    "duration": 57,
    "start_time": "2024-04-13T19:19:21.381Z"
   },
   {
    "duration": 4,
    "start_time": "2024-04-13T19:19:21.439Z"
   },
   {
    "duration": 9,
    "start_time": "2024-04-13T19:19:21.445Z"
   },
   {
    "duration": 5,
    "start_time": "2024-04-13T19:19:21.455Z"
   },
   {
    "duration": 30,
    "start_time": "2024-04-13T19:19:21.462Z"
   },
   {
    "duration": 6,
    "start_time": "2024-04-13T19:19:21.494Z"
   },
   {
    "duration": 11,
    "start_time": "2024-04-13T19:19:21.502Z"
   },
   {
    "duration": 29,
    "start_time": "2024-04-13T19:19:21.515Z"
   },
   {
    "duration": 658,
    "start_time": "2024-04-13T19:19:38.796Z"
   },
   {
    "duration": 6,
    "start_time": "2024-04-13T19:19:48.025Z"
   },
   {
    "duration": 4,
    "start_time": "2024-04-13T19:20:21.364Z"
   },
   {
    "duration": 3,
    "start_time": "2024-04-13T19:20:25.123Z"
   },
   {
    "duration": 76,
    "start_time": "2024-04-13T19:22:51.769Z"
   },
   {
    "duration": 83,
    "start_time": "2024-04-13T19:23:10.205Z"
   },
   {
    "duration": 80,
    "start_time": "2024-04-13T19:23:23.949Z"
   },
   {
    "duration": 5,
    "start_time": "2024-04-13T19:23:30.923Z"
   },
   {
    "duration": 5,
    "start_time": "2024-04-13T19:23:44.345Z"
   },
   {
    "duration": 180,
    "start_time": "2024-04-13T19:23:52.448Z"
   },
   {
    "duration": 81,
    "start_time": "2024-04-13T19:25:03.636Z"
   },
   {
    "duration": 6,
    "start_time": "2024-04-13T19:30:39.447Z"
   },
   {
    "duration": 6,
    "start_time": "2024-04-13T19:33:34.452Z"
   },
   {
    "duration": 6,
    "start_time": "2024-04-13T19:33:39.892Z"
   },
   {
    "duration": 5,
    "start_time": "2024-04-13T19:33:47.905Z"
   },
   {
    "duration": 5,
    "start_time": "2024-04-13T19:33:51.521Z"
   },
   {
    "duration": 5,
    "start_time": "2024-04-13T19:34:05.242Z"
   },
   {
    "duration": 5,
    "start_time": "2024-04-13T19:34:39.996Z"
   },
   {
    "duration": 5,
    "start_time": "2024-04-13T19:34:44.910Z"
   },
   {
    "duration": 6,
    "start_time": "2024-04-13T19:40:44.955Z"
   },
   {
    "duration": 5,
    "start_time": "2024-04-13T19:43:48.336Z"
   },
   {
    "duration": 174,
    "start_time": "2024-04-13T19:43:57.567Z"
   },
   {
    "duration": 85,
    "start_time": "2024-04-13T19:44:10.018Z"
   },
   {
    "duration": 5,
    "start_time": "2024-04-13T19:44:19.448Z"
   },
   {
    "duration": 5,
    "start_time": "2024-04-13T19:46:27.292Z"
   },
   {
    "duration": 6,
    "start_time": "2024-04-13T19:46:49.224Z"
   },
   {
    "duration": 5,
    "start_time": "2024-04-13T19:46:56.812Z"
   },
   {
    "duration": 5,
    "start_time": "2024-04-13T19:47:10.499Z"
   },
   {
    "duration": 240,
    "start_time": "2024-04-13T19:47:17.346Z"
   },
   {
    "duration": 75,
    "start_time": "2024-04-13T19:47:49.692Z"
   },
   {
    "duration": 6,
    "start_time": "2024-04-13T19:47:58.018Z"
   },
   {
    "duration": 6,
    "start_time": "2024-04-13T19:48:06.972Z"
   },
   {
    "duration": 173,
    "start_time": "2024-04-13T19:48:50.608Z"
   },
   {
    "duration": 6,
    "start_time": "2024-04-13T19:48:58.916Z"
   },
   {
    "duration": 79,
    "start_time": "2024-04-13T19:49:04.580Z"
   },
   {
    "duration": 5,
    "start_time": "2024-04-13T19:49:11.303Z"
   },
   {
    "duration": 6,
    "start_time": "2024-04-13T19:49:33.375Z"
   },
   {
    "duration": 7,
    "start_time": "2024-04-13T19:49:42.964Z"
   },
   {
    "duration": 7,
    "start_time": "2024-04-13T19:49:49.351Z"
   },
   {
    "duration": 6,
    "start_time": "2024-04-13T19:50:05.436Z"
   },
   {
    "duration": 6,
    "start_time": "2024-04-13T19:50:13.116Z"
   },
   {
    "duration": 6,
    "start_time": "2024-04-13T19:50:34.461Z"
   },
   {
    "duration": 7,
    "start_time": "2024-04-13T19:50:52.159Z"
   },
   {
    "duration": 151,
    "start_time": "2024-04-13T19:50:59.539Z"
   },
   {
    "duration": 7,
    "start_time": "2024-04-13T19:51:26.728Z"
   },
   {
    "duration": 7,
    "start_time": "2024-04-13T19:51:35.695Z"
   },
   {
    "duration": 163,
    "start_time": "2024-04-13T19:51:48.076Z"
   },
   {
    "duration": 81,
    "start_time": "2024-04-13T19:53:52.405Z"
   },
   {
    "duration": 92,
    "start_time": "2024-04-13T19:55:04.887Z"
   },
   {
    "duration": 29,
    "start_time": "2024-04-13T19:55:16.344Z"
   },
   {
    "duration": 18,
    "start_time": "2024-04-13T19:55:24.448Z"
   },
   {
    "duration": 158,
    "start_time": "2024-04-13T19:56:38.566Z"
   },
   {
    "duration": 171,
    "start_time": "2024-04-13T19:56:56.830Z"
   },
   {
    "duration": 5,
    "start_time": "2024-04-13T19:57:14.627Z"
   },
   {
    "duration": 168,
    "start_time": "2024-04-13T19:57:40.109Z"
   },
   {
    "duration": 143,
    "start_time": "2024-04-13T19:57:54.838Z"
   },
   {
    "duration": 149,
    "start_time": "2024-04-13T19:58:11.513Z"
   },
   {
    "duration": 8,
    "start_time": "2024-04-13T19:59:27.989Z"
   },
   {
    "duration": 1119,
    "start_time": "2024-04-13T19:59:34.717Z"
   },
   {
    "duration": 104,
    "start_time": "2024-04-13T20:00:06.614Z"
   },
   {
    "duration": 160,
    "start_time": "2024-04-13T20:00:18.339Z"
   },
   {
    "duration": 84,
    "start_time": "2024-04-13T20:03:58.078Z"
   },
   {
    "duration": 87,
    "start_time": "2024-04-13T20:04:19.431Z"
   },
   {
    "duration": 84,
    "start_time": "2024-04-13T20:05:03.291Z"
   },
   {
    "duration": 179,
    "start_time": "2024-04-13T20:05:12.987Z"
   },
   {
    "duration": 357,
    "start_time": "2024-04-13T20:07:59.627Z"
   },
   {
    "duration": 85,
    "start_time": "2024-04-13T20:09:33.870Z"
   },
   {
    "duration": 352,
    "start_time": "2024-04-13T20:10:32.272Z"
   },
   {
    "duration": 161,
    "start_time": "2024-04-13T20:10:57.008Z"
   },
   {
    "duration": 478,
    "start_time": "2024-04-13T21:15:45.178Z"
   },
   {
    "duration": 29,
    "start_time": "2024-04-13T21:15:45.658Z"
   },
   {
    "duration": 34,
    "start_time": "2024-04-13T21:15:45.688Z"
   },
   {
    "duration": 14,
    "start_time": "2024-04-13T21:15:45.724Z"
   },
   {
    "duration": 14,
    "start_time": "2024-04-13T21:15:45.740Z"
   },
   {
    "duration": 11,
    "start_time": "2024-04-13T21:15:45.756Z"
   },
   {
    "duration": 14,
    "start_time": "2024-04-13T21:15:45.769Z"
   },
   {
    "duration": 14,
    "start_time": "2024-04-13T21:15:45.785Z"
   },
   {
    "duration": 7,
    "start_time": "2024-04-13T21:15:45.802Z"
   },
   {
    "duration": 17,
    "start_time": "2024-04-13T21:15:45.812Z"
   },
   {
    "duration": 8,
    "start_time": "2024-04-13T21:15:45.830Z"
   },
   {
    "duration": 9,
    "start_time": "2024-04-13T21:15:45.839Z"
   },
   {
    "duration": 5,
    "start_time": "2024-04-13T21:15:45.849Z"
   },
   {
    "duration": 47,
    "start_time": "2024-04-13T21:15:45.855Z"
   },
   {
    "duration": 7,
    "start_time": "2024-04-13T21:15:45.904Z"
   },
   {
    "duration": 7,
    "start_time": "2024-04-13T21:15:45.912Z"
   },
   {
    "duration": 12,
    "start_time": "2024-04-13T21:15:45.920Z"
   },
   {
    "duration": 274,
    "start_time": "2024-04-13T21:15:45.934Z"
   },
   {
    "duration": 213,
    "start_time": "2024-04-13T21:15:46.210Z"
   },
   {
    "duration": 7,
    "start_time": "2024-04-13T21:15:46.424Z"
   },
   {
    "duration": 176,
    "start_time": "2024-04-13T21:15:46.433Z"
   },
   {
    "duration": 206,
    "start_time": "2024-04-13T21:15:46.611Z"
   },
   {
    "duration": 4,
    "start_time": "2024-04-13T21:15:46.819Z"
   },
   {
    "duration": 9,
    "start_time": "2024-04-13T21:15:46.825Z"
   },
   {
    "duration": 221,
    "start_time": "2024-04-13T21:15:46.836Z"
   },
   {
    "duration": 280,
    "start_time": "2024-04-13T21:15:47.058Z"
   },
   {
    "duration": 17,
    "start_time": "2024-04-13T21:15:47.340Z"
   },
   {
    "duration": 31,
    "start_time": "2024-04-13T21:15:47.360Z"
   },
   {
    "duration": 13,
    "start_time": "2024-04-13T21:15:47.393Z"
   },
   {
    "duration": 11,
    "start_time": "2024-04-13T21:15:47.407Z"
   },
   {
    "duration": 13,
    "start_time": "2024-04-13T21:15:47.419Z"
   },
   {
    "duration": 7,
    "start_time": "2024-04-13T21:15:47.433Z"
   },
   {
    "duration": 14,
    "start_time": "2024-04-13T21:15:47.442Z"
   },
   {
    "duration": 286,
    "start_time": "2024-04-13T21:15:47.458Z"
   },
   {
    "duration": 209,
    "start_time": "2024-04-13T21:15:47.746Z"
   },
   {
    "duration": 4,
    "start_time": "2024-04-13T21:15:47.956Z"
   },
   {
    "duration": 9,
    "start_time": "2024-04-13T21:15:47.961Z"
   },
   {
    "duration": 54,
    "start_time": "2024-04-13T21:15:47.972Z"
   },
   {
    "duration": 4,
    "start_time": "2024-04-13T21:15:48.028Z"
   },
   {
    "duration": 14,
    "start_time": "2024-04-13T21:15:48.034Z"
   },
   {
    "duration": 7,
    "start_time": "2024-04-13T21:15:48.050Z"
   },
   {
    "duration": 15,
    "start_time": "2024-04-13T21:15:48.060Z"
   },
   {
    "duration": 6,
    "start_time": "2024-04-13T21:15:48.091Z"
   },
   {
    "duration": 12,
    "start_time": "2024-04-13T21:15:48.099Z"
   },
   {
    "duration": 30,
    "start_time": "2024-04-13T21:15:48.112Z"
   },
   {
    "duration": 801,
    "start_time": "2024-04-13T21:15:48.144Z"
   },
   {
    "duration": 262,
    "start_time": "2024-04-13T21:15:48.947Z"
   },
   {
    "duration": 15,
    "start_time": "2024-04-13T22:45:46.793Z"
   },
   {
    "duration": 35,
    "start_time": "2024-04-13T22:48:48.746Z"
   },
   {
    "duration": 98,
    "start_time": "2024-04-13T22:53:41.498Z"
   },
   {
    "duration": 4,
    "start_time": "2024-04-13T22:53:45.855Z"
   },
   {
    "duration": 12,
    "start_time": "2024-04-13T22:56:50.517Z"
   },
   {
    "duration": 14,
    "start_time": "2024-04-13T22:56:55.585Z"
   },
   {
    "duration": 4,
    "start_time": "2024-04-13T22:58:58.405Z"
   },
   {
    "duration": 50,
    "start_time": "2024-04-13T23:14:07.609Z"
   },
   {
    "duration": 676,
    "start_time": "2024-04-13T23:14:36.080Z"
   },
   {
    "duration": 9,
    "start_time": "2024-04-13T23:17:44.851Z"
   },
   {
    "duration": 432,
    "start_time": "2024-04-13T23:18:09.707Z"
   },
   {
    "duration": 28,
    "start_time": "2024-04-13T23:18:10.141Z"
   },
   {
    "duration": 34,
    "start_time": "2024-04-13T23:18:10.171Z"
   },
   {
    "duration": 15,
    "start_time": "2024-04-13T23:18:10.207Z"
   },
   {
    "duration": 16,
    "start_time": "2024-04-13T23:18:10.223Z"
   },
   {
    "duration": 12,
    "start_time": "2024-04-13T23:18:10.240Z"
   },
   {
    "duration": 18,
    "start_time": "2024-04-13T23:18:10.254Z"
   },
   {
    "duration": 19,
    "start_time": "2024-04-13T23:18:10.273Z"
   },
   {
    "duration": 7,
    "start_time": "2024-04-13T23:18:10.293Z"
   },
   {
    "duration": 17,
    "start_time": "2024-04-13T23:18:10.303Z"
   },
   {
    "duration": 11,
    "start_time": "2024-04-13T23:18:10.322Z"
   },
   {
    "duration": 12,
    "start_time": "2024-04-13T23:18:10.334Z"
   },
   {
    "duration": 12,
    "start_time": "2024-04-13T23:18:10.347Z"
   },
   {
    "duration": 32,
    "start_time": "2024-04-13T23:18:10.360Z"
   },
   {
    "duration": 16,
    "start_time": "2024-04-13T23:18:10.394Z"
   },
   {
    "duration": 13,
    "start_time": "2024-04-13T23:18:10.411Z"
   },
   {
    "duration": 19,
    "start_time": "2024-04-13T23:18:10.426Z"
   },
   {
    "duration": 271,
    "start_time": "2024-04-13T23:18:10.447Z"
   },
   {
    "duration": 208,
    "start_time": "2024-04-13T23:18:10.720Z"
   },
   {
    "duration": 7,
    "start_time": "2024-04-13T23:18:10.930Z"
   },
   {
    "duration": 168,
    "start_time": "2024-04-13T23:18:10.939Z"
   },
   {
    "duration": 197,
    "start_time": "2024-04-13T23:18:11.109Z"
   },
   {
    "duration": 4,
    "start_time": "2024-04-13T23:18:11.308Z"
   },
   {
    "duration": 13,
    "start_time": "2024-04-13T23:18:11.313Z"
   },
   {
    "duration": 211,
    "start_time": "2024-04-13T23:18:11.328Z"
   },
   {
    "duration": 272,
    "start_time": "2024-04-13T23:18:11.541Z"
   },
   {
    "duration": 15,
    "start_time": "2024-04-13T23:18:11.815Z"
   },
   {
    "duration": 14,
    "start_time": "2024-04-13T23:18:11.834Z"
   },
   {
    "duration": 12,
    "start_time": "2024-04-13T23:18:11.849Z"
   },
   {
    "duration": 29,
    "start_time": "2024-04-13T23:18:11.863Z"
   },
   {
    "duration": 9,
    "start_time": "2024-04-13T23:18:11.894Z"
   },
   {
    "duration": 13,
    "start_time": "2024-04-13T23:18:11.905Z"
   },
   {
    "duration": 19,
    "start_time": "2024-04-13T23:18:11.920Z"
   },
   {
    "duration": 25,
    "start_time": "2024-04-13T23:18:11.941Z"
   },
   {
    "duration": 309,
    "start_time": "2024-04-13T23:18:11.967Z"
   },
   {
    "duration": 192,
    "start_time": "2024-04-13T23:18:12.277Z"
   },
   {
    "duration": 2,
    "start_time": "2024-04-13T23:18:12.471Z"
   },
   {
    "duration": 10,
    "start_time": "2024-04-13T23:18:12.475Z"
   },
   {
    "duration": 43,
    "start_time": "2024-04-13T23:18:12.486Z"
   },
   {
    "duration": 3,
    "start_time": "2024-04-13T23:18:12.531Z"
   },
   {
    "duration": 21,
    "start_time": "2024-04-13T23:18:12.535Z"
   },
   {
    "duration": 9,
    "start_time": "2024-04-13T23:18:12.557Z"
   },
   {
    "duration": 26,
    "start_time": "2024-04-13T23:18:12.567Z"
   },
   {
    "duration": 409,
    "start_time": "2024-04-13T23:18:22.904Z"
   },
   {
    "duration": 9,
    "start_time": "2024-04-13T23:30:22.783Z"
   },
   {
    "duration": 103,
    "start_time": "2024-04-13T23:30:50.115Z"
   },
   {
    "duration": 9,
    "start_time": "2024-04-13T23:31:16.148Z"
   },
   {
    "duration": 1165,
    "start_time": "2024-04-13T23:39:42.001Z"
   },
   {
    "duration": 29,
    "start_time": "2024-04-13T23:39:43.168Z"
   },
   {
    "duration": 34,
    "start_time": "2024-04-13T23:39:43.199Z"
   },
   {
    "duration": 15,
    "start_time": "2024-04-13T23:39:43.235Z"
   },
   {
    "duration": 11,
    "start_time": "2024-04-13T23:39:43.252Z"
   },
   {
    "duration": 13,
    "start_time": "2024-04-13T23:39:43.265Z"
   },
   {
    "duration": 12,
    "start_time": "2024-04-13T23:39:43.280Z"
   },
   {
    "duration": 12,
    "start_time": "2024-04-13T23:39:43.294Z"
   },
   {
    "duration": 7,
    "start_time": "2024-04-13T23:39:43.307Z"
   },
   {
    "duration": 11,
    "start_time": "2024-04-13T23:39:43.316Z"
   },
   {
    "duration": 7,
    "start_time": "2024-04-13T23:39:43.329Z"
   },
   {
    "duration": 9,
    "start_time": "2024-04-13T23:39:43.338Z"
   },
   {
    "duration": 6,
    "start_time": "2024-04-13T23:39:43.348Z"
   },
   {
    "duration": 39,
    "start_time": "2024-04-13T23:39:43.356Z"
   },
   {
    "duration": 10,
    "start_time": "2024-04-13T23:39:43.396Z"
   },
   {
    "duration": 4,
    "start_time": "2024-04-13T23:39:43.408Z"
   },
   {
    "duration": 9,
    "start_time": "2024-04-13T23:39:43.414Z"
   },
   {
    "duration": 226,
    "start_time": "2024-04-13T23:39:43.424Z"
   },
   {
    "duration": 7,
    "start_time": "2024-04-13T23:39:43.651Z"
   },
   {
    "duration": 179,
    "start_time": "2024-04-13T23:39:43.660Z"
   },
   {
    "duration": 201,
    "start_time": "2024-04-13T23:39:43.841Z"
   },
   {
    "duration": 5,
    "start_time": "2024-04-13T23:39:44.044Z"
   },
   {
    "duration": 9,
    "start_time": "2024-04-13T23:39:44.051Z"
   },
   {
    "duration": 243,
    "start_time": "2024-04-13T23:39:44.062Z"
   },
   {
    "duration": 222,
    "start_time": "2024-04-13T23:39:44.307Z"
   },
   {
    "duration": 15,
    "start_time": "2024-04-13T23:39:44.531Z"
   },
   {
    "duration": 16,
    "start_time": "2024-04-13T23:39:44.547Z"
   },
   {
    "duration": 25,
    "start_time": "2024-04-13T23:39:44.567Z"
   },
   {
    "duration": 19,
    "start_time": "2024-04-13T23:39:44.594Z"
   },
   {
    "duration": 26,
    "start_time": "2024-04-13T23:39:44.614Z"
   },
   {
    "duration": 22,
    "start_time": "2024-04-13T23:39:44.642Z"
   },
   {
    "duration": 21,
    "start_time": "2024-04-13T23:39:44.665Z"
   },
   {
    "duration": 18,
    "start_time": "2024-04-13T23:39:44.688Z"
   },
   {
    "duration": 273,
    "start_time": "2024-04-13T23:39:44.707Z"
   },
   {
    "duration": 206,
    "start_time": "2024-04-13T23:39:44.982Z"
   },
   {
    "duration": 3,
    "start_time": "2024-04-13T23:39:45.191Z"
   },
   {
    "duration": 169,
    "start_time": "2024-04-13T23:39:45.196Z"
   },
   {
    "duration": 48,
    "start_time": "2024-04-13T23:39:45.367Z"
   },
   {
    "duration": 57,
    "start_time": "2024-04-13T23:39:45.416Z"
   },
   {
    "duration": 33,
    "start_time": "2024-04-13T23:39:45.475Z"
   },
   {
    "duration": 46,
    "start_time": "2024-04-13T23:39:45.511Z"
   },
   {
    "duration": 13,
    "start_time": "2024-04-13T23:39:45.559Z"
   },
   {
    "duration": 28,
    "start_time": "2024-04-13T23:39:45.574Z"
   },
   {
    "duration": 9,
    "start_time": "2024-04-13T23:39:45.604Z"
   },
   {
    "duration": 31,
    "start_time": "2024-04-13T23:39:45.614Z"
   },
   {
    "duration": 407,
    "start_time": "2024-04-13T23:39:45.647Z"
   },
   {
    "duration": 170,
    "start_time": "2024-04-13T23:39:46.057Z"
   },
   {
    "duration": 10,
    "start_time": "2024-04-13T23:42:54.912Z"
   },
   {
    "duration": 125,
    "start_time": "2024-04-13T23:48:28.564Z"
   },
   {
    "duration": 5,
    "start_time": "2024-04-13T23:49:02.446Z"
   },
   {
    "duration": 6,
    "start_time": "2024-04-13T23:49:37.850Z"
   },
   {
    "duration": 97,
    "start_time": "2024-04-13T23:51:02.369Z"
   },
   {
    "duration": 13,
    "start_time": "2024-04-13T23:51:17.158Z"
   },
   {
    "duration": 13,
    "start_time": "2024-04-14T00:00:47.734Z"
   },
   {
    "duration": 13,
    "start_time": "2024-04-14T00:02:37.127Z"
   },
   {
    "duration": 18,
    "start_time": "2024-04-14T00:03:10.404Z"
   },
   {
    "duration": 69,
    "start_time": "2024-04-14T00:03:29.437Z"
   },
   {
    "duration": 1132,
    "start_time": "2024-04-14T00:03:44.945Z"
   },
   {
    "duration": 29,
    "start_time": "2024-04-14T00:03:46.079Z"
   },
   {
    "duration": 50,
    "start_time": "2024-04-14T00:03:46.110Z"
   },
   {
    "duration": 15,
    "start_time": "2024-04-14T00:03:46.162Z"
   },
   {
    "duration": 31,
    "start_time": "2024-04-14T00:03:46.179Z"
   },
   {
    "duration": 22,
    "start_time": "2024-04-14T00:03:46.212Z"
   },
   {
    "duration": 22,
    "start_time": "2024-04-14T00:03:46.236Z"
   },
   {
    "duration": 13,
    "start_time": "2024-04-14T00:03:46.260Z"
   },
   {
    "duration": 8,
    "start_time": "2024-04-14T00:03:46.275Z"
   },
   {
    "duration": 13,
    "start_time": "2024-04-14T00:03:46.285Z"
   },
   {
    "duration": 19,
    "start_time": "2024-04-14T00:03:46.299Z"
   },
   {
    "duration": 15,
    "start_time": "2024-04-14T00:03:46.319Z"
   },
   {
    "duration": 9,
    "start_time": "2024-04-14T00:03:46.336Z"
   },
   {
    "duration": 7,
    "start_time": "2024-04-14T00:03:46.347Z"
   },
   {
    "duration": 10,
    "start_time": "2024-04-14T00:03:46.355Z"
   },
   {
    "duration": 14,
    "start_time": "2024-04-14T00:03:46.367Z"
   },
   {
    "duration": 17,
    "start_time": "2024-04-14T00:03:46.383Z"
   },
   {
    "duration": 214,
    "start_time": "2024-04-14T00:03:46.401Z"
   },
   {
    "duration": 6,
    "start_time": "2024-04-14T00:03:46.617Z"
   },
   {
    "duration": 174,
    "start_time": "2024-04-14T00:03:46.625Z"
   },
   {
    "duration": 185,
    "start_time": "2024-04-14T00:03:46.800Z"
   },
   {
    "duration": 4,
    "start_time": "2024-04-14T00:03:46.991Z"
   },
   {
    "duration": 6,
    "start_time": "2024-04-14T00:03:46.997Z"
   },
   {
    "duration": 232,
    "start_time": "2024-04-14T00:03:47.005Z"
   },
   {
    "duration": 220,
    "start_time": "2024-04-14T00:03:47.238Z"
   },
   {
    "duration": 15,
    "start_time": "2024-04-14T00:03:47.460Z"
   },
   {
    "duration": 63,
    "start_time": "2024-04-14T00:03:52.412Z"
   },
   {
    "duration": 16,
    "start_time": "2024-04-14T00:04:19.996Z"
   },
   {
    "duration": 9,
    "start_time": "2024-04-14T00:05:12.397Z"
   },
   {
    "duration": 3,
    "start_time": "2024-04-14T00:05:24.938Z"
   },
   {
    "duration": 29,
    "start_time": "2024-04-14T00:05:24.962Z"
   },
   {
    "duration": 33,
    "start_time": "2024-04-14T00:05:24.993Z"
   },
   {
    "duration": 15,
    "start_time": "2024-04-14T00:05:25.028Z"
   },
   {
    "duration": 13,
    "start_time": "2024-04-14T00:05:25.044Z"
   },
   {
    "duration": 23,
    "start_time": "2024-04-14T00:05:25.059Z"
   },
   {
    "duration": 19,
    "start_time": "2024-04-14T00:05:25.084Z"
   },
   {
    "duration": 42,
    "start_time": "2024-04-14T00:05:25.105Z"
   },
   {
    "duration": 16,
    "start_time": "2024-04-14T00:05:25.149Z"
   },
   {
    "duration": 12,
    "start_time": "2024-04-14T00:05:25.167Z"
   },
   {
    "duration": 21,
    "start_time": "2024-04-14T00:05:25.180Z"
   },
   {
    "duration": 25,
    "start_time": "2024-04-14T00:05:25.202Z"
   },
   {
    "duration": 5,
    "start_time": "2024-04-14T00:05:25.228Z"
   },
   {
    "duration": 9,
    "start_time": "2024-04-14T00:05:25.235Z"
   },
   {
    "duration": 6,
    "start_time": "2024-04-14T00:05:25.248Z"
   },
   {
    "duration": 5,
    "start_time": "2024-04-14T00:05:25.256Z"
   },
   {
    "duration": 13,
    "start_time": "2024-04-14T00:05:25.263Z"
   },
   {
    "duration": 209,
    "start_time": "2024-04-14T00:05:25.291Z"
   },
   {
    "duration": 7,
    "start_time": "2024-04-14T00:05:25.502Z"
   },
   {
    "duration": 172,
    "start_time": "2024-04-14T00:05:25.511Z"
   },
   {
    "duration": 191,
    "start_time": "2024-04-14T00:05:25.684Z"
   },
   {
    "duration": 4,
    "start_time": "2024-04-14T00:05:25.876Z"
   },
   {
    "duration": 13,
    "start_time": "2024-04-14T00:05:25.882Z"
   },
   {
    "duration": 289,
    "start_time": "2024-04-14T00:05:25.896Z"
   },
   {
    "duration": 222,
    "start_time": "2024-04-14T00:05:26.187Z"
   },
   {
    "duration": 17,
    "start_time": "2024-04-14T00:05:26.411Z"
   },
   {
    "duration": 16,
    "start_time": "2024-04-14T00:05:26.430Z"
   },
   {
    "duration": 13,
    "start_time": "2024-04-14T00:05:26.448Z"
   },
   {
    "duration": 4,
    "start_time": "2024-04-14T00:05:26.492Z"
   },
   {
    "duration": 16,
    "start_time": "2024-04-14T00:05:26.497Z"
   },
   {
    "duration": 13,
    "start_time": "2024-04-14T00:05:26.515Z"
   },
   {
    "duration": 7,
    "start_time": "2024-04-14T00:05:26.530Z"
   },
   {
    "duration": 18,
    "start_time": "2024-04-14T00:05:26.539Z"
   },
   {
    "duration": 269,
    "start_time": "2024-04-14T00:05:26.591Z"
   },
   {
    "duration": 197,
    "start_time": "2024-04-14T00:05:26.862Z"
   },
   {
    "duration": 3,
    "start_time": "2024-04-14T00:05:27.061Z"
   },
   {
    "duration": 56,
    "start_time": "2024-04-14T00:05:27.065Z"
   },
   {
    "duration": 3,
    "start_time": "2024-04-14T00:05:27.123Z"
   },
   {
    "duration": 8,
    "start_time": "2024-04-14T00:05:27.127Z"
   },
   {
    "duration": 10,
    "start_time": "2024-04-14T00:05:27.136Z"
   },
   {
    "duration": 33,
    "start_time": "2024-04-14T00:05:27.148Z"
   },
   {
    "duration": 17,
    "start_time": "2024-04-14T00:05:36.212Z"
   },
   {
    "duration": 6,
    "start_time": "2024-04-14T00:07:31.598Z"
   },
   {
    "duration": 10,
    "start_time": "2024-04-14T00:08:08.879Z"
   },
   {
    "duration": 16,
    "start_time": "2024-04-14T00:08:36.173Z"
   },
   {
    "duration": 14,
    "start_time": "2024-04-14T00:09:10.388Z"
   },
   {
    "duration": 8,
    "start_time": "2024-04-14T00:09:41.391Z"
   },
   {
    "duration": 1285,
    "start_time": "2024-04-14T06:23:26.147Z"
   },
   {
    "duration": 72,
    "start_time": "2024-04-14T06:23:27.434Z"
   },
   {
    "duration": 84,
    "start_time": "2024-04-14T06:23:27.508Z"
   },
   {
    "duration": 57,
    "start_time": "2024-04-14T06:23:27.594Z"
   },
   {
    "duration": 11,
    "start_time": "2024-04-14T06:23:27.652Z"
   },
   {
    "duration": 10,
    "start_time": "2024-04-14T06:23:27.665Z"
   },
   {
    "duration": 15,
    "start_time": "2024-04-14T06:23:27.676Z"
   },
   {
    "duration": 13,
    "start_time": "2024-04-14T06:23:27.692Z"
   },
   {
    "duration": 12,
    "start_time": "2024-04-14T06:23:27.706Z"
   },
   {
    "duration": 9,
    "start_time": "2024-04-14T06:23:27.720Z"
   },
   {
    "duration": 9,
    "start_time": "2024-04-14T06:23:27.730Z"
   },
   {
    "duration": 25,
    "start_time": "2024-04-14T06:23:27.740Z"
   },
   {
    "duration": 6,
    "start_time": "2024-04-14T06:23:27.766Z"
   },
   {
    "duration": 5,
    "start_time": "2024-04-14T06:23:27.773Z"
   },
   {
    "duration": 6,
    "start_time": "2024-04-14T06:23:27.780Z"
   },
   {
    "duration": 4,
    "start_time": "2024-04-14T06:23:27.788Z"
   },
   {
    "duration": 8,
    "start_time": "2024-04-14T06:23:27.794Z"
   },
   {
    "duration": 223,
    "start_time": "2024-04-14T06:23:27.804Z"
   },
   {
    "duration": 5,
    "start_time": "2024-04-14T06:23:28.029Z"
   },
   {
    "duration": 156,
    "start_time": "2024-04-14T06:23:28.036Z"
   },
   {
    "duration": 173,
    "start_time": "2024-04-14T06:23:28.194Z"
   },
   {
    "duration": 5,
    "start_time": "2024-04-14T06:23:28.368Z"
   },
   {
    "duration": 4,
    "start_time": "2024-04-14T06:23:28.374Z"
   },
   {
    "duration": 233,
    "start_time": "2024-04-14T06:23:28.380Z"
   },
   {
    "duration": 216,
    "start_time": "2024-04-14T06:23:28.615Z"
   },
   {
    "duration": 14,
    "start_time": "2024-04-14T06:23:28.833Z"
   },
   {
    "duration": 27,
    "start_time": "2024-04-14T06:23:28.849Z"
   },
   {
    "duration": 12,
    "start_time": "2024-04-14T06:23:28.879Z"
   },
   {
    "duration": 6,
    "start_time": "2024-04-14T06:23:28.892Z"
   },
   {
    "duration": 14,
    "start_time": "2024-04-14T06:23:28.899Z"
   },
   {
    "duration": 31,
    "start_time": "2024-04-14T06:23:28.915Z"
   },
   {
    "duration": 21,
    "start_time": "2024-04-14T06:23:28.948Z"
   },
   {
    "duration": 15,
    "start_time": "2024-04-14T06:23:28.971Z"
   },
   {
    "duration": 252,
    "start_time": "2024-04-14T06:23:28.988Z"
   },
   {
    "duration": 179,
    "start_time": "2024-04-14T06:23:29.242Z"
   },
   {
    "duration": 4,
    "start_time": "2024-04-14T06:23:29.422Z"
   },
   {
    "duration": 51,
    "start_time": "2024-04-14T06:23:29.427Z"
   },
   {
    "duration": 3,
    "start_time": "2024-04-14T06:23:29.479Z"
   },
   {
    "duration": 6,
    "start_time": "2024-04-14T06:23:29.484Z"
   },
   {
    "duration": 20,
    "start_time": "2024-04-14T06:23:29.492Z"
   },
   {
    "duration": 10,
    "start_time": "2024-04-14T06:23:29.513Z"
   },
   {
    "duration": 3,
    "start_time": "2024-04-14T06:23:42.237Z"
   },
   {
    "duration": 5,
    "start_time": "2024-04-14T06:23:58.403Z"
   },
   {
    "duration": 6,
    "start_time": "2024-04-14T06:24:46.414Z"
   },
   {
    "duration": 7,
    "start_time": "2024-04-14T06:33:39.115Z"
   },
   {
    "duration": 36,
    "start_time": "2024-04-14T06:35:18.657Z"
   },
   {
    "duration": 98,
    "start_time": "2024-04-14T06:35:43.098Z"
   },
   {
    "duration": 25,
    "start_time": "2024-04-14T06:36:19.060Z"
   },
   {
    "duration": 42,
    "start_time": "2024-04-14T06:37:14.754Z"
   },
   {
    "duration": 4,
    "start_time": "2024-04-14T06:38:40.000Z"
   },
   {
    "duration": 15,
    "start_time": "2024-04-14T06:38:49.757Z"
   },
   {
    "duration": 15,
    "start_time": "2024-04-14T06:40:19.384Z"
   },
   {
    "duration": 13,
    "start_time": "2024-04-14T06:41:27.902Z"
   },
   {
    "duration": 15,
    "start_time": "2024-04-14T06:41:35.606Z"
   },
   {
    "duration": 11,
    "start_time": "2024-04-14T06:41:50.788Z"
   },
   {
    "duration": 13,
    "start_time": "2024-04-14T06:42:23.467Z"
   },
   {
    "duration": 16,
    "start_time": "2024-04-14T06:46:06.185Z"
   },
   {
    "duration": 26,
    "start_time": "2024-04-14T06:46:11.476Z"
   },
   {
    "duration": 723,
    "start_time": "2024-04-14T06:46:35.622Z"
   },
   {
    "duration": 17,
    "start_time": "2024-04-14T06:47:11.052Z"
   },
   {
    "duration": 21,
    "start_time": "2024-04-14T06:47:23.053Z"
   },
   {
    "duration": 25,
    "start_time": "2024-04-14T06:47:43.465Z"
   },
   {
    "duration": 97,
    "start_time": "2024-04-14T06:49:02.570Z"
   },
   {
    "duration": 837,
    "start_time": "2024-04-14T06:49:15.082Z"
   },
   {
    "duration": 1020,
    "start_time": "2024-04-14T06:50:03.797Z"
   },
   {
    "duration": 29,
    "start_time": "2024-04-14T06:50:04.819Z"
   },
   {
    "duration": 32,
    "start_time": "2024-04-14T06:50:04.849Z"
   },
   {
    "duration": 15,
    "start_time": "2024-04-14T06:50:04.883Z"
   },
   {
    "duration": 11,
    "start_time": "2024-04-14T06:50:04.899Z"
   },
   {
    "duration": 9,
    "start_time": "2024-04-14T06:50:04.912Z"
   },
   {
    "duration": 12,
    "start_time": "2024-04-14T06:50:04.923Z"
   },
   {
    "duration": 10,
    "start_time": "2024-04-14T06:50:04.936Z"
   },
   {
    "duration": 19,
    "start_time": "2024-04-14T06:50:04.947Z"
   },
   {
    "duration": 10,
    "start_time": "2024-04-14T06:50:04.969Z"
   },
   {
    "duration": 15,
    "start_time": "2024-04-14T06:50:04.980Z"
   },
   {
    "duration": 17,
    "start_time": "2024-04-14T06:50:04.997Z"
   },
   {
    "duration": 4,
    "start_time": "2024-04-14T06:50:05.016Z"
   },
   {
    "duration": 12,
    "start_time": "2024-04-14T06:50:05.022Z"
   },
   {
    "duration": 13,
    "start_time": "2024-04-14T06:50:05.036Z"
   },
   {
    "duration": 10,
    "start_time": "2024-04-14T06:50:05.051Z"
   },
   {
    "duration": 11,
    "start_time": "2024-04-14T06:50:05.065Z"
   },
   {
    "duration": 213,
    "start_time": "2024-04-14T06:50:05.077Z"
   },
   {
    "duration": 5,
    "start_time": "2024-04-14T06:50:05.292Z"
   },
   {
    "duration": 180,
    "start_time": "2024-04-14T06:50:05.299Z"
   },
   {
    "duration": 240,
    "start_time": "2024-04-14T06:50:05.480Z"
   },
   {
    "duration": 4,
    "start_time": "2024-04-14T06:50:05.722Z"
   },
   {
    "duration": 13,
    "start_time": "2024-04-14T06:50:05.727Z"
   },
   {
    "duration": 192,
    "start_time": "2024-04-14T06:50:05.741Z"
   },
   {
    "duration": 195,
    "start_time": "2024-04-14T06:50:05.935Z"
   },
   {
    "duration": 14,
    "start_time": "2024-04-14T06:50:06.132Z"
   },
   {
    "duration": 25,
    "start_time": "2024-04-14T06:50:06.147Z"
   },
   {
    "duration": 30,
    "start_time": "2024-04-14T06:50:06.175Z"
   },
   {
    "duration": 8,
    "start_time": "2024-04-14T06:50:06.207Z"
   },
   {
    "duration": 13,
    "start_time": "2024-04-14T06:50:06.217Z"
   },
   {
    "duration": 27,
    "start_time": "2024-04-14T06:50:06.232Z"
   },
   {
    "duration": 23,
    "start_time": "2024-04-14T06:50:06.261Z"
   },
   {
    "duration": 12,
    "start_time": "2024-04-14T06:50:06.285Z"
   },
   {
    "duration": 230,
    "start_time": "2024-04-14T06:50:06.298Z"
   },
   {
    "duration": 192,
    "start_time": "2024-04-14T06:50:06.529Z"
   },
   {
    "duration": 3,
    "start_time": "2024-04-14T06:50:06.723Z"
   },
   {
    "duration": 50,
    "start_time": "2024-04-14T06:50:06.727Z"
   },
   {
    "duration": 3,
    "start_time": "2024-04-14T06:50:06.779Z"
   },
   {
    "duration": 30,
    "start_time": "2024-04-14T06:50:06.783Z"
   },
   {
    "duration": 9,
    "start_time": "2024-04-14T06:50:06.815Z"
   },
   {
    "duration": 16,
    "start_time": "2024-04-14T06:50:06.825Z"
   },
   {
    "duration": 5,
    "start_time": "2024-04-14T06:51:14.905Z"
   },
   {
    "duration": 9,
    "start_time": "2024-04-14T06:51:56.822Z"
   },
   {
    "duration": 1006,
    "start_time": "2024-04-14T06:52:15.578Z"
   },
   {
    "duration": 8,
    "start_time": "2024-04-14T06:52:25.957Z"
   },
   {
    "duration": 13,
    "start_time": "2024-04-14T06:53:19.827Z"
   },
   {
    "duration": 26,
    "start_time": "2024-04-14T06:53:23.808Z"
   },
   {
    "duration": 647,
    "start_time": "2024-04-14T06:53:42.270Z"
   },
   {
    "duration": 689,
    "start_time": "2024-04-14T06:53:57.948Z"
   },
   {
    "duration": 17,
    "start_time": "2024-04-14T06:54:07.778Z"
   },
   {
    "duration": 19,
    "start_time": "2024-04-14T06:57:30.889Z"
   },
   {
    "duration": 18,
    "start_time": "2024-04-14T06:57:36.362Z"
   },
   {
    "duration": 18,
    "start_time": "2024-04-14T06:57:56.825Z"
   },
   {
    "duration": 25,
    "start_time": "2024-04-14T06:59:47.554Z"
   },
   {
    "duration": 892,
    "start_time": "2024-04-14T07:00:22.417Z"
   },
   {
    "duration": 29,
    "start_time": "2024-04-14T07:00:58.196Z"
   },
   {
    "duration": 13,
    "start_time": "2024-04-14T07:03:08.532Z"
   },
   {
    "duration": 13,
    "start_time": "2024-04-14T07:04:05.832Z"
   },
   {
    "duration": 4,
    "start_time": "2024-04-14T07:04:22.710Z"
   },
   {
    "duration": 17,
    "start_time": "2024-04-14T07:07:19.692Z"
   },
   {
    "duration": 1089,
    "start_time": "2024-04-14T07:07:55.272Z"
   },
   {
    "duration": 28,
    "start_time": "2024-04-14T07:07:56.363Z"
   },
   {
    "duration": 32,
    "start_time": "2024-04-14T07:07:56.393Z"
   },
   {
    "duration": 15,
    "start_time": "2024-04-14T07:07:56.427Z"
   },
   {
    "duration": 21,
    "start_time": "2024-04-14T07:07:56.443Z"
   },
   {
    "duration": 12,
    "start_time": "2024-04-14T07:07:56.465Z"
   },
   {
    "duration": 7,
    "start_time": "2024-04-14T07:07:56.479Z"
   },
   {
    "duration": 10,
    "start_time": "2024-04-14T07:07:56.487Z"
   },
   {
    "duration": 6,
    "start_time": "2024-04-14T07:07:56.498Z"
   },
   {
    "duration": 21,
    "start_time": "2024-04-14T07:07:56.506Z"
   },
   {
    "duration": 6,
    "start_time": "2024-04-14T07:07:56.528Z"
   },
   {
    "duration": 7,
    "start_time": "2024-04-14T07:07:56.536Z"
   },
   {
    "duration": 5,
    "start_time": "2024-04-14T07:07:56.565Z"
   },
   {
    "duration": 13,
    "start_time": "2024-04-14T07:07:56.571Z"
   },
   {
    "duration": 16,
    "start_time": "2024-04-14T07:07:56.585Z"
   },
   {
    "duration": 13,
    "start_time": "2024-04-14T07:07:56.603Z"
   },
   {
    "duration": 8,
    "start_time": "2024-04-14T07:07:56.618Z"
   },
   {
    "duration": 196,
    "start_time": "2024-04-14T07:07:56.627Z"
   },
   {
    "duration": 6,
    "start_time": "2024-04-14T07:07:56.824Z"
   },
   {
    "duration": 144,
    "start_time": "2024-04-14T07:07:56.831Z"
   },
   {
    "duration": 160,
    "start_time": "2024-04-14T07:07:56.976Z"
   },
   {
    "duration": 4,
    "start_time": "2024-04-14T07:07:57.137Z"
   },
   {
    "duration": 9,
    "start_time": "2024-04-14T07:07:57.142Z"
   },
   {
    "duration": 191,
    "start_time": "2024-04-14T07:07:57.152Z"
   },
   {
    "duration": 196,
    "start_time": "2024-04-14T07:07:57.344Z"
   },
   {
    "duration": 14,
    "start_time": "2024-04-14T07:07:57.541Z"
   },
   {
    "duration": 20,
    "start_time": "2024-04-14T07:07:57.556Z"
   },
   {
    "duration": 11,
    "start_time": "2024-04-14T07:07:57.579Z"
   },
   {
    "duration": 4,
    "start_time": "2024-04-14T07:07:57.592Z"
   },
   {
    "duration": 9,
    "start_time": "2024-04-14T07:07:57.597Z"
   },
   {
    "duration": 11,
    "start_time": "2024-04-14T07:07:57.608Z"
   },
   {
    "duration": 6,
    "start_time": "2024-04-14T07:07:57.620Z"
   },
   {
    "duration": 47,
    "start_time": "2024-04-14T07:07:57.627Z"
   },
   {
    "duration": 244,
    "start_time": "2024-04-14T07:07:57.676Z"
   },
   {
    "duration": 178,
    "start_time": "2024-04-14T07:07:57.922Z"
   },
   {
    "duration": 4,
    "start_time": "2024-04-14T07:07:58.102Z"
   },
   {
    "duration": 42,
    "start_time": "2024-04-14T07:07:58.108Z"
   },
   {
    "duration": 14,
    "start_time": "2024-04-14T07:07:58.151Z"
   },
   {
    "duration": 5,
    "start_time": "2024-04-14T07:07:58.167Z"
   },
   {
    "duration": 11,
    "start_time": "2024-04-14T07:07:58.173Z"
   },
   {
    "duration": 13,
    "start_time": "2024-04-14T07:07:58.185Z"
   },
   {
    "duration": 16,
    "start_time": "2024-04-14T07:08:06.569Z"
   },
   {
    "duration": 5,
    "start_time": "2024-04-14T07:09:36.920Z"
   },
   {
    "duration": 16,
    "start_time": "2024-04-14T07:10:44.477Z"
   },
   {
    "duration": 997,
    "start_time": "2024-04-14T07:17:23.806Z"
   },
   {
    "duration": 28,
    "start_time": "2024-04-14T07:17:24.804Z"
   },
   {
    "duration": 31,
    "start_time": "2024-04-14T07:17:24.833Z"
   },
   {
    "duration": 14,
    "start_time": "2024-04-14T07:17:24.866Z"
   },
   {
    "duration": 10,
    "start_time": "2024-04-14T07:17:24.882Z"
   },
   {
    "duration": 36,
    "start_time": "2024-04-14T07:17:24.893Z"
   },
   {
    "duration": 51,
    "start_time": "2024-04-14T07:17:24.930Z"
   },
   {
    "duration": 26,
    "start_time": "2024-04-14T07:17:24.983Z"
   },
   {
    "duration": 26,
    "start_time": "2024-04-14T07:17:25.010Z"
   },
   {
    "duration": 14,
    "start_time": "2024-04-14T07:17:25.037Z"
   },
   {
    "duration": 18,
    "start_time": "2024-04-14T07:17:25.052Z"
   },
   {
    "duration": 20,
    "start_time": "2024-04-14T07:17:25.071Z"
   },
   {
    "duration": 13,
    "start_time": "2024-04-14T07:17:25.092Z"
   },
   {
    "duration": 16,
    "start_time": "2024-04-14T07:17:25.108Z"
   },
   {
    "duration": 5,
    "start_time": "2024-04-14T07:17:25.126Z"
   },
   {
    "duration": 10,
    "start_time": "2024-04-14T07:17:25.132Z"
   },
   {
    "duration": 9,
    "start_time": "2024-04-14T07:17:25.143Z"
   },
   {
    "duration": 204,
    "start_time": "2024-04-14T07:17:25.153Z"
   },
   {
    "duration": 7,
    "start_time": "2024-04-14T07:17:25.358Z"
   },
   {
    "duration": 164,
    "start_time": "2024-04-14T07:17:25.367Z"
   },
   {
    "duration": 184,
    "start_time": "2024-04-14T07:17:25.533Z"
   },
   {
    "duration": 4,
    "start_time": "2024-04-14T07:17:25.719Z"
   },
   {
    "duration": 6,
    "start_time": "2024-04-14T07:17:25.725Z"
   },
   {
    "duration": 227,
    "start_time": "2024-04-14T07:17:25.732Z"
   },
   {
    "duration": 209,
    "start_time": "2024-04-14T07:17:25.960Z"
   },
   {
    "duration": 15,
    "start_time": "2024-04-14T07:17:26.171Z"
   },
   {
    "duration": 15,
    "start_time": "2024-04-14T07:17:26.188Z"
   },
   {
    "duration": 17,
    "start_time": "2024-04-14T07:17:26.204Z"
   },
   {
    "duration": 14,
    "start_time": "2024-04-14T07:17:26.223Z"
   },
   {
    "duration": 27,
    "start_time": "2024-04-14T07:17:26.238Z"
   },
   {
    "duration": 11,
    "start_time": "2024-04-14T07:17:26.266Z"
   },
   {
    "duration": 7,
    "start_time": "2024-04-14T07:17:26.279Z"
   },
   {
    "duration": 14,
    "start_time": "2024-04-14T07:17:26.288Z"
   },
   {
    "duration": 261,
    "start_time": "2024-04-14T07:17:26.303Z"
   },
   {
    "duration": 194,
    "start_time": "2024-04-14T07:17:26.565Z"
   },
   {
    "duration": 6,
    "start_time": "2024-04-14T07:17:26.760Z"
   },
   {
    "duration": 56,
    "start_time": "2024-04-14T07:17:26.768Z"
   },
   {
    "duration": 2,
    "start_time": "2024-04-14T07:17:26.826Z"
   },
   {
    "duration": 9,
    "start_time": "2024-04-14T07:17:26.830Z"
   },
   {
    "duration": 4,
    "start_time": "2024-04-14T07:17:26.840Z"
   },
   {
    "duration": 20,
    "start_time": "2024-04-14T07:17:26.848Z"
   },
   {
    "duration": 14,
    "start_time": "2024-04-14T07:19:44.428Z"
   },
   {
    "duration": 5,
    "start_time": "2024-04-14T07:20:01.348Z"
   },
   {
    "duration": 5,
    "start_time": "2024-04-14T07:30:41.075Z"
   },
   {
    "duration": 744,
    "start_time": "2024-04-14T08:18:53.133Z"
   },
   {
    "duration": 9,
    "start_time": "2024-04-14T08:19:37.826Z"
   },
   {
    "duration": 6,
    "start_time": "2024-04-14T08:20:19.931Z"
   },
   {
    "duration": 5,
    "start_time": "2024-04-14T08:20:49.449Z"
   },
   {
    "duration": 664,
    "start_time": "2024-04-14T08:20:55.676Z"
   },
   {
    "duration": 5,
    "start_time": "2024-04-14T08:25:24.269Z"
   },
   {
    "duration": 5,
    "start_time": "2024-04-14T08:31:37.325Z"
   },
   {
    "duration": 1136,
    "start_time": "2024-04-14T13:26:03.372Z"
   },
   {
    "duration": 72,
    "start_time": "2024-04-14T13:26:04.509Z"
   },
   {
    "duration": 77,
    "start_time": "2024-04-14T13:26:04.583Z"
   },
   {
    "duration": 59,
    "start_time": "2024-04-14T13:26:04.661Z"
   },
   {
    "duration": 10,
    "start_time": "2024-04-14T13:26:04.721Z"
   },
   {
    "duration": 19,
    "start_time": "2024-04-14T13:26:04.732Z"
   },
   {
    "duration": 19,
    "start_time": "2024-04-14T13:26:04.753Z"
   },
   {
    "duration": 11,
    "start_time": "2024-04-14T13:26:04.773Z"
   },
   {
    "duration": 20,
    "start_time": "2024-04-14T13:26:04.785Z"
   },
   {
    "duration": 17,
    "start_time": "2024-04-14T13:26:04.808Z"
   },
   {
    "duration": 21,
    "start_time": "2024-04-14T13:26:04.826Z"
   },
   {
    "duration": 17,
    "start_time": "2024-04-14T13:26:04.848Z"
   },
   {
    "duration": 14,
    "start_time": "2024-04-14T13:26:04.867Z"
   },
   {
    "duration": 29,
    "start_time": "2024-04-14T13:26:04.882Z"
   },
   {
    "duration": 39,
    "start_time": "2024-04-14T13:26:04.912Z"
   },
   {
    "duration": 6,
    "start_time": "2024-04-14T13:26:04.952Z"
   },
   {
    "duration": 8,
    "start_time": "2024-04-14T13:26:04.959Z"
   },
   {
    "duration": 178,
    "start_time": "2024-04-14T13:26:04.969Z"
   },
   {
    "duration": 5,
    "start_time": "2024-04-14T13:26:05.149Z"
   },
   {
    "duration": 141,
    "start_time": "2024-04-14T13:26:05.155Z"
   },
   {
    "duration": 136,
    "start_time": "2024-04-14T13:26:05.297Z"
   },
   {
    "duration": 4,
    "start_time": "2024-04-14T13:26:05.434Z"
   },
   {
    "duration": 10,
    "start_time": "2024-04-14T13:26:05.439Z"
   },
   {
    "duration": 162,
    "start_time": "2024-04-14T13:26:05.450Z"
   },
   {
    "duration": 169,
    "start_time": "2024-04-14T13:26:05.613Z"
   },
   {
    "duration": 18,
    "start_time": "2024-04-14T13:26:05.783Z"
   },
   {
    "duration": 16,
    "start_time": "2024-04-14T13:26:05.803Z"
   },
   {
    "duration": 9,
    "start_time": "2024-04-14T13:26:05.822Z"
   },
   {
    "duration": 34,
    "start_time": "2024-04-14T13:26:05.832Z"
   },
   {
    "duration": 24,
    "start_time": "2024-04-14T13:26:05.868Z"
   },
   {
    "duration": 18,
    "start_time": "2024-04-14T13:26:05.894Z"
   },
   {
    "duration": 24,
    "start_time": "2024-04-14T13:26:05.913Z"
   },
   {
    "duration": 25,
    "start_time": "2024-04-14T13:26:05.938Z"
   },
   {
    "duration": 237,
    "start_time": "2024-04-14T13:26:05.964Z"
   },
   {
    "duration": 175,
    "start_time": "2024-04-14T13:26:06.202Z"
   },
   {
    "duration": 3,
    "start_time": "2024-04-14T13:26:06.378Z"
   },
   {
    "duration": 49,
    "start_time": "2024-04-14T13:26:06.383Z"
   },
   {
    "duration": 15,
    "start_time": "2024-04-14T13:26:06.433Z"
   },
   {
    "duration": 18,
    "start_time": "2024-04-14T13:26:06.449Z"
   },
   {
    "duration": 9,
    "start_time": "2024-04-14T13:26:06.468Z"
   },
   {
    "duration": 13,
    "start_time": "2024-04-14T13:26:06.478Z"
   },
   {
    "duration": 4,
    "start_time": "2024-04-14T13:26:35.922Z"
   },
   {
    "duration": 5,
    "start_time": "2024-04-14T13:29:23.834Z"
   },
   {
    "duration": 4,
    "start_time": "2024-04-14T13:29:28.247Z"
   },
   {
    "duration": 5,
    "start_time": "2024-04-14T13:29:51.622Z"
   },
   {
    "duration": 4,
    "start_time": "2024-04-14T13:30:39.831Z"
   },
   {
    "duration": 5,
    "start_time": "2024-04-14T13:32:34.765Z"
   },
   {
    "duration": 85,
    "start_time": "2024-04-14T13:36:37.980Z"
   },
   {
    "duration": 4,
    "start_time": "2024-04-14T13:36:48.189Z"
   },
   {
    "duration": 12,
    "start_time": "2024-04-14T13:36:50.428Z"
   },
   {
    "duration": 4,
    "start_time": "2024-04-14T13:36:52.697Z"
   },
   {
    "duration": 949,
    "start_time": "2024-04-14T13:41:49.069Z"
   },
   {
    "duration": 28,
    "start_time": "2024-04-14T13:41:50.020Z"
   },
   {
    "duration": 29,
    "start_time": "2024-04-14T13:41:50.049Z"
   },
   {
    "duration": 14,
    "start_time": "2024-04-14T13:41:50.080Z"
   },
   {
    "duration": 9,
    "start_time": "2024-04-14T13:41:50.095Z"
   },
   {
    "duration": 9,
    "start_time": "2024-04-14T13:41:50.105Z"
   },
   {
    "duration": 8,
    "start_time": "2024-04-14T13:41:50.115Z"
   },
   {
    "duration": 12,
    "start_time": "2024-04-14T13:41:50.124Z"
   },
   {
    "duration": 7,
    "start_time": "2024-04-14T13:41:50.137Z"
   },
   {
    "duration": 19,
    "start_time": "2024-04-14T13:41:50.146Z"
   },
   {
    "duration": 9,
    "start_time": "2024-04-14T13:41:50.166Z"
   },
   {
    "duration": 8,
    "start_time": "2024-04-14T13:41:50.177Z"
   },
   {
    "duration": 6,
    "start_time": "2024-04-14T13:41:50.187Z"
   },
   {
    "duration": 9,
    "start_time": "2024-04-14T13:41:50.194Z"
   },
   {
    "duration": 4,
    "start_time": "2024-04-14T13:41:50.204Z"
   },
   {
    "duration": 16,
    "start_time": "2024-04-14T13:41:50.209Z"
   },
   {
    "duration": 33,
    "start_time": "2024-04-14T13:41:50.226Z"
   },
   {
    "duration": 188,
    "start_time": "2024-04-14T13:41:50.265Z"
   },
   {
    "duration": 5,
    "start_time": "2024-04-14T13:41:50.455Z"
   },
   {
    "duration": 128,
    "start_time": "2024-04-14T13:41:50.461Z"
   },
   {
    "duration": 145,
    "start_time": "2024-04-14T13:41:50.590Z"
   },
   {
    "duration": 3,
    "start_time": "2024-04-14T13:41:50.736Z"
   },
   {
    "duration": 27,
    "start_time": "2024-04-14T13:41:50.740Z"
   },
   {
    "duration": 182,
    "start_time": "2024-04-14T13:41:50.768Z"
   },
   {
    "duration": 169,
    "start_time": "2024-04-14T13:41:50.951Z"
   },
   {
    "duration": 12,
    "start_time": "2024-04-14T13:41:51.122Z"
   },
   {
    "duration": 13,
    "start_time": "2024-04-14T13:41:51.135Z"
   },
   {
    "duration": 10,
    "start_time": "2024-04-14T13:41:51.151Z"
   },
   {
    "duration": 10,
    "start_time": "2024-04-14T13:41:51.163Z"
   },
   {
    "duration": 28,
    "start_time": "2024-04-14T13:41:51.174Z"
   },
   {
    "duration": 13,
    "start_time": "2024-04-14T13:41:51.203Z"
   },
   {
    "duration": 8,
    "start_time": "2024-04-14T13:41:51.217Z"
   },
   {
    "duration": 13,
    "start_time": "2024-04-14T13:41:51.226Z"
   },
   {
    "duration": 236,
    "start_time": "2024-04-14T13:41:51.240Z"
   },
   {
    "duration": 166,
    "start_time": "2024-04-14T13:41:51.477Z"
   },
   {
    "duration": 3,
    "start_time": "2024-04-14T13:41:51.644Z"
   },
   {
    "duration": 44,
    "start_time": "2024-04-14T13:41:51.648Z"
   },
   {
    "duration": 3,
    "start_time": "2024-04-14T13:41:51.693Z"
   },
   {
    "duration": 9,
    "start_time": "2024-04-14T13:41:51.697Z"
   },
   {
    "duration": 28,
    "start_time": "2024-04-14T13:41:51.707Z"
   },
   {
    "duration": 25,
    "start_time": "2024-04-14T13:41:51.737Z"
   },
   {
    "duration": 20,
    "start_time": "2024-04-14T13:41:51.763Z"
   },
   {
    "duration": 33,
    "start_time": "2024-04-14T13:41:51.785Z"
   },
   {
    "duration": 45,
    "start_time": "2024-04-14T13:41:51.819Z"
   },
   {
    "duration": 10,
    "start_time": "2024-04-14T13:41:51.865Z"
   }
  ],
  "kernelspec": {
   "display_name": "Python 3",
   "language": "python",
   "name": "python3"
  },
  "language_info": {
   "codemirror_mode": {
    "name": "ipython",
    "version": 3
   },
   "file_extension": ".py",
   "mimetype": "text/x-python",
   "name": "python",
   "nbconvert_exporter": "python",
   "pygments_lexer": "ipython3",
   "version": "3.7.0"
  },
  "toc": {
   "base_numbering": 1,
   "nav_menu": {},
   "number_sections": true,
   "sideBar": true,
   "skip_h1_title": true,
   "title_cell": "Table of Contents",
   "title_sidebar": "Contents",
   "toc_cell": false,
   "toc_position": {
    "height": "calc(100% - 180px)",
    "left": "10px",
    "top": "150px",
    "width": "273.188px"
   },
   "toc_section_display": true,
   "toc_window_display": false
  }
 },
 "nbformat": 4,
 "nbformat_minor": 5
}
